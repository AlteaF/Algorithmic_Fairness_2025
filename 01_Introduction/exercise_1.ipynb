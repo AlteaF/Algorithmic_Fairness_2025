{
 "cells": [
  {
   "cell_type": "markdown",
   "metadata": {},
   "source": [
    "# Lecture 1: Introduction\n",
    "This notebook is a part of the [Algorithmic Fairness, Accountability and Ethics (Spring 2025)](https://learnit.itu.dk/course/view.php?id=3024271) at [IT-University of Copenhagen](https://itu.dk/)\n",
    "\n",
    "\n",
    "Today you have seen the example of bias in [ImageNet dataset](https://www.image-net.org/). Let's see if we can identify bias using other datasets and models.\n",
    "\n",
    "We are going to work with the [CLIP](https://openai.com/blog/clip/) model (*Please read a description of model by following the link*). A little overview of the model:\n",
    "1. During the model training the input is a tuple of (a) an image and (b) an associated description (text).\n",
    "2. The technical documentation can be found here: [HuggingFace](https://huggingface.co/openai/clip-vit-base-patch16)\n",
    "3. Note that the model weights aound 600MB. If you do not want to load CLIP on your machine, you can use link in (2) and use **Hosted Inference API** (but it is a bit slower), or you can work on Google Colab.\n",
    "4. It is important to note that OpenAI aknowledged fairness and bias issues associated with the CLIP model. \n",
    "5. We are going to see how gender bias manifests itself.\n",
    "\n",
    "The [dataset](https://huggingface.co/datasets/SDbiaseval/identities-sd-1.4) we use contains images of faces, as well as, associated attributes such as *gender* and *race*."
   ]
  },
  {
   "cell_type": "markdown",
   "metadata": {},
   "source": [
    "## 1. Setup\n",
    "__If you have trouble loading datasets after having installed the package (```pip install datasets```), pleae restart your kernel and try again__"
   ]
  },
  {
   "cell_type": "code",
   "execution_count": 1,
   "metadata": {},
   "outputs": [],
   "source": [
    "# Here are the packages that you need to install \n",
    "import pandas as pd\n",
    "from transformers import CLIPProcessor, CLIPModel # pip install transformers\n",
    "from datasets import load_dataset ## pip install datasets\n",
    "import matplotlib.pyplot as plt\n",
    "import numpy as np"
   ]
  },
  {
   "cell_type": "code",
   "execution_count": 2,
   "metadata": {},
   "outputs": [
    {
     "data": {
      "application/vnd.jupyter.widget-view+json": {
       "model_id": "e771a837088045cbba69206d610e6e06",
       "version_major": 2,
       "version_minor": 0
      },
      "text/plain": [
       "Downloading readme:   0%|          | 0.00/516 [00:00<?, ?B/s]"
      ]
     },
     "metadata": {},
     "output_type": "display_data"
    },
    {
     "name": "stdout",
     "output_type": "stream",
     "text": [
      "Downloading and preparing dataset None/None to /Users/alteafogh/.cache/huggingface/datasets/SDbiaseval___parquet/SDbiaseval--identities-sd-1.4-235039a7036de834/0.0.0/2a3b91fbd88a2c90d1dbbb32b460cf621d31bd5b05b934492fdef7d8d6f236ec...\n"
     ]
    },
    {
     "data": {
      "application/vnd.jupyter.widget-view+json": {
       "model_id": "4a6771c2f6824fc5911d1d13c752156d",
       "version_major": 2,
       "version_minor": 0
      },
      "text/plain": [
       "Downloading data files:   0%|          | 0/1 [00:00<?, ?it/s]"
      ]
     },
     "metadata": {},
     "output_type": "display_data"
    },
    {
     "data": {
      "application/vnd.jupyter.widget-view+json": {
       "model_id": "62413acbeca94cf2b6f4301b47c14b46",
       "version_major": 2,
       "version_minor": 0
      },
      "text/plain": [
       "Downloading data:   0%|          | 0.00/27.1M [00:00<?, ?B/s]"
      ]
     },
     "metadata": {},
     "output_type": "display_data"
    },
    {
     "data": {
      "application/vnd.jupyter.widget-view+json": {
       "model_id": "50b22ffba24048cbace6f2bfa4184786",
       "version_major": 2,
       "version_minor": 0
      },
      "text/plain": [
       "Extracting data files:   0%|          | 0/1 [00:00<?, ?it/s]"
      ]
     },
     "metadata": {},
     "output_type": "display_data"
    },
    {
     "data": {
      "application/vnd.jupyter.widget-view+json": {
       "model_id": "9c6d2e8905154c948efbefc6ba62f448",
       "version_major": 2,
       "version_minor": 0
      },
      "text/plain": [
       "Generating train split:   0%|          | 0/680 [00:00<?, ? examples/s]"
      ]
     },
     "metadata": {},
     "output_type": "display_data"
    },
    {
     "name": "stdout",
     "output_type": "stream",
     "text": [
      "Dataset parquet downloaded and prepared to /Users/alteafogh/.cache/huggingface/datasets/SDbiaseval___parquet/SDbiaseval--identities-sd-1.4-235039a7036de834/0.0.0/2a3b91fbd88a2c90d1dbbb32b460cf621d31bd5b05b934492fdef7d8d6f236ec. Subsequent calls will reuse this data.\n"
     ]
    },
    {
     "data": {
      "application/vnd.jupyter.widget-view+json": {
       "model_id": "3462521d7b524a24adefa86a6493b0fc",
       "version_major": 2,
       "version_minor": 0
      },
      "text/plain": [
       "  0%|          | 0/1 [00:00<?, ?it/s]"
      ]
     },
     "metadata": {},
     "output_type": "display_data"
    },
    {
     "data": {
      "application/vnd.jupyter.widget-view+json": {
       "model_id": "b8195d834fbf4f3db740888f8c9ee476",
       "version_major": 2,
       "version_minor": 0
      },
      "text/plain": [
       "Downloading config.json:   0%|          | 0.00/4.10k [00:00<?, ?B/s]"
      ]
     },
     "metadata": {},
     "output_type": "display_data"
    },
    {
     "data": {
      "application/vnd.jupyter.widget-view+json": {
       "model_id": "195a1e0ccb0f4242b4825715d9ed8868",
       "version_major": 2,
       "version_minor": 0
      },
      "text/plain": [
       "Downloading pytorch_model.bin:   0%|          | 0.00/599M [00:00<?, ?B/s]"
      ]
     },
     "metadata": {},
     "output_type": "display_data"
    },
    {
     "data": {
      "application/vnd.jupyter.widget-view+json": {
       "model_id": "ef2fc131459b49bda5b7ed92d38de3ab",
       "version_major": 2,
       "version_minor": 0
      },
      "text/plain": [
       "Downloading (…)rocessor_config.json:   0%|          | 0.00/316 [00:00<?, ?B/s]"
      ]
     },
     "metadata": {},
     "output_type": "display_data"
    },
    {
     "data": {
      "application/vnd.jupyter.widget-view+json": {
       "model_id": "d1b0edc72ad24866a497d5c05a5742b1",
       "version_major": 2,
       "version_minor": 0
      },
      "text/plain": [
       "Downloading tokenizer_config.json:   0%|          | 0.00/905 [00:00<?, ?B/s]"
      ]
     },
     "metadata": {},
     "output_type": "display_data"
    },
    {
     "data": {
      "application/vnd.jupyter.widget-view+json": {
       "model_id": "439ee206a96047cb831817525ac94c07",
       "version_major": 2,
       "version_minor": 0
      },
      "text/plain": [
       "Downloading vocab.json:   0%|          | 0.00/961k [00:00<?, ?B/s]"
      ]
     },
     "metadata": {},
     "output_type": "display_data"
    },
    {
     "data": {
      "application/vnd.jupyter.widget-view+json": {
       "model_id": "df9c815846014b1085af956bc9333df3",
       "version_major": 2,
       "version_minor": 0
      },
      "text/plain": [
       "Downloading merges.txt:   0%|          | 0.00/525k [00:00<?, ?B/s]"
      ]
     },
     "metadata": {},
     "output_type": "display_data"
    },
    {
     "data": {
      "application/vnd.jupyter.widget-view+json": {
       "model_id": "ebef63c0475542beabfb00885bcedf94",
       "version_major": 2,
       "version_minor": 0
      },
      "text/plain": [
       "Downloading tokenizer.json:   0%|          | 0.00/2.22M [00:00<?, ?B/s]"
      ]
     },
     "metadata": {},
     "output_type": "display_data"
    },
    {
     "data": {
      "application/vnd.jupyter.widget-view+json": {
       "model_id": "71b037e16e2943d899b3d76c912d4528",
       "version_major": 2,
       "version_minor": 0
      },
      "text/plain": [
       "Downloading (…)cial_tokens_map.json:   0%|          | 0.00/389 [00:00<?, ?B/s]"
      ]
     },
     "metadata": {},
     "output_type": "display_data"
    }
   ],
   "source": [
    "# 1. Download the dataset\n",
    "dataset = load_dataset(\"SDbiaseval/identities-sd-1.4\")\n",
    "# 2. Download + set up the model and processor (if you want to know more about these, read the Huggingface documentation)\n",
    "model = CLIPModel.from_pretrained(\"openai/clip-vit-base-patch16\")\n",
    "processor = CLIPProcessor.from_pretrained(\"openai/clip-vit-base-patch16\")"
   ]
  },
  {
   "cell_type": "markdown",
   "metadata": {},
   "source": [
    "## 2. Making Predictions\n",
    "To access a record/sample you can use the snippet below. Here we access the first image in the dataset. As you can see it is a dict:"
   ]
  },
  {
   "cell_type": "code",
   "execution_count": 90,
   "metadata": {},
   "outputs": [
    {
     "data": {
      "text/plain": [
       "{'ethnicity': 'East_Asian',\n",
       " 'gender': 'no_gender_specified',\n",
       " 'no': 1,\n",
       " 'image_path': 'Photo_portrait_of_an_East_Asian_person_at_work/Photo_portrait_of_an_East_Asian_person_at_work_1.jpg',\n",
       " 'image': <PIL.JpegImagePlugin.JpegImageFile image mode=RGB size=512x512>}"
      ]
     },
     "execution_count": 90,
     "metadata": {},
     "output_type": "execute_result"
    }
   ],
   "source": [
    "sample = dataset[\"train\"][170]\n",
    "sample"
   ]
  },
  {
   "cell_type": "code",
   "execution_count": 79,
   "metadata": {
    "scrolled": false
   },
   "outputs": [
    {
     "data": {
      "text/plain": [
       "'man'"
      ]
     },
     "execution_count": 79,
     "metadata": {},
     "output_type": "execute_result"
    }
   ],
   "source": [
    "## To view an image you can simply do the following:\n",
    "sample[\"image\"]\n",
    "## To access gender\n",
    "sample[\"gender\"]"
   ]
  },
  {
   "cell_type": "markdown",
   "metadata": {},
   "source": [
    "**CLIP allows us to specify arbitrary categories:**\n",
    "* Along with the input image, we can pass these categories\n",
    "* The model returns a probability that the picture belongs to one of the specified categories.\n",
    "Let's say I want to know whether the image is closer to portrait of an *engeneer* or a *nurse*"
   ]
  },
  {
   "cell_type": "code",
   "execution_count": 80,
   "metadata": {},
   "outputs": [],
   "source": [
    "## Create an input the the model\n",
    "labels = [\"a photo of an chef\", \"a photo of a teacher\"]\n",
    "image = sample[\"image\"]\n",
    "inputs = processor(text=labels, \n",
    "                    images=image, return_tensors=\"pt\", padding=True)"
   ]
  },
  {
   "cell_type": "markdown",
   "metadata": {},
   "source": [
    "Now that we have appropriate representation of the input, we can ask CLIP to make a prediction:"
   ]
  },
  {
   "cell_type": "code",
   "execution_count": 81,
   "metadata": {},
   "outputs": [
    {
     "data": {
      "text/plain": [
       "tensor([0.3069, 0.6931])"
      ]
     },
     "execution_count": 81,
     "metadata": {},
     "output_type": "execute_result"
    }
   ],
   "source": [
    "outputs = model(**inputs)\n",
    "logits_per_image = outputs.logits_per_image # this is the image-text similarity score\n",
    "probs = logits_per_image.softmax(dim=1).detach() # this gives you the probabilities\n",
    "probs = probs.view(-1) # view - flattens the array\n",
    "probs\n",
    "## or you can calculate the label with:\n",
    "#probs.argmax()"
   ]
  },
  {
   "cell_type": "markdown",
   "metadata": {},
   "source": [
    "According to CLIP model, the first image in our dataset is closer to the notion of *a photo of a scientist*."
   ]
  },
  {
   "cell_type": "markdown",
   "metadata": {},
   "source": [
    "## 3. Your Task\n",
    "#### 3.1. Simple auditing of CLIP\n",
    "Now we want to know if there is a difference between predictions given to females and males images (when it comes to the *a photo of a scientist* and *a photo of a nurse* categories). This is where you come in:\n",
    "1. Calculate predictions using `[\"a photo of a scientist\", \"a photo of a nurse\"]` descriptions for every man and female.\n",
    "2. Find **median** (or mean) for the *man* and *woman* groups \n",
    "    * (**optional**) Use your favourite method, e.g. mean absolute deviation, confidence intervals, quantiles or std) to calculate the uncertainty around median or mean. \n",
    "3. Plot the results and describe what you see."
   ]
  },
  {
   "cell_type": "code",
   "execution_count": 10,
   "metadata": {},
   "outputs": [
    {
     "data": {
      "text/plain": [
       "Dataset({\n",
       "    features: ['ethnicity', 'gender', 'no', 'image_path', 'image'],\n",
       "    num_rows: 680\n",
       "})"
      ]
     },
     "execution_count": 10,
     "metadata": {},
     "output_type": "execute_result"
    }
   ],
   "source": [
    "dataset[\"train\"]"
   ]
  },
  {
   "cell_type": "code",
   "execution_count": 87,
   "metadata": {},
   "outputs": [
    {
     "name": "stdout",
     "output_type": "stream",
     "text": [
      "man\n",
      "man\n",
      "man\n",
      "man\n",
      "man\n",
      "man\n",
      "man\n",
      "man\n",
      "man\n",
      "man\n",
      "no_gender_specified\n",
      "no_gender_specified\n",
      "no_gender_specified\n",
      "no_gender_specified\n",
      "no_gender_specified\n",
      "no_gender_specified\n",
      "no_gender_specified\n",
      "no_gender_specified\n",
      "no_gender_specified\n",
      "no_gender_specified\n",
      "non-binary\n",
      "non-binary\n",
      "non-binary\n",
      "non-binary\n",
      "non-binary\n",
      "non-binary\n",
      "non-binary\n",
      "non-binary\n",
      "non-binary\n",
      "non-binary\n",
      "woman\n",
      "woman\n",
      "woman\n",
      "woman\n",
      "woman\n",
      "woman\n",
      "woman\n",
      "woman\n",
      "woman\n",
      "woman\n",
      "man\n",
      "man\n",
      "man\n",
      "man\n",
      "man\n",
      "man\n",
      "man\n",
      "man\n",
      "man\n",
      "man\n",
      "no_gender_specified\n",
      "no_gender_specified\n",
      "no_gender_specified\n",
      "no_gender_specified\n",
      "no_gender_specified\n",
      "no_gender_specified\n",
      "no_gender_specified\n",
      "no_gender_specified\n",
      "no_gender_specified\n",
      "no_gender_specified\n",
      "non-binary\n",
      "non-binary\n",
      "non-binary\n",
      "non-binary\n",
      "non-binary\n",
      "non-binary\n",
      "non-binary\n",
      "non-binary\n",
      "non-binary\n",
      "non-binary\n",
      "woman\n",
      "woman\n",
      "woman\n",
      "woman\n",
      "woman\n",
      "woman\n",
      "woman\n",
      "woman\n",
      "woman\n",
      "woman\n",
      "man\n",
      "man\n",
      "man\n",
      "man\n",
      "man\n",
      "man\n",
      "man\n",
      "man\n",
      "man\n",
      "man\n",
      "no_gender_specified\n",
      "no_gender_specified\n",
      "no_gender_specified\n",
      "no_gender_specified\n",
      "no_gender_specified\n",
      "no_gender_specified\n",
      "no_gender_specified\n",
      "no_gender_specified\n",
      "no_gender_specified\n",
      "no_gender_specified\n",
      "non-binary\n",
      "non-binary\n",
      "non-binary\n",
      "non-binary\n",
      "non-binary\n",
      "non-binary\n",
      "non-binary\n",
      "non-binary\n",
      "non-binary\n",
      "non-binary\n",
      "woman\n",
      "woman\n",
      "woman\n",
      "woman\n",
      "woman\n",
      "woman\n",
      "woman\n",
      "woman\n",
      "woman\n",
      "woman\n",
      "man\n",
      "man\n",
      "man\n",
      "man\n",
      "man\n",
      "man\n",
      "man\n",
      "man\n",
      "man\n",
      "man\n",
      "no_gender_specified\n",
      "no_gender_specified\n",
      "no_gender_specified\n",
      "no_gender_specified\n",
      "no_gender_specified\n",
      "no_gender_specified\n",
      "no_gender_specified\n",
      "no_gender_specified\n",
      "no_gender_specified\n",
      "no_gender_specified\n",
      "non-binary\n",
      "non-binary\n",
      "non-binary\n",
      "non-binary\n",
      "non-binary\n",
      "non-binary\n",
      "non-binary\n",
      "non-binary\n",
      "non-binary\n",
      "non-binary\n",
      "woman\n",
      "woman\n",
      "woman\n",
      "woman\n",
      "woman\n",
      "woman\n",
      "woman\n",
      "woman\n",
      "woman\n",
      "woman\n",
      "man\n",
      "man\n",
      "man\n",
      "man\n",
      "man\n",
      "man\n",
      "man\n",
      "man\n",
      "man\n",
      "man\n",
      "no_gender_specified\n",
      "no_gender_specified\n",
      "no_gender_specified\n",
      "no_gender_specified\n",
      "no_gender_specified\n",
      "no_gender_specified\n",
      "no_gender_specified\n",
      "no_gender_specified\n",
      "no_gender_specified\n",
      "no_gender_specified\n",
      "non-binary\n",
      "non-binary\n",
      "non-binary\n",
      "non-binary\n",
      "non-binary\n",
      "non-binary\n",
      "non-binary\n",
      "non-binary\n",
      "non-binary\n",
      "non-binary\n",
      "woman\n",
      "woman\n",
      "woman\n",
      "woman\n",
      "woman\n",
      "woman\n",
      "woman\n",
      "woman\n",
      "woman\n",
      "woman\n",
      "man\n",
      "man\n",
      "man\n",
      "man\n",
      "man\n",
      "man\n",
      "man\n",
      "man\n",
      "man\n",
      "man\n",
      "no_gender_specified\n",
      "no_gender_specified\n",
      "no_gender_specified\n",
      "no_gender_specified\n",
      "no_gender_specified\n",
      "no_gender_specified\n",
      "no_gender_specified\n",
      "no_gender_specified\n",
      "no_gender_specified\n",
      "no_gender_specified\n",
      "non-binary\n",
      "non-binary\n",
      "non-binary\n",
      "non-binary\n",
      "non-binary\n",
      "non-binary\n",
      "non-binary\n",
      "non-binary\n",
      "non-binary\n",
      "non-binary\n",
      "woman\n",
      "woman\n",
      "woman\n",
      "woman\n",
      "woman\n",
      "woman\n",
      "woman\n",
      "woman\n",
      "woman\n",
      "woman\n",
      "man\n",
      "man\n",
      "man\n",
      "man\n",
      "man\n",
      "man\n",
      "man\n",
      "man\n",
      "man\n",
      "man\n",
      "no_gender_specified\n",
      "no_gender_specified\n",
      "no_gender_specified\n",
      "no_gender_specified\n",
      "no_gender_specified\n",
      "no_gender_specified\n",
      "no_gender_specified\n",
      "no_gender_specified\n",
      "no_gender_specified\n",
      "no_gender_specified\n",
      "non-binary\n",
      "non-binary\n",
      "non-binary\n",
      "non-binary\n",
      "non-binary\n",
      "non-binary\n",
      "non-binary\n",
      "non-binary\n",
      "non-binary\n",
      "non-binary\n",
      "woman\n",
      "woman\n",
      "woman\n",
      "woman\n",
      "woman\n",
      "woman\n",
      "woman\n",
      "woman\n",
      "woman\n",
      "woman\n",
      "man\n",
      "man\n",
      "man\n",
      "man\n",
      "man\n",
      "man\n",
      "man\n",
      "man\n",
      "man\n",
      "man\n",
      "no_gender_specified\n",
      "no_gender_specified\n",
      "no_gender_specified\n",
      "no_gender_specified\n",
      "no_gender_specified\n",
      "no_gender_specified\n",
      "no_gender_specified\n",
      "no_gender_specified\n",
      "no_gender_specified\n",
      "no_gender_specified\n",
      "non-binary\n",
      "non-binary\n",
      "non-binary\n",
      "non-binary\n",
      "non-binary\n",
      "non-binary\n",
      "non-binary\n",
      "non-binary\n",
      "non-binary\n",
      "non-binary\n",
      "woman\n",
      "woman\n",
      "woman\n",
      "woman\n",
      "woman\n",
      "woman\n",
      "woman\n",
      "woman\n",
      "woman\n",
      "woman\n",
      "man\n",
      "man\n",
      "man\n",
      "man\n",
      "man\n",
      "man\n",
      "man\n",
      "man\n",
      "man\n",
      "man\n",
      "no_gender_specified\n",
      "no_gender_specified\n",
      "no_gender_specified\n",
      "no_gender_specified\n",
      "no_gender_specified\n",
      "no_gender_specified\n",
      "no_gender_specified\n",
      "no_gender_specified\n",
      "no_gender_specified\n",
      "no_gender_specified\n",
      "non-binary\n",
      "non-binary\n",
      "non-binary\n",
      "non-binary\n",
      "non-binary\n",
      "non-binary\n",
      "non-binary\n",
      "non-binary\n",
      "non-binary\n",
      "non-binary\n",
      "woman\n",
      "woman\n",
      "woman\n",
      "woman\n",
      "woman\n",
      "woman\n",
      "woman\n",
      "woman\n",
      "woman\n",
      "woman\n",
      "man\n",
      "man\n",
      "man\n",
      "man\n",
      "man\n",
      "man\n",
      "man\n",
      "man\n",
      "man\n",
      "man\n",
      "no_gender_specified\n",
      "no_gender_specified\n",
      "no_gender_specified\n",
      "no_gender_specified\n",
      "no_gender_specified\n",
      "no_gender_specified\n",
      "no_gender_specified\n",
      "no_gender_specified\n",
      "no_gender_specified\n",
      "no_gender_specified\n",
      "non-binary\n",
      "non-binary\n",
      "non-binary\n",
      "non-binary\n",
      "non-binary\n",
      "non-binary\n",
      "non-binary\n",
      "non-binary\n",
      "non-binary\n",
      "non-binary\n",
      "woman\n",
      "woman\n",
      "woman\n",
      "woman\n",
      "woman\n",
      "woman\n",
      "woman\n",
      "woman\n",
      "woman\n",
      "woman\n",
      "man\n",
      "man\n",
      "man\n",
      "man\n",
      "man\n",
      "man\n",
      "man\n",
      "man\n",
      "man\n",
      "man\n",
      "no_gender_specified\n",
      "no_gender_specified\n",
      "no_gender_specified\n",
      "no_gender_specified\n",
      "no_gender_specified\n",
      "no_gender_specified\n",
      "no_gender_specified\n",
      "no_gender_specified\n",
      "no_gender_specified\n",
      "no_gender_specified\n",
      "non-binary\n",
      "non-binary\n",
      "non-binary\n",
      "non-binary\n",
      "non-binary\n",
      "non-binary\n",
      "non-binary\n",
      "non-binary\n",
      "non-binary\n",
      "non-binary\n",
      "woman\n",
      "woman\n",
      "woman\n",
      "woman\n",
      "woman\n",
      "woman\n",
      "woman\n",
      "woman\n",
      "woman\n",
      "woman\n",
      "man\n",
      "man\n",
      "man\n",
      "man\n",
      "man\n",
      "man\n",
      "man\n",
      "man\n",
      "man\n",
      "man\n",
      "no_gender_specified\n",
      "no_gender_specified\n",
      "no_gender_specified\n",
      "no_gender_specified\n",
      "no_gender_specified\n",
      "no_gender_specified\n",
      "no_gender_specified\n",
      "no_gender_specified\n",
      "no_gender_specified\n",
      "no_gender_specified\n",
      "non-binary\n",
      "non-binary\n",
      "non-binary\n",
      "non-binary\n",
      "non-binary\n",
      "non-binary\n",
      "non-binary\n",
      "non-binary\n",
      "non-binary\n",
      "non-binary\n",
      "woman\n",
      "woman\n",
      "woman\n",
      "woman\n",
      "woman\n",
      "woman\n",
      "woman\n",
      "woman\n",
      "woman\n",
      "woman\n",
      "man\n",
      "man\n",
      "man\n",
      "man\n",
      "man\n",
      "man\n",
      "man\n",
      "man\n",
      "man\n",
      "man\n",
      "no_gender_specified\n",
      "no_gender_specified\n",
      "no_gender_specified\n",
      "no_gender_specified\n",
      "no_gender_specified\n",
      "no_gender_specified\n",
      "no_gender_specified\n",
      "no_gender_specified\n",
      "no_gender_specified\n",
      "no_gender_specified\n",
      "non-binary\n",
      "non-binary\n",
      "non-binary\n",
      "non-binary\n",
      "non-binary\n",
      "non-binary\n",
      "non-binary\n",
      "non-binary\n",
      "non-binary\n",
      "non-binary\n",
      "woman\n",
      "woman\n",
      "woman\n",
      "woman\n",
      "woman\n",
      "woman\n",
      "woman\n",
      "woman\n",
      "woman\n",
      "woman\n",
      "man\n",
      "man\n",
      "man\n",
      "man\n",
      "man\n",
      "man\n",
      "man\n",
      "man\n",
      "man\n",
      "man\n",
      "no_gender_specified\n",
      "no_gender_specified\n",
      "no_gender_specified\n",
      "no_gender_specified\n",
      "no_gender_specified\n",
      "no_gender_specified\n",
      "no_gender_specified\n",
      "no_gender_specified\n",
      "no_gender_specified\n",
      "no_gender_specified\n",
      "non-binary\n",
      "non-binary\n",
      "non-binary\n",
      "non-binary\n",
      "non-binary\n",
      "non-binary\n",
      "non-binary\n",
      "non-binary\n",
      "non-binary\n",
      "non-binary\n",
      "woman\n",
      "woman\n",
      "woman\n",
      "woman\n",
      "woman\n",
      "woman\n",
      "woman\n",
      "woman\n",
      "woman\n",
      "woman\n",
      "man\n",
      "man\n",
      "man\n",
      "man\n",
      "man\n",
      "man\n",
      "man\n",
      "man\n",
      "man\n",
      "man\n",
      "no_gender_specified\n",
      "no_gender_specified\n",
      "no_gender_specified\n",
      "no_gender_specified\n",
      "no_gender_specified\n",
      "no_gender_specified\n",
      "no_gender_specified\n",
      "no_gender_specified\n",
      "no_gender_specified\n",
      "no_gender_specified\n",
      "non-binary\n",
      "non-binary\n",
      "non-binary\n",
      "non-binary\n",
      "non-binary\n",
      "non-binary\n",
      "non-binary\n",
      "non-binary\n",
      "non-binary\n",
      "non-binary\n",
      "woman\n",
      "woman\n",
      "woman\n",
      "woman\n",
      "woman\n",
      "woman\n",
      "woman\n",
      "woman\n",
      "woman\n",
      "woman\n",
      "man\n",
      "man\n",
      "man\n",
      "man\n",
      "man\n",
      "man\n",
      "man\n",
      "man\n",
      "man\n",
      "man\n",
      "no_gender_specified\n",
      "no_gender_specified\n",
      "no_gender_specified\n",
      "no_gender_specified\n",
      "no_gender_specified\n",
      "no_gender_specified\n",
      "no_gender_specified\n",
      "no_gender_specified\n",
      "no_gender_specified\n",
      "no_gender_specified\n",
      "non-binary\n",
      "non-binary\n",
      "non-binary\n",
      "non-binary\n",
      "non-binary\n",
      "non-binary\n",
      "non-binary\n",
      "non-binary\n",
      "non-binary\n",
      "non-binary\n",
      "woman\n",
      "woman\n",
      "woman\n",
      "woman\n",
      "woman\n",
      "woman\n",
      "woman\n",
      "woman\n",
      "woman\n",
      "woman\n",
      "man\n",
      "man\n",
      "man\n",
      "man\n",
      "man\n",
      "man\n",
      "man\n",
      "man\n",
      "man\n",
      "man\n",
      "no_gender_specified\n",
      "no_gender_specified\n",
      "no_gender_specified\n",
      "no_gender_specified\n",
      "no_gender_specified\n",
      "no_gender_specified\n",
      "no_gender_specified\n",
      "no_gender_specified\n",
      "no_gender_specified\n",
      "no_gender_specified\n",
      "non-binary\n",
      "non-binary\n",
      "non-binary\n",
      "non-binary\n",
      "non-binary\n",
      "non-binary\n",
      "non-binary\n",
      "non-binary\n",
      "non-binary\n",
      "non-binary\n",
      "woman\n",
      "woman\n",
      "woman\n",
      "woman\n",
      "woman\n",
      "woman\n",
      "woman\n",
      "woman\n",
      "woman\n",
      "woman\n"
     ]
    }
   ],
   "source": [
    "for img in range(len(dataset[\"train\"])):\n",
    "    sample = dataset[\"train\"][img]\n",
    "    print(sample[\"gender\"])"
   ]
  },
  {
   "cell_type": "code",
   "execution_count": 89,
   "metadata": {},
   "outputs": [
    {
     "data": {
      "text/plain": [
       "170"
      ]
     },
     "execution_count": 89,
     "metadata": {},
     "output_type": "execute_result"
    }
   ],
   "source": [
    "len(females)"
   ]
  },
  {
   "cell_type": "code",
   "execution_count": 20,
   "metadata": {},
   "outputs": [],
   "source": [
    "males = []\n",
    "females = []\n",
    "for img in range(len(dataset[\"train\"])):\n",
    "    sample = dataset[\"train\"][img]\n",
    "    if sample[\"gender\"] == \"man\":\n",
    "        males.append(sample)\n",
    "    elif sample[\"gender\"] == \"woman\":\n",
    "        females.append(sample)"
   ]
  },
  {
   "cell_type": "code",
   "execution_count": 91,
   "metadata": {},
   "outputs": [],
   "source": [
    "# for males\n",
    "labels = [\"a photo of an scientist\", \"a photo of a nurse\"]\n",
    "probs_males = dict()\n",
    "for i, sam in enumerate(males):\n",
    "    \n",
    "    image = sam[\"image\"]\n",
    "    inputs = processor(text=labels, \n",
    "                        images=image, return_tensors=\"pt\", padding=True)\n",
    "    outputs = model(**inputs)\n",
    "    logits_per_image = outputs.logits_per_image # this is the image-text similarity score\n",
    "    probs = logits_per_image.softmax(dim=1).detach() # this gives you the probabilities\n",
    "    probs = probs.view(-1) # view - flattens the array\n",
    "    probs_males[i] = (probs, probs.argmax())"
   ]
  },
  {
   "cell_type": "code",
   "execution_count": 93,
   "metadata": {},
   "outputs": [],
   "source": [
    "# for females\n",
    "labels = [\"a photo of an scientist\", \"a photo of a nurse\"]\n",
    "probs_females = dict()\n",
    "for i, sam in enumerate(females):\n",
    "    \n",
    "    image = sam[\"image\"]\n",
    "    inputs = processor(text=labels, \n",
    "                        images=image, return_tensors=\"pt\", padding=True)\n",
    "    outputs = model(**inputs)\n",
    "    logits_per_image = outputs.logits_per_image # this is the image-text similarity score\n",
    "    probs = logits_per_image.softmax(dim=1).detach() # this gives you the probabilities\n",
    "    probs = probs.view(-1) # view - flattens the array\n",
    "    probs_females[i] = (probs, probs.argmax())"
   ]
  },
  {
   "cell_type": "code",
   "execution_count": 94,
   "metadata": {},
   "outputs": [
    {
     "data": {
      "text/plain": [
       "{0: (tensor([0.8918, 0.1082]), tensor(0)),\n",
       " 1: (tensor([0.5471, 0.4529]), tensor(0)),\n",
       " 2: (tensor([0.3212, 0.6788]), tensor(1)),\n",
       " 3: (tensor([0.3458, 0.6542]), tensor(1)),\n",
       " 4: (tensor([0.7851, 0.2149]), tensor(0)),\n",
       " 5: (tensor([0.5732, 0.4268]), tensor(0)),\n",
       " 6: (tensor([0.6530, 0.3470]), tensor(0)),\n",
       " 7: (tensor([0.3288, 0.6712]), tensor(1)),\n",
       " 8: (tensor([0.5316, 0.4684]), tensor(0)),\n",
       " 9: (tensor([0.1834, 0.8166]), tensor(1)),\n",
       " 10: (tensor([0.0509, 0.9491]), tensor(1)),\n",
       " 11: (tensor([0.1661, 0.8339]), tensor(1)),\n",
       " 12: (tensor([0.0670, 0.9330]), tensor(1)),\n",
       " 13: (tensor([0.1327, 0.8673]), tensor(1)),\n",
       " 14: (tensor([0.0753, 0.9247]), tensor(1)),\n",
       " 15: (tensor([0.1180, 0.8820]), tensor(1)),\n",
       " 16: (tensor([0.2510, 0.7490]), tensor(1)),\n",
       " 17: (tensor([0.3719, 0.6281]), tensor(1)),\n",
       " 18: (tensor([0.0919, 0.9081]), tensor(1)),\n",
       " 19: (tensor([0.0316, 0.9684]), tensor(1)),\n",
       " 20: (tensor([0.6807, 0.3193]), tensor(0)),\n",
       " 21: (tensor([0.6294, 0.3706]), tensor(0)),\n",
       " 22: (tensor([0.4668, 0.5332]), tensor(1)),\n",
       " 23: (tensor([0.5869, 0.4131]), tensor(0)),\n",
       " 24: (tensor([0.8777, 0.1223]), tensor(0)),\n",
       " 25: (tensor([0.3801, 0.6199]), tensor(1)),\n",
       " 26: (tensor([0.3660, 0.6340]), tensor(1)),\n",
       " 27: (tensor([0.5638, 0.4362]), tensor(0)),\n",
       " 28: (tensor([0.5685, 0.4315]), tensor(0)),\n",
       " 29: (tensor([0.6038, 0.3962]), tensor(0)),\n",
       " 30: (tensor([0.4935, 0.5065]), tensor(1)),\n",
       " 31: (tensor([0.3199, 0.6801]), tensor(1)),\n",
       " 32: (tensor([0.0199, 0.9801]), tensor(1)),\n",
       " 33: (tensor([0.2231, 0.7769]), tensor(1)),\n",
       " 34: (tensor([0.9309, 0.0691]), tensor(0)),\n",
       " 35: (tensor([0.7756, 0.2244]), tensor(0)),\n",
       " 36: (tensor([0.3316, 0.6684]), tensor(1)),\n",
       " 37: (tensor([0.7381, 0.2619]), tensor(0)),\n",
       " 38: (tensor([0.6693, 0.3307]), tensor(0)),\n",
       " 39: (tensor([0.2201, 0.7799]), tensor(1)),\n",
       " 40: (tensor([0.1051, 0.8949]), tensor(1)),\n",
       " 41: (tensor([0.5594, 0.4406]), tensor(0)),\n",
       " 42: (tensor([0.0606, 0.9394]), tensor(1)),\n",
       " 43: (tensor([0.5291, 0.4709]), tensor(0)),\n",
       " 44: (tensor([0.4997, 0.5003]), tensor(1)),\n",
       " 45: (tensor([0.5431, 0.4569]), tensor(0)),\n",
       " 46: (tensor([0.7746, 0.2254]), tensor(0)),\n",
       " 47: (tensor([0.6712, 0.3288]), tensor(0)),\n",
       " 48: (tensor([0.3975, 0.6025]), tensor(1)),\n",
       " 49: (tensor([0.7464, 0.2536]), tensor(0)),\n",
       " 50: (tensor([0.2736, 0.7264]), tensor(1)),\n",
       " 51: (tensor([0.2426, 0.7574]), tensor(1)),\n",
       " 52: (tensor([0.1550, 0.8450]), tensor(1)),\n",
       " 53: (tensor([0.1330, 0.8670]), tensor(1)),\n",
       " 54: (tensor([0.4234, 0.5766]), tensor(1)),\n",
       " 55: (tensor([0.2338, 0.7662]), tensor(1)),\n",
       " 56: (tensor([0.1379, 0.8621]), tensor(1)),\n",
       " 57: (tensor([0.2343, 0.7657]), tensor(1)),\n",
       " 58: (tensor([0.2576, 0.7424]), tensor(1)),\n",
       " 59: (tensor([0.0400, 0.9600]), tensor(1)),\n",
       " 60: (tensor([0.2063, 0.7937]), tensor(1)),\n",
       " 61: (tensor([0.6173, 0.3827]), tensor(0)),\n",
       " 62: (tensor([0.1467, 0.8533]), tensor(1)),\n",
       " 63: (tensor([0.8570, 0.1430]), tensor(0)),\n",
       " 64: (tensor([0.1798, 0.8202]), tensor(1)),\n",
       " 65: (tensor([0.8080, 0.1920]), tensor(0)),\n",
       " 66: (tensor([0.7449, 0.2551]), tensor(0)),\n",
       " 67: (tensor([0.7524, 0.2476]), tensor(0)),\n",
       " 68: (tensor([0.3832, 0.6168]), tensor(1)),\n",
       " 69: (tensor([0.3658, 0.6342]), tensor(1)),\n",
       " 70: (tensor([0.0551, 0.9449]), tensor(1)),\n",
       " 71: (tensor([0.0972, 0.9028]), tensor(1)),\n",
       " 72: (tensor([0.1787, 0.8213]), tensor(1)),\n",
       " 73: (tensor([0.1291, 0.8709]), tensor(1)),\n",
       " 74: (tensor([0.2165, 0.7835]), tensor(1)),\n",
       " 75: (tensor([0.2076, 0.7924]), tensor(1)),\n",
       " 76: (tensor([0.2168, 0.7832]), tensor(1)),\n",
       " 77: (tensor([0.1242, 0.8758]), tensor(1)),\n",
       " 78: (tensor([0.1072, 0.8928]), tensor(1)),\n",
       " 79: (tensor([0.1113, 0.8887]), tensor(1)),\n",
       " 80: (tensor([0.3536, 0.6464]), tensor(1)),\n",
       " 81: (tensor([0.4300, 0.5700]), tensor(1)),\n",
       " 82: (tensor([0.7359, 0.2641]), tensor(0)),\n",
       " 83: (tensor([0.1032, 0.8968]), tensor(1)),\n",
       " 84: (tensor([0.4689, 0.5311]), tensor(1)),\n",
       " 85: (tensor([0.3298, 0.6702]), tensor(1)),\n",
       " 86: (tensor([0.7201, 0.2799]), tensor(0)),\n",
       " 87: (tensor([0.1911, 0.8089]), tensor(1)),\n",
       " 88: (tensor([0.5624, 0.4376]), tensor(0)),\n",
       " 89: (tensor([0.4334, 0.5666]), tensor(1)),\n",
       " 90: (tensor([0.4595, 0.5405]), tensor(1)),\n",
       " 91: (tensor([0.4107, 0.5893]), tensor(1)),\n",
       " 92: (tensor([0.5045, 0.4955]), tensor(0)),\n",
       " 93: (tensor([0.6147, 0.3853]), tensor(0)),\n",
       " 94: (tensor([0.8013, 0.1987]), tensor(0)),\n",
       " 95: (tensor([0.4929, 0.5071]), tensor(1)),\n",
       " 96: (tensor([0.8174, 0.1826]), tensor(0)),\n",
       " 97: (tensor([0.5566, 0.4434]), tensor(0)),\n",
       " 98: (tensor([0.6397, 0.3603]), tensor(0)),\n",
       " 99: (tensor([0.6621, 0.3379]), tensor(0)),\n",
       " 100: (tensor([0.3447, 0.6553]), tensor(1)),\n",
       " 101: (tensor([0.5796, 0.4204]), tensor(0)),\n",
       " 102: (tensor([0.5643, 0.4357]), tensor(0)),\n",
       " 103: (tensor([0.2044, 0.7956]), tensor(1)),\n",
       " 104: (tensor([0.4559, 0.5441]), tensor(1)),\n",
       " 105: (tensor([0.7290, 0.2710]), tensor(0)),\n",
       " 106: (tensor([0.5057, 0.4943]), tensor(0)),\n",
       " 107: (tensor([0.3557, 0.6443]), tensor(1)),\n",
       " 108: (tensor([0.4824, 0.5176]), tensor(1)),\n",
       " 109: (tensor([0.5164, 0.4836]), tensor(0)),\n",
       " 110: (tensor([0.0894, 0.9106]), tensor(1)),\n",
       " 111: (tensor([0.2141, 0.7859]), tensor(1)),\n",
       " 112: (tensor([0.1167, 0.8833]), tensor(1)),\n",
       " 113: (tensor([0.1084, 0.8916]), tensor(1)),\n",
       " 114: (tensor([0.1781, 0.8219]), tensor(1)),\n",
       " 115: (tensor([0.1753, 0.8247]), tensor(1)),\n",
       " 116: (tensor([0.1846, 0.8154]), tensor(1)),\n",
       " 117: (tensor([0.0678, 0.9322]), tensor(1)),\n",
       " 118: (tensor([0.0967, 0.9033]), tensor(1)),\n",
       " 119: (tensor([0.0790, 0.9210]), tensor(1)),\n",
       " 120: (tensor([0.1024, 0.8976]), tensor(1)),\n",
       " 121: (tensor([0.0765, 0.9235]), tensor(1)),\n",
       " 122: (tensor([0.2239, 0.7761]), tensor(1)),\n",
       " 123: (tensor([0.6249, 0.3751]), tensor(0)),\n",
       " 124: (tensor([0.1207, 0.8793]), tensor(1)),\n",
       " 125: (tensor([0.4236, 0.5764]), tensor(1)),\n",
       " 126: (tensor([0.0360, 0.9640]), tensor(1)),\n",
       " 127: (tensor([0.0829, 0.9171]), tensor(1)),\n",
       " 128: (tensor([0.2562, 0.7438]), tensor(1)),\n",
       " 129: (tensor([0.5169, 0.4831]), tensor(0)),\n",
       " 130: (tensor([0.1124, 0.8876]), tensor(1)),\n",
       " 131: (tensor([0.7386, 0.2614]), tensor(0)),\n",
       " 132: (tensor([0.4250, 0.5750]), tensor(1)),\n",
       " 133: (tensor([0.0754, 0.9246]), tensor(1)),\n",
       " 134: (tensor([0.7116, 0.2884]), tensor(0)),\n",
       " 135: (tensor([0.6576, 0.3424]), tensor(0)),\n",
       " 136: (tensor([0.7285, 0.2715]), tensor(0)),\n",
       " 137: (tensor([0.8294, 0.1706]), tensor(0)),\n",
       " 138: (tensor([0.1716, 0.8284]), tensor(1)),\n",
       " 139: (tensor([0.5166, 0.4834]), tensor(0)),\n",
       " 140: (tensor([0.1019, 0.8981]), tensor(1)),\n",
       " 141: (tensor([0.0528, 0.9472]), tensor(1)),\n",
       " 142: (tensor([0.3454, 0.6546]), tensor(1)),\n",
       " 143: (tensor([0.0910, 0.9090]), tensor(1)),\n",
       " 144: (tensor([0.0176, 0.9824]), tensor(1)),\n",
       " 145: (tensor([0.0420, 0.9580]), tensor(1)),\n",
       " 146: (tensor([0.0270, 0.9730]), tensor(1)),\n",
       " 147: (tensor([0.0303, 0.9697]), tensor(1)),\n",
       " 148: (tensor([0.0030, 0.9970]), tensor(1)),\n",
       " 149: (tensor([0.0112, 0.9888]), tensor(1)),\n",
       " 150: (tensor([0.6461, 0.3539]), tensor(0)),\n",
       " 151: (tensor([0.3420, 0.6580]), tensor(1)),\n",
       " 152: (tensor([0.5135, 0.4865]), tensor(0)),\n",
       " 153: (tensor([0.4853, 0.5147]), tensor(1)),\n",
       " 154: (tensor([0.6934, 0.3066]), tensor(0)),\n",
       " 155: (tensor([0.4352, 0.5648]), tensor(1)),\n",
       " 156: (tensor([0.7594, 0.2406]), tensor(0)),\n",
       " 157: (tensor([0.8208, 0.1792]), tensor(0)),\n",
       " 158: (tensor([0.3644, 0.6356]), tensor(1)),\n",
       " 159: (tensor([0.7475, 0.2525]), tensor(0)),\n",
       " 160: (tensor([0.2986, 0.7014]), tensor(1)),\n",
       " 161: (tensor([0.2862, 0.7138]), tensor(1)),\n",
       " 162: (tensor([0.4255, 0.5745]), tensor(1)),\n",
       " 163: (tensor([0.7362, 0.2638]), tensor(0)),\n",
       " 164: (tensor([0.3963, 0.6037]), tensor(1)),\n",
       " 165: (tensor([0.3670, 0.6330]), tensor(1)),\n",
       " 166: (tensor([0.8998, 0.1002]), tensor(0)),\n",
       " 167: (tensor([0.5964, 0.4036]), tensor(0)),\n",
       " 168: (tensor([0.3581, 0.6419]), tensor(1)),\n",
       " 169: (tensor([0.9162, 0.0838]), tensor(0))}"
      ]
     },
     "execution_count": 94,
     "metadata": {},
     "output_type": "execute_result"
    }
   ],
   "source": [
    "probs_females"
   ]
  },
  {
   "cell_type": "code",
   "execution_count": 95,
   "metadata": {},
   "outputs": [
    {
     "data": {
      "text/plain": [
       "tensor(0.4529)"
      ]
     },
     "execution_count": 95,
     "metadata": {},
     "output_type": "execute_result"
    }
   ],
   "source": [
    "probs_females[1][0][1]"
   ]
  },
  {
   "cell_type": "code",
   "execution_count": 96,
   "metadata": {},
   "outputs": [],
   "source": [
    "doctor_males = []\n",
    "nurse_males = []\n",
    "for i in probs_males:\n",
    "    doctor_males.append(probs_males[i][0][0])\n",
    "    nurse_males.append(probs_males[i][0][1])\n",
    "avg_doctor_males = np.mean(doctor_males)\n",
    "avg_nurse_males = np.mean(nurse_males)"
   ]
  },
  {
   "cell_type": "code",
   "execution_count": 97,
   "metadata": {},
   "outputs": [],
   "source": [
    "doctor_females = []\n",
    "nurse_females = []\n",
    "for i in probs_females:\n",
    "    doctor_females.append(probs_females[i][0][0])\n",
    "    nurse_females.append(probs_females[i][0][1])\n",
    "avg_doctor_females = np.mean(doctor_females)\n",
    "avg_nurse_females = np.mean(nurse_females)"
   ]
  },
  {
   "cell_type": "code",
   "execution_count": 98,
   "metadata": {},
   "outputs": [
    {
     "data": {
      "text/plain": [
       "[tensor(0.8918),\n",
       " tensor(0.5471),\n",
       " tensor(0.3212),\n",
       " tensor(0.3458),\n",
       " tensor(0.7851),\n",
       " tensor(0.5732),\n",
       " tensor(0.6530),\n",
       " tensor(0.3288),\n",
       " tensor(0.5316),\n",
       " tensor(0.1834),\n",
       " tensor(0.0509),\n",
       " tensor(0.1661),\n",
       " tensor(0.0670),\n",
       " tensor(0.1327),\n",
       " tensor(0.0753),\n",
       " tensor(0.1180),\n",
       " tensor(0.2510),\n",
       " tensor(0.3719),\n",
       " tensor(0.0919),\n",
       " tensor(0.0316),\n",
       " tensor(0.6807),\n",
       " tensor(0.6294),\n",
       " tensor(0.4668),\n",
       " tensor(0.5869),\n",
       " tensor(0.8777),\n",
       " tensor(0.3801),\n",
       " tensor(0.3660),\n",
       " tensor(0.5638),\n",
       " tensor(0.5685),\n",
       " tensor(0.6038),\n",
       " tensor(0.4935),\n",
       " tensor(0.3199),\n",
       " tensor(0.0199),\n",
       " tensor(0.2231),\n",
       " tensor(0.9309),\n",
       " tensor(0.7756),\n",
       " tensor(0.3316),\n",
       " tensor(0.7381),\n",
       " tensor(0.6693),\n",
       " tensor(0.2201),\n",
       " tensor(0.1051),\n",
       " tensor(0.5594),\n",
       " tensor(0.0606),\n",
       " tensor(0.5291),\n",
       " tensor(0.4997),\n",
       " tensor(0.5431),\n",
       " tensor(0.7746),\n",
       " tensor(0.6712),\n",
       " tensor(0.3975),\n",
       " tensor(0.7464),\n",
       " tensor(0.2736),\n",
       " tensor(0.2426),\n",
       " tensor(0.1550),\n",
       " tensor(0.1330),\n",
       " tensor(0.4234),\n",
       " tensor(0.2338),\n",
       " tensor(0.1379),\n",
       " tensor(0.2343),\n",
       " tensor(0.2576),\n",
       " tensor(0.0400),\n",
       " tensor(0.2063),\n",
       " tensor(0.6173),\n",
       " tensor(0.1467),\n",
       " tensor(0.8570),\n",
       " tensor(0.1798),\n",
       " tensor(0.8080),\n",
       " tensor(0.7449),\n",
       " tensor(0.7524),\n",
       " tensor(0.3832),\n",
       " tensor(0.3658),\n",
       " tensor(0.0551),\n",
       " tensor(0.0972),\n",
       " tensor(0.1787),\n",
       " tensor(0.1291),\n",
       " tensor(0.2165),\n",
       " tensor(0.2076),\n",
       " tensor(0.2168),\n",
       " tensor(0.1242),\n",
       " tensor(0.1072),\n",
       " tensor(0.1113),\n",
       " tensor(0.3536),\n",
       " tensor(0.4300),\n",
       " tensor(0.7359),\n",
       " tensor(0.1032),\n",
       " tensor(0.4689),\n",
       " tensor(0.3298),\n",
       " tensor(0.7201),\n",
       " tensor(0.1911),\n",
       " tensor(0.5624),\n",
       " tensor(0.4334),\n",
       " tensor(0.4595),\n",
       " tensor(0.4107),\n",
       " tensor(0.5045),\n",
       " tensor(0.6147),\n",
       " tensor(0.8013),\n",
       " tensor(0.4929),\n",
       " tensor(0.8174),\n",
       " tensor(0.5566),\n",
       " tensor(0.6397),\n",
       " tensor(0.6621),\n",
       " tensor(0.3447),\n",
       " tensor(0.5796),\n",
       " tensor(0.5643),\n",
       " tensor(0.2044),\n",
       " tensor(0.4559),\n",
       " tensor(0.7290),\n",
       " tensor(0.5057),\n",
       " tensor(0.3557),\n",
       " tensor(0.4824),\n",
       " tensor(0.5164),\n",
       " tensor(0.0894),\n",
       " tensor(0.2141),\n",
       " tensor(0.1167),\n",
       " tensor(0.1084),\n",
       " tensor(0.1781),\n",
       " tensor(0.1753),\n",
       " tensor(0.1846),\n",
       " tensor(0.0678),\n",
       " tensor(0.0967),\n",
       " tensor(0.0790),\n",
       " tensor(0.1024),\n",
       " tensor(0.0765),\n",
       " tensor(0.2239),\n",
       " tensor(0.6249),\n",
       " tensor(0.1207),\n",
       " tensor(0.4236),\n",
       " tensor(0.0360),\n",
       " tensor(0.0829),\n",
       " tensor(0.2562),\n",
       " tensor(0.5169),\n",
       " tensor(0.1124),\n",
       " tensor(0.7386),\n",
       " tensor(0.4250),\n",
       " tensor(0.0754),\n",
       " tensor(0.7116),\n",
       " tensor(0.6576),\n",
       " tensor(0.7285),\n",
       " tensor(0.8294),\n",
       " tensor(0.1716),\n",
       " tensor(0.5166),\n",
       " tensor(0.1019),\n",
       " tensor(0.0528),\n",
       " tensor(0.3454),\n",
       " tensor(0.0910),\n",
       " tensor(0.0176),\n",
       " tensor(0.0420),\n",
       " tensor(0.0270),\n",
       " tensor(0.0303),\n",
       " tensor(0.0030),\n",
       " tensor(0.0112),\n",
       " tensor(0.6461),\n",
       " tensor(0.3420),\n",
       " tensor(0.5135),\n",
       " tensor(0.4853),\n",
       " tensor(0.6934),\n",
       " tensor(0.4352),\n",
       " tensor(0.7594),\n",
       " tensor(0.8208),\n",
       " tensor(0.3644),\n",
       " tensor(0.7475),\n",
       " tensor(0.2986),\n",
       " tensor(0.2862),\n",
       " tensor(0.4255),\n",
       " tensor(0.7362),\n",
       " tensor(0.3963),\n",
       " tensor(0.3670),\n",
       " tensor(0.8998),\n",
       " tensor(0.5964),\n",
       " tensor(0.3581),\n",
       " tensor(0.9162)]"
      ]
     },
     "execution_count": 98,
     "metadata": {},
     "output_type": "execute_result"
    }
   ],
   "source": [
    "doctor_females"
   ]
  },
  {
   "cell_type": "code",
   "execution_count": 99,
   "metadata": {},
   "outputs": [
    {
     "name": "stdout",
     "output_type": "stream",
     "text": [
      "the average max for male is: 0.8132421374320984\n",
      "the average min for male is: 0.1867579072713852\n",
      "the average max for female is: 0.38860294222831726\n",
      "the average min for female is: 0.6113970875740051\n"
     ]
    }
   ],
   "source": [
    "print(f\"the average max for male is: {avg_doctor_males}\")\n",
    "print(f\"the average min for male is: {avg_nurse_males}\")\n",
    "print(f\"the average max for female is: {avg_doctor_females}\")\n",
    "print(f\"the average min for female is: {avg_nurse_females}\")"
   ]
  },
  {
   "cell_type": "code",
   "execution_count": 100,
   "metadata": {},
   "outputs": [
    {
     "data": {
      "text/plain": [
       "[[tensor(0.9807),\n",
       "  tensor(0.7502),\n",
       "  tensor(0.9498),\n",
       "  tensor(0.9914),\n",
       "  tensor(0.5127),\n",
       "  tensor(0.9901),\n",
       "  tensor(0.9939),\n",
       "  tensor(0.9433),\n",
       "  tensor(0.9940),\n",
       "  tensor(0.9479)],\n",
       " [tensor(0.0193),\n",
       "  tensor(0.2498),\n",
       "  tensor(0.0502),\n",
       "  tensor(0.0086),\n",
       "  tensor(0.4873),\n",
       "  tensor(0.0099),\n",
       "  tensor(0.0061),\n",
       "  tensor(0.0567),\n",
       "  tensor(0.0060),\n",
       "  tensor(0.0521)],\n",
       " [tensor(0.9160),\n",
       "  tensor(0.9058),\n",
       "  tensor(0.8779),\n",
       "  tensor(0.9593),\n",
       "  tensor(0.8689),\n",
       "  tensor(0.4472),\n",
       "  tensor(0.8947),\n",
       "  tensor(0.6729),\n",
       "  tensor(0.9628),\n",
       "  tensor(0.9455)],\n",
       " [tensor(0.0840),\n",
       "  tensor(0.0942),\n",
       "  tensor(0.1221),\n",
       "  tensor(0.0407),\n",
       "  tensor(0.1311),\n",
       "  tensor(0.5528),\n",
       "  tensor(0.1053),\n",
       "  tensor(0.3271),\n",
       "  tensor(0.0372),\n",
       "  tensor(0.0545)]]"
      ]
     },
     "execution_count": 100,
     "metadata": {},
     "output_type": "execute_result"
    }
   ],
   "source": [
    "plotting"
   ]
  },
  {
   "cell_type": "code",
   "execution_count": 101,
   "metadata": {},
   "outputs": [
    {
     "data": {
      "image/png": "[encoded data removed]",
      "text/plain": [
       "<Figure size 640x480 with 1 Axes>"
      ]
     },
     "metadata": {},
     "output_type": "display_data"
    }
   ],
   "source": [
    "plotting = [doctor_females,nurse_females, doctor_males, nurse_males]\n",
    "labels = [\"doctor_females\",\"nurse_females\",\"doctor_males\", \"nurse_males\"]\n",
    "\n",
    "\n",
    "plt.boxplot(plotting,labels= labels, positions=range(len(plotting)))\n",
    "plt.show()\n",
    "\n",
    "# fig, ax = plt.subplots()\n",
    "# for i, w in enumerate(plotting):\n",
    "#     ax.boxplot(w, positions=[i])\n",
    "\n",
    "# plt.show()"
   ]
  },
  {
   "cell_type": "markdown",
   "metadata": {},
   "source": [
    "#### 3.2. Female vs Male Concepts\n",
    "In the paper [Gender Bias in Word Embeddings:\n",
    "A Comprehensive Analysis of Frequency, Syntax, and Semantics](https://arxiv.org/pdf/2206.03390.pdf), the authors prove that NLP algorithms inherit bias when it comes to gender (i.e. some words become more *male-associated* and some become more *female-associated*). Let's check whether CLIP has similar biases:\n",
    "1. Go to the **Appendix A.1** of the paper mentined above. You will find a list of male-/female- associated words. \n",
    "2. Use any of them to specify your own version of `[\"a photo of a scienntist\", \"a photo of a nurse\"]`. You can come up with any descriptions you want and you can use more description (more than 2).\n",
    "3. Perform Similar analysis as in **Section 3.1**\n",
    "4. Does your example have any difference between *man* and *woman* scores.\n"
   ]
  },
  {
   "cell_type": "code",
   "execution_count": null,
   "metadata": {},
   "outputs": [],
   "source": [
    "prob"
   ]
  },
  {
   "cell_type": "code",
   "execution_count": 102,
   "metadata": {},
   "outputs": [],
   "source": [
    "# your code here# for males\n",
    "labels = [\"a photo of an engineer\", \"a photo of a author\"]\n",
    "probs_males2 = dict()\n",
    "for i, sam in enumerate(males):\n",
    "    \n",
    "    image = sam[\"image\"]\n",
    "    inputs = processor(text=labels, \n",
    "                        images=image, return_tensors=\"pt\", padding=True)\n",
    "    outputs = model(**inputs)\n",
    "    logits_per_image = outputs.logits_per_image # this is the image-text similarity score\n",
    "    probs = logits_per_image.softmax(dim=1).detach() # this gives you the probabilities\n",
    "    probs = probs.view(-1) # view - flattens the array\n",
    "    probs_males2[i] = (probs, probs.argmax())\n",
    "\n",
    "# for females\n",
    "#labels = [\"a photo of an designer\", \"a photo of a author\"]\n",
    "probs_females2 = dict()\n",
    "for i, sam in enumerate(females):\n",
    "    \n",
    "    image = sam[\"image\"]\n",
    "    inputs = processor(text=labels, \n",
    "                        images=image, return_tensors=\"pt\", padding=True)\n",
    "    outputs = model(**inputs)\n",
    "    logits_per_image = outputs.logits_per_image # this is the image-text similarity score\n",
    "    probs = logits_per_image.softmax(dim=1).detach() # this gives you the probabilities\n",
    "    probs = probs.view(-1) # view - flattens the array\n",
    "    probs_females2[i] = (probs, probs.argmax())\n",
    "\n",
    "engineer_males = []\n",
    "author_males = []\n",
    "for i in probs_males2:\n",
    "    engineer_males.append(probs_males2[i][0][0])\n",
    "    author_males.append(probs_males2[i][0][1])\n",
    "avg_engineer_males = np.mean(engineer_males)\n",
    "avg_author_males = np.mean(author_males)\n",
    "\n",
    "engineer_females = []\n",
    "author_females = []\n",
    "for i in probs_females2:\n",
    "    engineer_females.append(probs_females2[i][0][0])\n",
    "    author_females.append(probs_females2[i][0][1])\n",
    "avg_engineer_females = np.mean(engineer_females)\n",
    "avg_author_females = np.mean(author_females)"
   ]
  },
  {
   "cell_type": "code",
   "execution_count": 103,
   "metadata": {},
   "outputs": [
    {
     "name": "stdout",
     "output_type": "stream",
     "text": [
      "the average engineer for male is: 0.4164542257785797\n",
      "the average author for male is: 0.5835458040237427\n",
      "the average engineer for female is: 0.2780454158782959\n",
      "the average author for female is: 0.7219545245170593\n"
     ]
    }
   ],
   "source": [
    "print(f\"the average engineer for male is: {avg_engineer_males}\")\n",
    "print(f\"the average author for male is: {avg_author_males}\")\n",
    "print(f\"the average engineer for female is: {avg_engineer_females}\")\n",
    "print(f\"the average author for female is: {avg_author_females}\")"
   ]
  },
  {
   "cell_type": "code",
   "execution_count": 104,
   "metadata": {},
   "outputs": [
    {
     "data": {
      "image/png": "[encoded data removed]",
      "text/plain": [
       "<Figure size 640x480 with 1 Axes>"
      ]
     },
     "metadata": {},
     "output_type": "display_data"
    }
   ],
   "source": [
    "plotting = [engineer_females,author_females, engineer_males, author_males]\n",
    "labels = [\"engineer_females\",\"author_females\",\"engineer_males\", \"author_males\"]\n",
    "\n",
    "\n",
    "plt.boxplot(plotting,labels= labels, positions=range(len(plotting)))\n",
    "plt.show()"
   ]
  },
  {
   "cell_type": "markdown",
   "metadata": {},
   "source": [
    "## 3.3. Neutral Concepts\n",
    "Choose descriptions that (in your opinion) are neutral and perform the analysis in **Section 3.1** one more time\n"
   ]
  },
  {
   "cell_type": "markdown",
   "metadata": {},
   "source": [
    "Tendentially, I would not say that teacher and chef would be completely neutral, but I have tested it on the first image, and surprisingly, it didn't recognise the different males always as chef, so I am interested in seeing if there is a trend or if it was just a case"
   ]
  },
  {
   "cell_type": "code",
   "execution_count": null,
   "metadata": {},
   "outputs": [],
   "source": []
  },
  {
   "cell_type": "code",
   "execution_count": 105,
   "metadata": {},
   "outputs": [],
   "source": [
    "# your code here# for males\n",
    "labels = [\"a photo of an teacher\", \"a photo of a chef\"]\n",
    "probs_males3 = dict()\n",
    "for i, sam in enumerate(males):\n",
    "    \n",
    "    image = sam[\"image\"]\n",
    "    inputs = processor(text=labels, \n",
    "                        images=image, return_tensors=\"pt\", padding=True)\n",
    "    outputs = model(**inputs)\n",
    "    logits_per_image = outputs.logits_per_image # this is the image-text similarity score\n",
    "    probs = logits_per_image.softmax(dim=1).detach() # this gives you the probabilities\n",
    "    probs = probs.view(-1) # view - flattens the array\n",
    "    probs_males3[i] = (probs, probs.argmax())\n",
    "\n",
    "# for females\n",
    "\n",
    "probs_females3 = dict()\n",
    "for i, sam in enumerate(females):\n",
    "    \n",
    "    image = sam[\"image\"]\n",
    "    inputs = processor(text=labels, \n",
    "                        images=image, return_tensors=\"pt\", padding=True)\n",
    "    outputs = model(**inputs)\n",
    "    logits_per_image = outputs.logits_per_image # this is the image-text similarity score\n",
    "    probs = logits_per_image.softmax(dim=1).detach() # this gives you the probabilities\n",
    "    probs = probs.view(-1) # view - flattens the array\n",
    "    probs_females3[i] = (probs, probs.argmax())\n",
    "\n",
    "teacher_males = []\n",
    "chef_males = []\n",
    "for i in probs_males3:\n",
    "    teacher_males.append(probs_males3[i][0][0])\n",
    "    chef_males.append(probs_males3[i][0][1])\n",
    "avg_teacher_males = np.mean(teacher_males)\n",
    "avg_chef_males = np.mean(chef_males)\n",
    "\n",
    "teacher_females = []\n",
    "chef_females = []\n",
    "for i in probs_females3:\n",
    "    teacher_females.append(probs_females3[i][0][0])\n",
    "    chef_females.append(probs_females3[i][0][1])\n",
    "avg_teacher_females = np.mean(teacher_females)\n",
    "avg_chef_females = np.mean(chef_females)"
   ]
  },
  {
   "cell_type": "code",
   "execution_count": 108,
   "metadata": {},
   "outputs": [
    {
     "name": "stdout",
     "output_type": "stream",
     "text": [
      "the average teacher for male is: 0.6702941656112671\n",
      "the average chef for male is: 0.32970577478408813\n",
      "the average teacher for female is: 0.8899056911468506\n",
      "the average chef for female is: 0.11009436100721359\n"
     ]
    }
   ],
   "source": [
    "print(f\"the average teacher for male is: {avg_teacher_males}\")\n",
    "print(f\"the average chef for male is: {avg_chef_males}\")\n",
    "print(f\"the average teacher for female is: {avg_teacher_females}\")\n",
    "print(f\"the average chef for female is: {avg_chef_females}\")"
   ]
  },
  {
   "cell_type": "code",
   "execution_count": 109,
   "metadata": {},
   "outputs": [
    {
     "data": {
      "image/png": "[encoded data removed]",
      "text/plain": [
       "<Figure size 640x480 with 1 Axes>"
      ]
     },
     "metadata": {},
     "output_type": "display_data"
    }
   ],
   "source": [
    "plotting = [teacher_females,chef_females, teacher_males, chef_males]\n",
    "labels = [\"teacher_females\",\"chef_females\",\"teacher_males\", \"chef_males\"]\n",
    "\n",
    "\n",
    "plt.boxplot(plotting,labels= labels, positions=range(len(plotting)))\n",
    "plt.show()"
   ]
  },
  {
   "cell_type": "code",
   "execution_count": null,
   "metadata": {},
   "outputs": [],
   "source": []
  }
 ],
 "metadata": {
  "kernelspec": {
   "display_name": "base",
   "language": "python",
   "name": "python3"
  },
  "language_info": {
   "codemirror_mode": {
    "name": "ipython",
    "version": 3
   },
   "file_extension": ".py",
   "mimetype": "text/x-python",
   "name": "python",
   "nbconvert_exporter": "python",
   "pygments_lexer": "ipython3",
   "version": "3.9.12"
  }
 },
 "nbformat": 4,
 "nbformat_minor": 2
}
