{
 "cells": [
  {
   "cell_type": "markdown",
   "id": "12394aa1-0fe2-49d1-951a-6defb73ef28c",
   "metadata": {},
   "source": [
    "# Algorithmic Fairness, Accountability, and Ethics, Spring 2023\n",
    "# Exercise 2\n",
    "\n",
    "The first three parts require no programming.\n",
    "The final part requires programming and will be reused for Mandatory Assignment 1.\n",
    "\n",
    "## Task 1 (basics)\n",
    "\n",
    "Take a look at the following set of individuals:\n",
    "\n",
    "![](001.png)\n",
    "\n",
    "As in the lecture, individuals that have the target (T = 1) are drawn in blue, others (T = 0) are drawn in red. G = 0 refers to the triangle group, G = 1 refers to the circle group. Different to the lecture material, the visual split-up happens by selection status, not by target. \n"
   ]
  },
  {
   "cell_type": "markdown",
   "id": "c9fb450a",
   "metadata": {},
   "source": [
    "\n",
    "- Compute the following probabilities: \n",
    "  - $\\Pr(G = 1) = 6/10$ \n",
    "  - $\\Pr(G = 0) = 4/10 $\n",
    "  - $\\Pr(S = 1 \\mid G = 1) = 4/6$\n",
    "  - $\\Pr(S = 1 \\mid G = 0) = 2/4$\n",
    "  - $\\Pr(S = 1 \\mid G = 1, T = 1) = 3/3$ becuase of the blue circles, we have selected all of them\n",
    "  - $\\Pr(S = 1 \\mid G = 0, T = 1) = 1/2$  we are looking at the probability backwards when choosing what to look at\n",
    "- Verify the following fairness criteria\n",
    "  - $G \\perp S$ (demographic parity) proibability of being selected is equal in both groups. it is not the same cause 2/4 triangles are selected, and 4/6 circles are selected\n",
    "  - $G \\perp S | T$ (equalized odds)\n",
    "      - $\\Pr(S = 1 \\mid G = 0, T = 1) = 1/2$ of the blue triangles, how many were checked yes\n",
    "      - $\\Pr(S = 1 \\mid G = 1, T = 1) = 3/3$\n",
    "      - $\\Pr(S = 1 \\mid G = 1, T = 0) = 1/3$ \n",
    "      - $\\Pr(S = 1 \\mid G = 0, T = 0) = 1/2$ within the red triangles, how many we have selected \n",
    "  - $G \\perp T | S$ (equalized outcome)\n",
    "      - $\\Pr(T=1 \\mid G=0, S=1)= 1/2$\n",
    "      - $\\Pr(T=1 \\mid G=1, S=1)= 3/4$\n",
    "- In case one of the fairness conditions is not satisfied, change the example to satisfy it. What is the minimum number of changes necessary in each case? \n",
    "    - for the statistical parity, change one of the S=1 circles to be a S=0\n",
    "    - for equalised odds, for the blues, check both blue triangles\n",
    "    - for the equalised outcomes, good question\n",
    "- Change the example such that all three fairness conditions hold at the same time.\n",
    "        that what is what we talked about in class, you can't\n"
   ]
  },
  {
   "cell_type": "markdown",
   "id": "1cac2090",
   "metadata": {},
   "source": [
    "\n",
    "## Task 2 (Other fairness criteria)\n",
    "\n",
    "Consider the following fairness criteria: $G \\perp T$ and $S \\perp T$. \n",
    "\n",
    "- Find an intuitive explanation of these criteria, respectively. How would you call them?\n",
    "        - the group you are in, does not influence the label that you have. so triangles and circles should have the same percentage of blue\n",
    "        - the label you get (checkmark) does not get influenced by the color you are. picking at random \n",
    "- Formally write out how you verify the conditions in the case that $G$, $S$, and $T$ are binary. no <3\n",
    "- Can all criteria $G \\perp S$ (demographic parity), $G \\perp T$, and $S \\perp T$ hold at the same time? If yes, give an example. If no, reason for the impossibility.\n",
    "        - no they can't, according to the lecture and proofs. "
   ]
  },
  {
   "cell_type": "markdown",
   "id": "f3938ad6",
   "metadata": {},
   "source": [
    "\n",
    "## Task 3 (Fairness/Utility-Tradeoff)\n",
    "\n",
    "**Remark:** You might find it easier to solve this task by writing some code.\n",
    "\n",
    "Look at the following two picture that presents group and target as usual, but instead of seeing the outcome of the selection, we just see the score. (You can think about it as the grade point average achieved in school.)\n",
    "\n",
    "![](002.png)\n",
    "\n",
    "We discuss a classifier that selects all individuals above a certain (maybe group-specific) threshold.\n",
    "\n",
    "1) Sketch the ROC curve for a threshold based classifier (or actually plot it).\n",
    "2) Let us say that we are in a situation where a false positive costs us 150 DKK, a true positive gives us 100 DKK.\n",
    "    - If we want to maximize the profit using a single threshold, which one would it be?\n",
    "    - If we want to achieve statistical parity by choosing individual threshold values, which thresholds can we choose? Which one provides the best utility, i.e., the largest profit? \n",
    "    - At which individual thresholds do you achieve equalized odds in this setting? Which setting achieves the best utility?\n",
    "\n",
    "## Practical exercise\n",
    "\n",
    "In this exercise, we will work with a very recently published dataset that collects data from the US Census 2020. The dataset and a description is available at <https://github.com/zykls/folktables>. The features names are described in the appendix of the accompanying paper at <https://arxiv.org/pdf/2108.04884.pdf>.\n",
    "\n",
    "The goal of this exercise is to prepare mandatory assignment 1, in which you will further explore the dataset in terms of fairness and interpretability."
   ]
  },
  {
   "cell_type": "markdown",
   "id": "ccc72700",
   "metadata": {},
   "source": [
    "## Task 1 (Installation)\n",
    "\n",
    "Carry out the installation tasks at <https://github.com/zykls/folktables#basic-installation-instructions>.\n",
    "\n",
    "After successful installation, you should be able to run the following code to generate a prediction task."
   ]
  },
  {
   "cell_type": "code",
   "execution_count": 63,
   "id": "b3204648",
   "metadata": {},
   "outputs": [],
   "source": [
    "import pandas as pd\n",
    "import matplotlib.pyplot as plt\n",
    "from sklearn.feature_selection import mutual_info_classif"
   ]
  },
  {
   "cell_type": "code",
   "execution_count": 3,
   "id": "5921f706-cf73-4c13-a7da-0448ef057d14",
   "metadata": {},
   "outputs": [],
   "source": [
    "from folktables.acs import adult_filter\n",
    "from folktables import ACSDataSource, BasicProblem\n",
    "import numpy as np\n",
    "from sklearn.model_selection import train_test_split\n",
    "\n",
    "\n",
    "data_source = ACSDataSource(survey_year='2018', horizon='1-Year', survey='person')\n",
    "acs_data = data_source.get_data(states=[\"CA\"], download=False) # this is only for california. but otherwise same as the github\n",
    "\n",
    "\n",
    "ACSIncomeNew = BasicProblem(\n",
    "    features=[\n",
    "        'AGEP', # include AGE\n",
    "        'COW', # include class of worker\n",
    "        'SCHL', # include school education\n",
    "        'WKHP', # include reported working hours\n",
    "        'SEX', # include sex\n",
    "    ],\n",
    "    target='PINCP',\n",
    "    target_transform=lambda x: x > 25000,    \n",
    "    group='SEX',\n",
    "    preprocess=adult_filter,\n",
    "    postprocess=lambda x: np.nan_to_num(x, -1),\n",
    ")\n",
    "\n",
    "features, label, group = ACSIncomeNew.df_to_numpy(acs_data)\n",
    "\n",
    "X_train, X_test, y_train, y_test, group_train, group_test = train_test_split(\n",
    "    features, label, group, test_size=0.2, random_state=0)"
   ]
  },
  {
   "cell_type": "code",
   "execution_count": 8,
   "id": "2186e5d3",
   "metadata": {},
   "outputs": [
    {
     "name": "stdout",
     "output_type": "stream",
     "text": [
      "<folktables.folktables.BasicProblem object at 0x7f8930763970>\n"
     ]
    }
   ],
   "source": [
    "print(ACSIncomeNew)\n"
   ]
  },
  {
   "cell_type": "code",
   "execution_count": null,
   "id": "64d45f82",
   "metadata": {},
   "outputs": [
    {
     "data": {
      "text/plain": [
       "array([[46.,  2., 22., 45.,  2.],\n",
       "       [45.,  1., 21., 50.,  2.],\n",
       "       [40.,  1., 21., 40.,  2.],\n",
       "       ...,\n",
       "       [60.,  1., 21., 60.,  1.],\n",
       "       [47.,  3., 22., 60.,  1.],\n",
       "       [58.,  3., 16., 30.,  2.]])"
      ]
     },
     "execution_count": 23,
     "metadata": {},
     "output_type": "execute_result"
    }
   ],
   "source": []
  },
  {
   "cell_type": "markdown",
   "id": "eb093888",
   "metadata": {},
   "source": [
    "After carrying out these steps, you have a training and test datasets that contain the feature vector, group status, and predicted label. \n",
    "\n",
    "The prediction task here is to predict whether or not an individual has an income above 25000 USD per year. As group we use male/female (but others are possible from the dataset, e.g., race via the `RAC1P` feature). "
   ]
  },
  {
   "cell_type": "markdown",
   "id": "1f8c4b58",
   "metadata": {},
   "source": [
    "## Task 2 (Initial exploration)\n",
    "\n",
    "The idea is to build a simple classifier yourself. (We will discuss classifiers in the next two lectures in more detail.)"
   ]
  },
  {
   "cell_type": "code",
   "execution_count": null,
   "id": "1b39c94f",
   "metadata": {},
   "outputs": [],
   "source": [
    "# ADD code here to explore the properties of the dataset.\n",
    "# E.g., how does the prediction depend on the age? \n",
    "# What about the education status?\n",
    "# How about the sex?\n",
    "# It might be easier for you to work with `acs_data` from above, which is a pandas dataframe\n",
    "# The goal is not to build the perfect classifier, but rather to understand the features and their interaction with the target.\n"
   ]
  },
  {
   "cell_type": "code",
   "execution_count": 17,
   "id": "fdb17cf0",
   "metadata": {},
   "outputs": [
    {
     "data": {
      "text/html": [
       "<div>\n",
       "<style scoped>\n",
       "    .dataframe tbody tr th:only-of-type {\n",
       "        vertical-align: middle;\n",
       "    }\n",
       "\n",
       "    .dataframe tbody tr th {\n",
       "        vertical-align: top;\n",
       "    }\n",
       "\n",
       "    .dataframe thead th {\n",
       "        text-align: right;\n",
       "    }\n",
       "</style>\n",
       "<table border=\"1\" class=\"dataframe\">\n",
       "  <thead>\n",
       "    <tr style=\"text-align: right;\">\n",
       "      <th></th>\n",
       "      <th>age</th>\n",
       "      <th>class</th>\n",
       "      <th>education</th>\n",
       "      <th>working_hours</th>\n",
       "      <th>sex</th>\n",
       "      <th>income</th>\n",
       "    </tr>\n",
       "  </thead>\n",
       "  <tbody>\n",
       "    <tr>\n",
       "      <th>0</th>\n",
       "      <td>46.0</td>\n",
       "      <td>2.0</td>\n",
       "      <td>22.0</td>\n",
       "      <td>45.0</td>\n",
       "      <td>2.0</td>\n",
       "      <td>True</td>\n",
       "    </tr>\n",
       "    <tr>\n",
       "      <th>1</th>\n",
       "      <td>45.0</td>\n",
       "      <td>1.0</td>\n",
       "      <td>21.0</td>\n",
       "      <td>50.0</td>\n",
       "      <td>2.0</td>\n",
       "      <td>True</td>\n",
       "    </tr>\n",
       "    <tr>\n",
       "      <th>2</th>\n",
       "      <td>40.0</td>\n",
       "      <td>1.0</td>\n",
       "      <td>21.0</td>\n",
       "      <td>40.0</td>\n",
       "      <td>2.0</td>\n",
       "      <td>True</td>\n",
       "    </tr>\n",
       "    <tr>\n",
       "      <th>3</th>\n",
       "      <td>59.0</td>\n",
       "      <td>1.0</td>\n",
       "      <td>24.0</td>\n",
       "      <td>40.0</td>\n",
       "      <td>1.0</td>\n",
       "      <td>True</td>\n",
       "    </tr>\n",
       "    <tr>\n",
       "      <th>4</th>\n",
       "      <td>23.0</td>\n",
       "      <td>1.0</td>\n",
       "      <td>19.0</td>\n",
       "      <td>40.0</td>\n",
       "      <td>2.0</td>\n",
       "      <td>False</td>\n",
       "    </tr>\n",
       "    <tr>\n",
       "      <th>...</th>\n",
       "      <td>...</td>\n",
       "      <td>...</td>\n",
       "      <td>...</td>\n",
       "      <td>...</td>\n",
       "      <td>...</td>\n",
       "      <td>...</td>\n",
       "    </tr>\n",
       "    <tr>\n",
       "      <th>156527</th>\n",
       "      <td>29.0</td>\n",
       "      <td>1.0</td>\n",
       "      <td>16.0</td>\n",
       "      <td>40.0</td>\n",
       "      <td>2.0</td>\n",
       "      <td>True</td>\n",
       "    </tr>\n",
       "    <tr>\n",
       "      <th>156528</th>\n",
       "      <td>42.0</td>\n",
       "      <td>1.0</td>\n",
       "      <td>21.0</td>\n",
       "      <td>40.0</td>\n",
       "      <td>2.0</td>\n",
       "      <td>True</td>\n",
       "    </tr>\n",
       "    <tr>\n",
       "      <th>156529</th>\n",
       "      <td>60.0</td>\n",
       "      <td>1.0</td>\n",
       "      <td>21.0</td>\n",
       "      <td>60.0</td>\n",
       "      <td>1.0</td>\n",
       "      <td>True</td>\n",
       "    </tr>\n",
       "    <tr>\n",
       "      <th>156530</th>\n",
       "      <td>47.0</td>\n",
       "      <td>3.0</td>\n",
       "      <td>22.0</td>\n",
       "      <td>60.0</td>\n",
       "      <td>1.0</td>\n",
       "      <td>True</td>\n",
       "    </tr>\n",
       "    <tr>\n",
       "      <th>156531</th>\n",
       "      <td>58.0</td>\n",
       "      <td>3.0</td>\n",
       "      <td>16.0</td>\n",
       "      <td>30.0</td>\n",
       "      <td>2.0</td>\n",
       "      <td>False</td>\n",
       "    </tr>\n",
       "  </tbody>\n",
       "</table>\n",
       "<p>156532 rows × 6 columns</p>\n",
       "</div>"
      ],
      "text/plain": [
       "         age  class  education  working_hours  sex  income\n",
       "0       46.0    2.0       22.0           45.0  2.0    True\n",
       "1       45.0    1.0       21.0           50.0  2.0    True\n",
       "2       40.0    1.0       21.0           40.0  2.0    True\n",
       "3       59.0    1.0       24.0           40.0  1.0    True\n",
       "4       23.0    1.0       19.0           40.0  2.0   False\n",
       "...      ...    ...        ...            ...  ...     ...\n",
       "156527  29.0    1.0       16.0           40.0  2.0    True\n",
       "156528  42.0    1.0       21.0           40.0  2.0    True\n",
       "156529  60.0    1.0       21.0           60.0  1.0    True\n",
       "156530  47.0    3.0       22.0           60.0  1.0    True\n",
       "156531  58.0    3.0       16.0           30.0  2.0   False\n",
       "\n",
       "[156532 rows x 6 columns]"
      ]
     },
     "execution_count": 17,
     "metadata": {},
     "output_type": "execute_result"
    }
   ],
   "source": [
    "df = pd.DataFrame(X_train, columns = [\"age\", \"class\", \"education\", \"working_hours\", \"sex\"])\n",
    "df[\"income\"] = y_train\n",
    "\n",
    "df"
   ]
  },
  {
   "cell_type": "code",
   "execution_count": 24,
   "id": "9d4badf0",
   "metadata": {},
   "outputs": [],
   "source": [
    "high = df[df[\"income\"]==True]\n",
    "low = df[df[\"income\"]==False]"
   ]
  },
  {
   "cell_type": "code",
   "execution_count": 25,
   "id": "90738dbd",
   "metadata": {},
   "outputs": [
    {
     "data": {
      "image/png": "[encoded data removed]",
      "text/plain": [
       "<Figure size 640x480 with 1 Axes>"
      ]
     },
     "metadata": {},
     "output_type": "display_data"
    }
   ],
   "source": [
    "plt.hist(high[\"age\"])\n",
    "plt.hist(low[\"age\"])\n",
    "plt.show()"
   ]
  },
  {
   "cell_type": "code",
   "execution_count": 27,
   "id": "d4cbfcd3",
   "metadata": {},
   "outputs": [
    {
     "data": {
      "image/png": "[encoded data removed]",
      "text/plain": [
       "<Figure size 640x480 with 1 Axes>"
      ]
     },
     "metadata": {},
     "output_type": "display_data"
    }
   ],
   "source": [
    "plt.hist(high[\"education\"])\n",
    "plt.hist(low[\"education\"])\n",
    "plt.show()"
   ]
  },
  {
   "cell_type": "code",
   "execution_count": 33,
   "id": "f91f0996",
   "metadata": {},
   "outputs": [
    {
     "data": {
      "text/plain": [
       "(array([23482.,     0.,     0.,     0.,     0.,     0.,     0.,     0.,\n",
       "            0., 28959.]),\n",
       " array([1. , 1.1, 1.2, 1.3, 1.4, 1.5, 1.6, 1.7, 1.8, 1.9, 2. ]),\n",
       " <BarContainer object of 10 artists>)"
      ]
     },
     "execution_count": 33,
     "metadata": {},
     "output_type": "execute_result"
    },
    {
     "data": {
      "image/png": "[encoded data removed]",
      "text/plain": [
       "<Figure size 640x480 with 1 Axes>"
      ]
     },
     "metadata": {},
     "output_type": "display_data"
    }
   ],
   "source": [
    "plt.hist(high[\"sex\"])\n",
    "plt.hist(low[\"sex\"])"
   ]
  },
  {
   "cell_type": "markdown",
   "id": "5c81b749",
   "metadata": {},
   "source": [
    "above we can see that the orange is the low income and blue is high income, and generally, you have more points of high income, but also for men there are more high income men than womes, and the opposite for low income. \n",
    "higher income, higher education etc. "
   ]
  },
  {
   "cell_type": "markdown",
   "id": "68a9d1c6",
   "metadata": {},
   "source": [
    "below I am going to follow a tutorial from medium to get more ideas of what to look at: (link: <https://medium.com/towards-data-science/analysing-fairness-in-machine-learning-with-python-96a9ab0d0705>)"
   ]
  },
  {
   "cell_type": "code",
   "execution_count": null,
   "id": "f442ad41",
   "metadata": {},
   "outputs": [
    {
     "data": {
      "text/plain": [
       "<matplotlib.legend.Legend at 0x7fcf6ccda820>"
      ]
     },
     "execution_count": 46,
     "metadata": {},
     "output_type": "execute_result"
    },
    {
     "data": {
      "image/png": "[encoded data removed]",
      "text/plain": [
       "<Figure size 640x480 with 1 Axes>"
      ]
     },
     "metadata": {},
     "output_type": "display_data"
    }
   ],
   "source": [
    "counts_sex = df[\"sex\"].value_counts()\n",
    "labels = counts_sex.index #(one is males and 2 is females)\n",
    "plt.pie(counts_sex)\n",
    "plt.legend(labels)"
   ]
  },
  {
   "cell_type": "code",
   "execution_count": 49,
   "id": "178ace26",
   "metadata": {},
   "outputs": [
    {
     "data": {
      "text/plain": [
       "<matplotlib.legend.Legend at 0x7fd094c39cd0>"
      ]
     },
     "execution_count": 49,
     "metadata": {},
     "output_type": "execute_result"
    },
    {
     "data": {
      "image/png": "[encoded data removed]",
      "text/plain": [
       "<Figure size 640x480 with 1 Axes>"
      ]
     },
     "metadata": {},
     "output_type": "display_data"
    }
   ],
   "source": [
    "counts_edu = df[\"education\"].value_counts()\n",
    "labels = counts_edu.index #(one is males and 2 is females)\n",
    "plt.pie(counts_edu)\n",
    "plt.legend(labels)"
   ]
  },
  {
   "cell_type": "code",
   "execution_count": 58,
   "id": "05aaaea4",
   "metadata": {},
   "outputs": [
    {
     "name": "stdout",
     "output_type": "stream",
     "text": [
      "True     104091\n",
      "False     52441\n",
      "Name: income, dtype: int64\n"
     ]
    },
    {
     "data": {
      "image/png": "[encoded data removed]",
      "text/plain": [
       "<Figure size 640x480 with 1 Axes>"
      ]
     },
     "metadata": {},
     "output_type": "display_data"
    }
   ],
   "source": [
    "counts_income = df[\"income\"].value_counts()\n",
    "labels = counts_income.index #(one is males and 2 is females)\n",
    "plt.pie(counts_income)\n",
    "plt.legend(labels)\n",
    "print(counts_income)"
   ]
  },
  {
   "cell_type": "markdown",
   "id": "8efd1c99",
   "metadata": {},
   "source": [
    "now calculating prevalence: proportion of positive cases to overall cases, we ca do it for the sex "
   ]
  },
  {
   "cell_type": "code",
   "execution_count": 56,
   "id": "13498f0f",
   "metadata": {},
   "outputs": [
    {
     "name": "stdout",
     "output_type": "stream",
     "text": [
      "prev : 0.6649822400531521, \n",
      "prev sex : sex\n",
      "1.0    0.716024\n",
      "2.0    0.607825\n",
      "Name: income, dtype: float64\n"
     ]
    }
   ],
   "source": [
    "prev = df[\"income\"].mean()\n",
    "prev_sex = df.groupby(\"sex\")[\"income\"].mean()\n",
    "print(f\"prev : {prev}, \\nprev sex : {prev_sex}\")"
   ]
  },
  {
   "cell_type": "markdown",
   "id": "666d0996",
   "metadata": {},
   "source": [
    "looking for proxy variable to sex, by doing mutual information analysis \n"
   ]
  },
  {
   "cell_type": "code",
   "execution_count": 68,
   "id": "1f79f7d0",
   "metadata": {},
   "outputs": [
    {
     "data": {
      "text/plain": [
       "age              float64\n",
       "class            float64\n",
       "education        float64\n",
       "working_hours    float64\n",
       "sex              float64\n",
       "income              bool\n",
       "dtype: object"
      ]
     },
     "execution_count": 68,
     "metadata": {},
     "output_type": "execute_result"
    }
   ],
   "source": [
    "df.dtypes"
   ]
  },
  {
   "cell_type": "code",
   "execution_count": 74,
   "id": "e86a521f",
   "metadata": {},
   "outputs": [],
   "source": [
    "X = df[[\"age\", \"class\", \"education\", 'working_hours']]"
   ]
  },
  {
   "cell_type": "code",
   "execution_count": 75,
   "id": "895cc837",
   "metadata": {},
   "outputs": [
    {
     "data": {
      "text/plain": [
       "array([0.        , 0.01454811, 0.00717755, 0.02457565])"
      ]
     },
     "execution_count": 75,
     "metadata": {},
     "output_type": "execute_result"
    }
   ],
   "source": [
    "mut_sex = mutual_info_classif(X, df[\"sex\"] )\n",
    "mut_sex"
   ]
  },
  {
   "cell_type": "markdown",
   "id": "32705545",
   "metadata": {},
   "source": [
    "from the last cell, we want numbers closest to 0. all of them a part from age are a bit connected to sex, "
   ]
  },
  {
   "cell_type": "markdown",
   "id": "65a6625a",
   "metadata": {},
   "source": [
    "## Task 3 (Building and evaluation a classifier)\n",
    "\n",
    "Use your knowledge from Task 2 to build a simple classifier to predict whether an individual in the test group will make more than 25000 USD or not per year. Try to keep your classifier simple, and see whether you can include some kind of threshold.\n",
    "\n",
    "1) Evaluate the accuracy of your classifier(s).\n",
    "2) Check the following fairness conditions of your classifier for your classifier:\n",
    "   - Statistical Parity ($G \\perp S$)\n",
    "   - Equalized odds ($G \\perp S | T)$, report both $T = 1$ (true positive rate) and $T = 0$ (false positive rate).\n",
    "   - Equalized outcome ($G \\perp T | S)$, report both $S = 1$ and $S = 0$.\n",
    "3) Discuss: How can you achieve fairness assumptions (statistical parity, equalized odds) with your classifier? Implement one intervention that should make the classifier more fair and evaluate its effect."
   ]
  },
  {
   "cell_type": "code",
   "execution_count": 110,
   "id": "6b58a17d",
   "metadata": {},
   "outputs": [],
   "source": [
    "import numpy as np\n",
    "from sklearn.linear_model import LogisticRegression\n",
    "from sklearn.model_selection import train_test_split\n",
    "from sklearn.pipeline import make_pipeline\n",
    "from sklearn.preprocessing import StandardScaler\n",
    "from sklearn.metrics import accuracy_score,confusion_matrix\n",
    "from sklearn.metrics import classification_report\n"
   ]
  },
  {
   "cell_type": "code",
   "execution_count": 115,
   "id": "77e4df41",
   "metadata": {},
   "outputs": [
    {
     "data": {
      "text/html": [
       "<div>\n",
       "<style scoped>\n",
       "    .dataframe tbody tr th:only-of-type {\n",
       "        vertical-align: middle;\n",
       "    }\n",
       "\n",
       "    .dataframe tbody tr th {\n",
       "        vertical-align: top;\n",
       "    }\n",
       "\n",
       "    .dataframe thead th {\n",
       "        text-align: right;\n",
       "    }\n",
       "</style>\n",
       "<table border=\"1\" class=\"dataframe\">\n",
       "  <thead>\n",
       "    <tr style=\"text-align: right;\">\n",
       "      <th></th>\n",
       "      <th>age</th>\n",
       "      <th>class</th>\n",
       "      <th>education</th>\n",
       "      <th>working_hours</th>\n",
       "      <th>sex</th>\n",
       "      <th>income</th>\n",
       "    </tr>\n",
       "  </thead>\n",
       "  <tbody>\n",
       "    <tr>\n",
       "      <th>0</th>\n",
       "      <td>62.0</td>\n",
       "      <td>1.0</td>\n",
       "      <td>18.0</td>\n",
       "      <td>40.0</td>\n",
       "      <td>1.0</td>\n",
       "      <td>True</td>\n",
       "    </tr>\n",
       "    <tr>\n",
       "      <th>1</th>\n",
       "      <td>33.0</td>\n",
       "      <td>7.0</td>\n",
       "      <td>21.0</td>\n",
       "      <td>65.0</td>\n",
       "      <td>1.0</td>\n",
       "      <td>True</td>\n",
       "    </tr>\n",
       "    <tr>\n",
       "      <th>2</th>\n",
       "      <td>33.0</td>\n",
       "      <td>1.0</td>\n",
       "      <td>21.0</td>\n",
       "      <td>40.0</td>\n",
       "      <td>2.0</td>\n",
       "      <td>False</td>\n",
       "    </tr>\n",
       "    <tr>\n",
       "      <th>3</th>\n",
       "      <td>46.0</td>\n",
       "      <td>1.0</td>\n",
       "      <td>19.0</td>\n",
       "      <td>40.0</td>\n",
       "      <td>2.0</td>\n",
       "      <td>True</td>\n",
       "    </tr>\n",
       "    <tr>\n",
       "      <th>4</th>\n",
       "      <td>32.0</td>\n",
       "      <td>1.0</td>\n",
       "      <td>21.0</td>\n",
       "      <td>40.0</td>\n",
       "      <td>1.0</td>\n",
       "      <td>True</td>\n",
       "    </tr>\n",
       "    <tr>\n",
       "      <th>...</th>\n",
       "      <td>...</td>\n",
       "      <td>...</td>\n",
       "      <td>...</td>\n",
       "      <td>...</td>\n",
       "      <td>...</td>\n",
       "      <td>...</td>\n",
       "    </tr>\n",
       "    <tr>\n",
       "      <th>39128</th>\n",
       "      <td>32.0</td>\n",
       "      <td>1.0</td>\n",
       "      <td>21.0</td>\n",
       "      <td>50.0</td>\n",
       "      <td>1.0</td>\n",
       "      <td>True</td>\n",
       "    </tr>\n",
       "    <tr>\n",
       "      <th>39129</th>\n",
       "      <td>84.0</td>\n",
       "      <td>1.0</td>\n",
       "      <td>18.0</td>\n",
       "      <td>32.0</td>\n",
       "      <td>1.0</td>\n",
       "      <td>True</td>\n",
       "    </tr>\n",
       "    <tr>\n",
       "      <th>39130</th>\n",
       "      <td>65.0</td>\n",
       "      <td>1.0</td>\n",
       "      <td>22.0</td>\n",
       "      <td>50.0</td>\n",
       "      <td>1.0</td>\n",
       "      <td>True</td>\n",
       "    </tr>\n",
       "    <tr>\n",
       "      <th>39131</th>\n",
       "      <td>63.0</td>\n",
       "      <td>1.0</td>\n",
       "      <td>16.0</td>\n",
       "      <td>40.0</td>\n",
       "      <td>2.0</td>\n",
       "      <td>True</td>\n",
       "    </tr>\n",
       "    <tr>\n",
       "      <th>39132</th>\n",
       "      <td>54.0</td>\n",
       "      <td>1.0</td>\n",
       "      <td>20.0</td>\n",
       "      <td>40.0</td>\n",
       "      <td>2.0</td>\n",
       "      <td>True</td>\n",
       "    </tr>\n",
       "  </tbody>\n",
       "</table>\n",
       "<p>39133 rows × 6 columns</p>\n",
       "</div>"
      ],
      "text/plain": [
       "        age  class  education  working_hours  sex  income\n",
       "0      62.0    1.0       18.0           40.0  1.0    True\n",
       "1      33.0    7.0       21.0           65.0  1.0    True\n",
       "2      33.0    1.0       21.0           40.0  2.0   False\n",
       "3      46.0    1.0       19.0           40.0  2.0    True\n",
       "4      32.0    1.0       21.0           40.0  1.0    True\n",
       "...     ...    ...        ...            ...  ...     ...\n",
       "39128  32.0    1.0       21.0           50.0  1.0    True\n",
       "39129  84.0    1.0       18.0           32.0  1.0    True\n",
       "39130  65.0    1.0       22.0           50.0  1.0    True\n",
       "39131  63.0    1.0       16.0           40.0  2.0    True\n",
       "39132  54.0    1.0       20.0           40.0  2.0    True\n",
       "\n",
       "[39133 rows x 6 columns]"
      ]
     },
     "execution_count": 115,
     "metadata": {},
     "output_type": "execute_result"
    }
   ],
   "source": [
    "df_test = pd.DataFrame(X_test, columns = [\"age\", \"class\", \"education\", \"working_hours\", \"sex\"])\n",
    "df_test[\"income\"] = y_test\n",
    "\n",
    "df_test"
   ]
  },
  {
   "cell_type": "code",
   "execution_count": null,
   "id": "a6b903d8",
   "metadata": {},
   "outputs": [],
   "source": [
    "model = make_pipeline(StandardScaler(), LogisticRegression())\n",
    "model.fit(X_train, y_train)\n",
    "yhat= model.predict(X_test)"
   ]
  },
  {
   "cell_type": "code",
   "execution_count": 116,
   "id": "0357f585",
   "metadata": {},
   "outputs": [],
   "source": [
    "# just to make the code like the guy, without making his mistakes\n",
    "df_test[\"y_pred\"] = yhat"
   ]
  },
  {
   "cell_type": "code",
   "execution_count": 84,
   "id": "e3a9f868",
   "metadata": {},
   "outputs": [
    {
     "data": {
      "text/plain": [
       "0.8082947895637953"
      ]
     },
     "execution_count": 84,
     "metadata": {},
     "output_type": "execute_result"
    }
   ],
   "source": [
    "accuracy = accuracy_score(y_test, yhat)\n",
    "accuracy"
   ]
  },
  {
   "cell_type": "code",
   "execution_count": 112,
   "id": "874ff4e1",
   "metadata": {},
   "outputs": [
    {
     "name": "stdout",
     "output_type": "stream",
     "text": [
      "              precision    recall  f1-score   support\n",
      "\n",
      "       False       0.78      0.59      0.67     13001\n",
      "        True       0.82      0.92      0.86     26132\n",
      "\n",
      "    accuracy                           0.81     39133\n",
      "   macro avg       0.80      0.75      0.77     39133\n",
      "weighted avg       0.81      0.81      0.80     39133\n",
      "\n"
     ]
    }
   ],
   "source": [
    "print(classification_report(y_test, yhat))"
   ]
  },
  {
   "cell_type": "code",
   "execution_count": 40,
   "id": "85c06b46",
   "metadata": {},
   "outputs": [],
   "source": [
    "group0_tpr = np.mean(yhat[(y_test ==1) & (group_test ==1)]) # males\n",
    "group1_tpr = np.mean(yhat[(y_test==1) & (group_test==2)])  # females\n",
    "group0_fpr = np.mean(yhat[(y_test ==0) & (group_test ==1)]) # males\n",
    "group1_fpr = np.mean(yhat[(y_test==0) & (group_test==2)])  # females"
   ]
  },
  {
   "cell_type": "code",
   "execution_count": 41,
   "id": "b1a4eea6",
   "metadata": {},
   "outputs": [
    {
     "data": {
      "text/plain": [
       "0.03964807616778754"
      ]
     },
     "execution_count": 41,
     "metadata": {},
     "output_type": "execute_result"
    }
   ],
   "source": [
    "# according to the github repo, equality of opportunity is calculated by detracting one from the other:\n",
    "#which makes sense, you want the two to be as close to one another as possible duuuuuh\n",
    "opportunity_equality = group0_tpr - group1_tpr\n",
    "opportunity_equality"
   ]
  },
  {
   "cell_type": "code",
   "execution_count": 109,
   "id": "73a36ae4",
   "metadata": {},
   "outputs": [
    {
     "data": {
      "text/plain": [
       "0.1392182448183535"
      ]
     },
     "execution_count": 109,
     "metadata": {},
     "output_type": "execute_result"
    }
   ],
   "source": [
    "equalised_odds = group0_fpr-group1_fpr\n",
    "equalised_odds\n",
    "# fpr difference is much higher than tpr difference"
   ]
  },
  {
   "cell_type": "markdown",
   "id": "64ec8f6a",
   "metadata": {},
   "source": []
  },
  {
   "cell_type": "markdown",
   "id": "e2b6f028",
   "metadata": {},
   "source": [
    "Accuracy: percentage of correct predictions (true negs and pos over total number of observations)\n",
    "\n",
    "Equal opportunity : true positive rate : number of true positives / tp+fn -> percentage of actual positives that were correctly predicted as positive (percentage of people that have rightfully benefitted from the model.)\n",
    "    we want the two to be the same (for the one gender and the other) the difference to be less than a cutoff and the ration to be more than the cutoff\n",
    "\n",
    "False \"negative\" rate: false negative /true positive+false negs -> percentage of actual positives incorrectly predicted as negative. percentage of people who have wrongfully not benefitted from the model. \n",
    "for equal opportunity, we need FNR = 1-TPR\n",
    "\n",
    "\"Equalised odds\" = false positive rates. fp / fp+tn . percentage of actual negatives incorrectly predcted as positive. percentage of people wrongfully benefitting fromt he model. \n",
    "fro equalised odds, TRP_0 = TPR_1 and FPR_0 = FPR_1"
   ]
  },
  {
   "cell_type": "code",
   "execution_count": 122,
   "id": "5efbc22d",
   "metadata": {},
   "outputs": [
    {
     "data": {
      "text/plain": [
       "age              float64\n",
       "class            float64\n",
       "education        float64\n",
       "working_hours    float64\n",
       "sex              float64\n",
       "income              bool\n",
       "y_pred              bool\n",
       "dtype: object"
      ]
     },
     "execution_count": 122,
     "metadata": {},
     "output_type": "execute_result"
    }
   ],
   "source": [
    "df_test.dtypes"
   ]
  },
  {
   "cell_type": "code",
   "execution_count": 119,
   "id": "7161d2e4",
   "metadata": {},
   "outputs": [],
   "source": [
    "\n",
    "# from github code copy pasted\n",
    "def fairness_metrics(df):\n",
    "    \"\"\"Calculate fairness for subgroup of population\"\"\"\n",
    "    \n",
    "    #Confusion Matrix\n",
    "    cm=confusion_matrix(df_test[\"income\"],df_test[\"y_pred\"])\n",
    "    TN, FP, FN, TP = cm.ravel()\n",
    "    \n",
    "    N = TP+FP+FN+TN #Total population\n",
    "    ACC = (TP+TN)/N #Accuracy\n",
    "    TPR = TP/(TP+FN) # True positive rate\n",
    "    FPR = FP/(FP+TN) # False positive rate\n",
    "    FNR = FN/(TP+FN) # False negative rate\n",
    "    PPP = (TP + FP)/N # % predicted as positive\n",
    "    \n",
    "    return np.array([ACC, TPR, FPR, FNR, PPP])  "
   ]
  },
  {
   "cell_type": "code",
   "execution_count": 128,
   "id": "55bae3d7",
   "metadata": {},
   "outputs": [
    {
     "name": "stdout",
     "output_type": "stream",
     "text": [
      "[0.80829479 0.91569723 0.40758403 0.08430277 0.74688882]\n",
      "[0.80829479 0.91569723 0.40758403 0.08430277 0.74688882]\n"
     ]
    }
   ],
   "source": [
    "metrics_sex_male = fairness_metrics(df_test[df_test[\"sex\"]==1.0])\n",
    "metrics_sex_female = fairness_metrics(df_test[df_test[\"sex\"]==2.0])\n",
    "print(metrics_sex_male)\n",
    "print(metrics_sex_female)"
   ]
  },
  {
   "cell_type": "markdown",
   "id": "8430ce14",
   "metadata": {},
   "source": [
    "clearly something is funky, cause the numbers should not be the same, so back at the annoying code from before."
   ]
  },
  {
   "cell_type": "code",
   "execution_count": 103,
   "id": "de6a593a",
   "metadata": {},
   "outputs": [],
   "source": [
    "from sklearn.metrics import ConfusionMatrixDisplay"
   ]
  },
  {
   "cell_type": "code",
   "execution_count": null,
   "id": "82b48e7a",
   "metadata": {},
   "outputs": [],
   "source": [
    "cm=confusion_matrix(y_test,yhat)\n",
    "TN, FP, FN, TP = cm.ravel()\n",
    "N = TP+FP+FN+TN #Total population\n",
    "ACC = (TP+TN)/N #Accuracy\n",
    "TPR = TP/(TP+FN) # True positive rate\n",
    "FPR = FP/(FP+TN) # False positive rate\n",
    "FNR = FN/(TP+FN) # False negative rate\n",
    "PPP = (TP + FP)/N # % predicted as positive"
   ]
  },
  {
   "cell_type": "code",
   "execution_count": 106,
   "id": "d45075fc",
   "metadata": {},
   "outputs": [
    {
     "data": {
      "text/plain": [
       "<sklearn.metrics._plot.confusion_matrix.ConfusionMatrixDisplay at 0x7fcf985c2640>"
      ]
     },
     "execution_count": 106,
     "metadata": {},
     "output_type": "execute_result"
    },
    {
     "data": {
      "image/png": "[encoded data removed]",
      "text/plain": [
       "<Figure size 640x480 with 2 Axes>"
      ]
     },
     "metadata": {},
     "output_type": "display_data"
    }
   ],
   "source": [
    "d = ConfusionMatrixDisplay(confusion_matrix=cm)\n",
    "d.plot()"
   ]
  },
  {
   "cell_type": "code",
   "execution_count": 126,
   "id": "086e9a70",
   "metadata": {},
   "outputs": [],
   "source": [
    "cm2=confusion_matrix(df_test[\"income\"],df_test[\"y_pred\"])\n",
    "TN, FP, FN, TP = cm.ravel()\n",
    "N = TP+FP+FN+TN #Total population\n",
    "ACC = (TP+TN)/N #Accuracy\n",
    "TPR = TP/(TP+FN) # True positive rate\n",
    "FPR = FP/(FP+TN) # False positive rate\n",
    "FNR = FN/(TP+FN) # False negative rate\n",
    "PPP = (TP + FP)/N # % predicted as positive"
   ]
  },
  {
   "cell_type": "code",
   "execution_count": null,
   "id": "166fbe5c",
   "metadata": {},
   "outputs": [],
   "source": []
  },
  {
   "cell_type": "code",
   "execution_count": 127,
   "id": "d100e32a",
   "metadata": {},
   "outputs": [
    {
     "data": {
      "text/plain": [
       "<sklearn.metrics._plot.confusion_matrix.ConfusionMatrixDisplay at 0x7fd121113250>"
      ]
     },
     "execution_count": 127,
     "metadata": {},
     "output_type": "execute_result"
    },
    {
     "data": {
      "image/png": "[encoded data removed]",
      "text/plain": [
       "<Figure size 640x480 with 2 Axes>"
      ]
     },
     "metadata": {},
     "output_type": "display_data"
    }
   ],
   "source": [
    "d2 = ConfusionMatrixDisplay(confusion_matrix=cm2)\n",
    "d2.plot()"
   ]
  },
  {
   "cell_type": "code",
   "execution_count": null,
   "id": "7a09219b",
   "metadata": {},
   "outputs": [
    {
     "name": "stdout",
     "output_type": "stream",
     "text": [
      "[[ 7702  5299]\n",
      " [ 2203 23929]]\n"
     ]
    }
   ],
   "source": [
    "# equal opportunity: we TPR_0/TPR_1\n"
   ]
  },
  {
   "cell_type": "markdown",
   "id": "c621162f",
   "metadata": {},
   "source": [
    "TODO change the basic classifier to have multiple thresholds, and calculate the metrics wiht the different thresholds, "
   ]
  },
  {
   "cell_type": "code",
   "execution_count": null,
   "id": "8a2096a3",
   "metadata": {},
   "outputs": [
    {
     "name": "stdout",
     "output_type": "stream",
     "text": [
      "[0.80829479 0.91569723 0.40758403 0.08430277 0.74688882]\n",
      "[0.80829479 0.91569723 0.40758403 0.08430277 0.74688882]\n"
     ]
    }
   ],
   "source": []
  },
  {
   "cell_type": "markdown",
   "id": "b425c6f8",
   "metadata": {},
   "source": [
    "### Additional ideas\n",
    "\n",
    "1) Replace your classifier with a standard classifier such as linear regression, a decision tree, a random forest, or a neural network. How do the results change? \n",
    "2) Change the prediction task: For example, you could set the income much higher. What is the influence of changing the prediction task?"
   ]
  }
 ],
 "metadata": {
  "kernelspec": {
   "display_name": "base",
   "language": "python",
   "name": "python3"
  },
  "language_info": {
   "codemirror_mode": {
    "name": "ipython",
    "version": 3
   },
   "file_extension": ".py",
   "mimetype": "text/x-python",
   "name": "python",
   "nbconvert_exporter": "python",
   "pygments_lexer": "ipython3",
   "version": "3.9.12"
  }
 },
 "nbformat": 4,
 "nbformat_minor": 5
}
