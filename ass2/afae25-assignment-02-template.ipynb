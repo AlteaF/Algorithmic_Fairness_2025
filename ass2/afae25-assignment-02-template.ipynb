{
 "cells": [
  {
   "attachments": {},
   "cell_type": "markdown",
   "metadata": {},
   "source": [
    "# Algorithmic Fairness, Accountability, and Ethics, Spring 2025\n",
    "\n",
    "## Mandatory Assignment 2\n",
    "\n",
    "Please use the following code to prepare the dataset.\n",
    " "
   ]
  },
  {
   "cell_type": "code",
   "execution_count": 31,
   "metadata": {},
   "outputs": [],
   "source": [
    "from folktables.acs import adult_filter\n",
    "from folktables import ACSDataSource\n",
    "import numpy as np\n",
    "import pandas as pd\n",
    "from sklearn.model_selection import train_test_split\n",
    "from sklearn.model_selection import KFold\n",
    "from sklearn.linear_model import LogisticRegression\n",
    "from sklearn.model_selection import cross_val_score\n",
    "from numpy import mean\n",
    "from numpy import std\n",
    "import matplotlib.pyplot as plt\n",
    "from sklearn.metrics import accuracy_score, balanced_accuracy_score, f1_score\n",
    "from scipy import stats\n",
    "from sklearn.preprocessing import StandardScaler, RobustScaler\n",
    "from sklearn.compose import ColumnTransformer\n",
    "import scipy.optimize as opt\n",
    "np.random.seed(42)"
   ]
  },
  {
   "cell_type": "code",
   "execution_count": 2,
   "metadata": {},
   "outputs": [],
   "source": [
    "data_source = ACSDataSource(survey_year='2018', horizon='1-Year', survey='person')\n",
    "acs_data = data_source.get_data(states=[\"CA\"], download=False)\n",
    "\n",
    "feature_names = ['AGEP', # Age\n",
    "                 \"CIT\", # Citizenship status\n",
    "                 'COW', # Class of worker\n",
    "                 \"ENG\", # Ability to speak English\n",
    "                 'SCHL', # Educational attainment\n",
    "                 'MAR', # Marital status\n",
    "                 \"HINS1\", # Insurance through a current or former employer or union\n",
    "                 \"HINS2\", # Insurance purchased directly from an insurance company\n",
    "                 \"HINS4\", # Medicaid\n",
    "                 \"RAC1P\", # Recoded detailed race code\n",
    "                 'SEX']\n",
    "\n",
    "target_name = \"PINCP\" # Total person's income\n",
    "\n",
    "def data_processing(data, features, target_name:str, threshold: float = 35000):\n",
    "    df = data\n",
    "    ### Adult Filter (STARTS) (from Foltktables)\n",
    "    df = df[~df[\"SEX\"].isnull()]\n",
    "    df = df[~df[\"RAC1P\"].isnull()]\n",
    "    df = df[df['AGEP'] > 16]\n",
    "    df = df[df['PINCP'] > 100]\n",
    "    df = df[df['WKHP'] > 0]\n",
    "    df = df[df['PWGTP'] >= 1]\n",
    "    df = df[df[\"SCHL\"]>=15] \n",
    "    ### Adult Filter (ENDS)\n",
    "    ### Groups of interest\n",
    "    sex = df[\"SEX\"].values\n",
    "    race = df[\"RAC1P\"]\n",
    "    race = (df[\"RAC1P\"] == 1).astype(int)\n",
    "    race = race.values\n",
    "    ### Target\n",
    "    df[\"target\"] = df[target_name] > threshold\n",
    "    target = df[\"target\"].values\n",
    "    df = df[features + [\"target\", target_name]] ##we want to keep df before one_hot encoding to make Bias Analysis\n",
    "    df_processed = df[features].copy()\n",
    "    cols = [ \"HINS1\", \"HINS2\", \"HINS4\", \"CIT\", \"COW\", \"SCHL\", \"MAR\", \"SEX\", \"RAC1P\"]\n",
    "    df_processed = pd.get_dummies(df_processed, prefix=None, prefix_sep='_', dummy_na=False, columns=cols, drop_first=True)\n",
    "    df_processed = pd.get_dummies(df_processed, prefix=None, prefix_sep='_', dummy_na=True, columns=[\"ENG\"], drop_first=True)\n",
    "    return df_processed, df, target, sex, race\n",
    "\n",
    "data, data_original, target, group_g, group_r = data_processing(acs_data, feature_names, target_name)\n"
   ]
  },
  {
   "cell_type": "code",
   "execution_count": 3,
   "metadata": {},
   "outputs": [],
   "source": [
    "scaler = ColumnTransformer([(\"scaler\",StandardScaler(), [\"AGEP\"])], remainder=\"passthrough\")\n",
    "\n",
    "\n",
    "features_transformed = pd.DataFrame(\n",
    "    scaler.fit_transform(data), \n",
    "    columns=scaler.get_feature_names_out()\n",
    ")\n",
    "features_transformed.head()\n",
    "features_transformed.rename(columns={\"scaler__AGEP\": \"AGEP\"}, inplace=True)"
   ]
  },
  {
   "cell_type": "code",
   "execution_count": 4,
   "metadata": {},
   "outputs": [],
   "source": [
    "age_p = features_transformed[\"AGEP\"]\n",
    "\n",
    "data.drop(\"AGEP\", axis = 1, inplace=True)"
   ]
  },
  {
   "cell_type": "code",
   "execution_count": 5,
   "metadata": {},
   "outputs": [],
   "source": [
    "data = pd.concat([data.reset_index(drop=True), age_p.reset_index(drop=True)], axis=1)"
   ]
  },
  {
   "cell_type": "code",
   "execution_count": 6,
   "metadata": {},
   "outputs": [],
   "source": [
    "group_r_df = pd.DataFrame(group_r)\n",
    "\n",
    "group_r_df.rename(columns= {0:\"race\"}, inplace=True)\n"
   ]
  },
  {
   "cell_type": "code",
   "execution_count": 7,
   "metadata": {},
   "outputs": [],
   "source": [
    "data = pd.concat([data.reset_index(drop=True), group_r_df.reset_index(drop=True)], axis=1)"
   ]
  },
  {
   "cell_type": "code",
   "execution_count": 8,
   "metadata": {},
   "outputs": [
    {
     "data": {
      "text/html": [
       "<div>\n",
       "<style scoped>\n",
       "    .dataframe tbody tr th:only-of-type {\n",
       "        vertical-align: middle;\n",
       "    }\n",
       "\n",
       "    .dataframe tbody tr th {\n",
       "        vertical-align: top;\n",
       "    }\n",
       "\n",
       "    .dataframe thead th {\n",
       "        text-align: right;\n",
       "    }\n",
       "</style>\n",
       "<table border=\"1\" class=\"dataframe\">\n",
       "  <thead>\n",
       "    <tr style=\"text-align: right;\">\n",
       "      <th></th>\n",
       "      <th>HINS1_2</th>\n",
       "      <th>HINS2_2</th>\n",
       "      <th>HINS4_2</th>\n",
       "      <th>CIT_2</th>\n",
       "      <th>CIT_3</th>\n",
       "      <th>CIT_4</th>\n",
       "      <th>CIT_5</th>\n",
       "      <th>COW_2.0</th>\n",
       "      <th>COW_3.0</th>\n",
       "      <th>COW_4.0</th>\n",
       "      <th>...</th>\n",
       "      <th>RAC1P_6</th>\n",
       "      <th>RAC1P_7</th>\n",
       "      <th>RAC1P_8</th>\n",
       "      <th>RAC1P_9</th>\n",
       "      <th>ENG_2.0</th>\n",
       "      <th>ENG_3.0</th>\n",
       "      <th>ENG_4.0</th>\n",
       "      <th>ENG_nan</th>\n",
       "      <th>AGEP</th>\n",
       "      <th>race</th>\n",
       "    </tr>\n",
       "  </thead>\n",
       "  <tbody>\n",
       "    <tr>\n",
       "      <th>0</th>\n",
       "      <td>1</td>\n",
       "      <td>0</td>\n",
       "      <td>1</td>\n",
       "      <td>0</td>\n",
       "      <td>0</td>\n",
       "      <td>0</td>\n",
       "      <td>0</td>\n",
       "      <td>0</td>\n",
       "      <td>0</td>\n",
       "      <td>1</td>\n",
       "      <td>...</td>\n",
       "      <td>0</td>\n",
       "      <td>0</td>\n",
       "      <td>0</td>\n",
       "      <td>0</td>\n",
       "      <td>0</td>\n",
       "      <td>0</td>\n",
       "      <td>0</td>\n",
       "      <td>1</td>\n",
       "      <td>-1.441110</td>\n",
       "      <td>1</td>\n",
       "    </tr>\n",
       "    <tr>\n",
       "      <th>1</th>\n",
       "      <td>1</td>\n",
       "      <td>1</td>\n",
       "      <td>1</td>\n",
       "      <td>0</td>\n",
       "      <td>0</td>\n",
       "      <td>0</td>\n",
       "      <td>0</td>\n",
       "      <td>1</td>\n",
       "      <td>0</td>\n",
       "      <td>0</td>\n",
       "      <td>...</td>\n",
       "      <td>0</td>\n",
       "      <td>0</td>\n",
       "      <td>0</td>\n",
       "      <td>0</td>\n",
       "      <td>0</td>\n",
       "      <td>0</td>\n",
       "      <td>0</td>\n",
       "      <td>0</td>\n",
       "      <td>1.505785</td>\n",
       "      <td>1</td>\n",
       "    </tr>\n",
       "    <tr>\n",
       "      <th>2</th>\n",
       "      <td>1</td>\n",
       "      <td>0</td>\n",
       "      <td>1</td>\n",
       "      <td>0</td>\n",
       "      <td>0</td>\n",
       "      <td>0</td>\n",
       "      <td>0</td>\n",
       "      <td>1</td>\n",
       "      <td>0</td>\n",
       "      <td>0</td>\n",
       "      <td>...</td>\n",
       "      <td>0</td>\n",
       "      <td>0</td>\n",
       "      <td>0</td>\n",
       "      <td>0</td>\n",
       "      <td>0</td>\n",
       "      <td>0</td>\n",
       "      <td>0</td>\n",
       "      <td>1</td>\n",
       "      <td>-1.642035</td>\n",
       "      <td>1</td>\n",
       "    </tr>\n",
       "    <tr>\n",
       "      <th>3</th>\n",
       "      <td>1</td>\n",
       "      <td>1</td>\n",
       "      <td>0</td>\n",
       "      <td>0</td>\n",
       "      <td>0</td>\n",
       "      <td>0</td>\n",
       "      <td>0</td>\n",
       "      <td>0</td>\n",
       "      <td>0</td>\n",
       "      <td>0</td>\n",
       "      <td>...</td>\n",
       "      <td>0</td>\n",
       "      <td>0</td>\n",
       "      <td>0</td>\n",
       "      <td>1</td>\n",
       "      <td>0</td>\n",
       "      <td>0</td>\n",
       "      <td>0</td>\n",
       "      <td>0</td>\n",
       "      <td>-1.709010</td>\n",
       "      <td>0</td>\n",
       "    </tr>\n",
       "    <tr>\n",
       "      <th>4</th>\n",
       "      <td>1</td>\n",
       "      <td>1</td>\n",
       "      <td>1</td>\n",
       "      <td>0</td>\n",
       "      <td>0</td>\n",
       "      <td>0</td>\n",
       "      <td>0</td>\n",
       "      <td>0</td>\n",
       "      <td>0</td>\n",
       "      <td>0</td>\n",
       "      <td>...</td>\n",
       "      <td>0</td>\n",
       "      <td>0</td>\n",
       "      <td>0</td>\n",
       "      <td>0</td>\n",
       "      <td>0</td>\n",
       "      <td>0</td>\n",
       "      <td>0</td>\n",
       "      <td>1</td>\n",
       "      <td>-1.039261</td>\n",
       "      <td>1</td>\n",
       "    </tr>\n",
       "    <tr>\n",
       "      <th>...</th>\n",
       "      <td>...</td>\n",
       "      <td>...</td>\n",
       "      <td>...</td>\n",
       "      <td>...</td>\n",
       "      <td>...</td>\n",
       "      <td>...</td>\n",
       "      <td>...</td>\n",
       "      <td>...</td>\n",
       "      <td>...</td>\n",
       "      <td>...</td>\n",
       "      <td>...</td>\n",
       "      <td>...</td>\n",
       "      <td>...</td>\n",
       "      <td>...</td>\n",
       "      <td>...</td>\n",
       "      <td>...</td>\n",
       "      <td>...</td>\n",
       "      <td>...</td>\n",
       "      <td>...</td>\n",
       "      <td>...</td>\n",
       "      <td>...</td>\n",
       "    </tr>\n",
       "    <tr>\n",
       "      <th>178278</th>\n",
       "      <td>0</td>\n",
       "      <td>1</td>\n",
       "      <td>1</td>\n",
       "      <td>0</td>\n",
       "      <td>0</td>\n",
       "      <td>0</td>\n",
       "      <td>1</td>\n",
       "      <td>0</td>\n",
       "      <td>0</td>\n",
       "      <td>0</td>\n",
       "      <td>...</td>\n",
       "      <td>1</td>\n",
       "      <td>0</td>\n",
       "      <td>0</td>\n",
       "      <td>0</td>\n",
       "      <td>0</td>\n",
       "      <td>0</td>\n",
       "      <td>0</td>\n",
       "      <td>0</td>\n",
       "      <td>-0.302537</td>\n",
       "      <td>0</td>\n",
       "    </tr>\n",
       "    <tr>\n",
       "      <th>178279</th>\n",
       "      <td>0</td>\n",
       "      <td>1</td>\n",
       "      <td>1</td>\n",
       "      <td>0</td>\n",
       "      <td>0</td>\n",
       "      <td>0</td>\n",
       "      <td>1</td>\n",
       "      <td>0</td>\n",
       "      <td>0</td>\n",
       "      <td>0</td>\n",
       "      <td>...</td>\n",
       "      <td>1</td>\n",
       "      <td>0</td>\n",
       "      <td>0</td>\n",
       "      <td>0</td>\n",
       "      <td>0</td>\n",
       "      <td>0</td>\n",
       "      <td>0</td>\n",
       "      <td>0</td>\n",
       "      <td>-0.235562</td>\n",
       "      <td>0</td>\n",
       "    </tr>\n",
       "    <tr>\n",
       "      <th>178280</th>\n",
       "      <td>0</td>\n",
       "      <td>1</td>\n",
       "      <td>1</td>\n",
       "      <td>0</td>\n",
       "      <td>0</td>\n",
       "      <td>0</td>\n",
       "      <td>0</td>\n",
       "      <td>0</td>\n",
       "      <td>0</td>\n",
       "      <td>0</td>\n",
       "      <td>...</td>\n",
       "      <td>0</td>\n",
       "      <td>0</td>\n",
       "      <td>0</td>\n",
       "      <td>0</td>\n",
       "      <td>0</td>\n",
       "      <td>0</td>\n",
       "      <td>0</td>\n",
       "      <td>1</td>\n",
       "      <td>1.237885</td>\n",
       "      <td>1</td>\n",
       "    </tr>\n",
       "    <tr>\n",
       "      <th>178281</th>\n",
       "      <td>1</td>\n",
       "      <td>1</td>\n",
       "      <td>1</td>\n",
       "      <td>0</td>\n",
       "      <td>0</td>\n",
       "      <td>1</td>\n",
       "      <td>0</td>\n",
       "      <td>0</td>\n",
       "      <td>0</td>\n",
       "      <td>0</td>\n",
       "      <td>...</td>\n",
       "      <td>1</td>\n",
       "      <td>0</td>\n",
       "      <td>0</td>\n",
       "      <td>0</td>\n",
       "      <td>1</td>\n",
       "      <td>0</td>\n",
       "      <td>0</td>\n",
       "      <td>0</td>\n",
       "      <td>1.773684</td>\n",
       "      <td>0</td>\n",
       "    </tr>\n",
       "    <tr>\n",
       "      <th>178282</th>\n",
       "      <td>1</td>\n",
       "      <td>1</td>\n",
       "      <td>1</td>\n",
       "      <td>0</td>\n",
       "      <td>0</td>\n",
       "      <td>1</td>\n",
       "      <td>0</td>\n",
       "      <td>0</td>\n",
       "      <td>0</td>\n",
       "      <td>0</td>\n",
       "      <td>...</td>\n",
       "      <td>0</td>\n",
       "      <td>0</td>\n",
       "      <td>1</td>\n",
       "      <td>0</td>\n",
       "      <td>1</td>\n",
       "      <td>0</td>\n",
       "      <td>0</td>\n",
       "      <td>0</td>\n",
       "      <td>-0.168587</td>\n",
       "      <td>0</td>\n",
       "    </tr>\n",
       "  </tbody>\n",
       "</table>\n",
       "<p>178283 rows × 42 columns</p>\n",
       "</div>"
      ],
      "text/plain": [
       "        HINS1_2  HINS2_2  HINS4_2  CIT_2  CIT_3  CIT_4  CIT_5  COW_2.0  \\\n",
       "0             1        0        1      0      0      0      0        0   \n",
       "1             1        1        1      0      0      0      0        1   \n",
       "2             1        0        1      0      0      0      0        1   \n",
       "3             1        1        0      0      0      0      0        0   \n",
       "4             1        1        1      0      0      0      0        0   \n",
       "...         ...      ...      ...    ...    ...    ...    ...      ...   \n",
       "178278        0        1        1      0      0      0      1        0   \n",
       "178279        0        1        1      0      0      0      1        0   \n",
       "178280        0        1        1      0      0      0      0        0   \n",
       "178281        1        1        1      0      0      1      0        0   \n",
       "178282        1        1        1      0      0      1      0        0   \n",
       "\n",
       "        COW_3.0  COW_4.0  ...  RAC1P_6  RAC1P_7  RAC1P_8  RAC1P_9  ENG_2.0  \\\n",
       "0             0        1  ...        0        0        0        0        0   \n",
       "1             0        0  ...        0        0        0        0        0   \n",
       "2             0        0  ...        0        0        0        0        0   \n",
       "3             0        0  ...        0        0        0        1        0   \n",
       "4             0        0  ...        0        0        0        0        0   \n",
       "...         ...      ...  ...      ...      ...      ...      ...      ...   \n",
       "178278        0        0  ...        1        0        0        0        0   \n",
       "178279        0        0  ...        1        0        0        0        0   \n",
       "178280        0        0  ...        0        0        0        0        0   \n",
       "178281        0        0  ...        1        0        0        0        1   \n",
       "178282        0        0  ...        0        0        1        0        1   \n",
       "\n",
       "        ENG_3.0  ENG_4.0  ENG_nan      AGEP  race  \n",
       "0             0        0        1 -1.441110     1  \n",
       "1             0        0        0  1.505785     1  \n",
       "2             0        0        1 -1.642035     1  \n",
       "3             0        0        0 -1.709010     0  \n",
       "4             0        0        1 -1.039261     1  \n",
       "...         ...      ...      ...       ...   ...  \n",
       "178278        0        0        0 -0.302537     0  \n",
       "178279        0        0        0 -0.235562     0  \n",
       "178280        0        0        1  1.237885     1  \n",
       "178281        0        0        0  1.773684     0  \n",
       "178282        0        0        0 -0.168587     0  \n",
       "\n",
       "[178283 rows x 42 columns]"
      ]
     },
     "execution_count": 8,
     "metadata": {},
     "output_type": "execute_result"
    }
   ],
   "source": [
    "data"
   ]
  },
  {
   "cell_type": "code",
   "execution_count": 9,
   "metadata": {},
   "outputs": [],
   "source": [
    "\n",
    "X_train, X_test, y_train, y_test, group_g_train, group_g_test, group_r_train, group_r_test = train_test_split(\n",
    "    data, target, group_g, group_r, test_size=0.2, random_state=0, shuffle=False)"
   ]
  },
  {
   "cell_type": "code",
   "execution_count": 11,
   "metadata": {},
   "outputs": [],
   "source": [
    "N = 10000 ### I am subsampling because it is slow on my machine\n",
    "X_train_small = X_train[:N]\n",
    "y_train_small = y_train[:N]\n",
    "group_g_train_small = group_g_train[:N]\n",
    "group_g_test_small = group_g_test[:N]\n",
    "group_r_train_small = group_r_train[:N]\n",
    "group_r_test_small = group_r_train[:N]\n",
    "X_test_small = X_test[:N]\n",
    "y_test_small = y_test[:N]"
   ]
  },
  {
   "cell_type": "markdown",
   "metadata": {},
   "source": [
    "## EDA to see the different distributions"
   ]
  },
  {
   "cell_type": "code",
   "execution_count": 37,
   "metadata": {},
   "outputs": [
    {
     "name": "stdout",
     "output_type": "stream",
     "text": [
      "(178283,)\n",
      "(178283, 41)\n"
     ]
    }
   ],
   "source": [
    "print(target.shape)\n",
    "print(data.shape)\n"
   ]
  },
  {
   "cell_type": "code",
   "execution_count": 197,
   "metadata": {},
   "outputs": [
    {
     "name": "stdout",
     "output_type": "stream",
     "text": [
      "(178283, 1)\n"
     ]
    }
   ],
   "source": [
    "target_d = pd.DataFrame(target)\n",
    "print(target_d.shape)\n"
   ]
  },
  {
   "cell_type": "code",
   "execution_count": 198,
   "metadata": {},
   "outputs": [],
   "source": [
    "for_analysis = pd.concat([data.reset_index(drop=True), target_d.reset_index(drop=True)], axis=1)\n",
    "\n",
    "for_analysis.rename(columns={0:\"target\"}, inplace=True)"
   ]
  },
  {
   "cell_type": "code",
   "execution_count": 199,
   "metadata": {},
   "outputs": [
    {
     "data": {
      "text/plain": [
       "Index(['HINS1_2', 'HINS2_2', 'HINS4_2', 'CIT_2', 'CIT_3', 'CIT_4', 'CIT_5',\n",
       "       'COW_2.0', 'COW_3.0', 'COW_4.0', 'COW_5.0', 'COW_6.0', 'COW_7.0',\n",
       "       'COW_8.0', 'SCHL_16.0', 'SCHL_17.0', 'SCHL_18.0', 'SCHL_19.0',\n",
       "       'SCHL_20.0', 'SCHL_21.0', 'SCHL_22.0', 'SCHL_23.0', 'SCHL_24.0',\n",
       "       'MAR_2', 'MAR_3', 'MAR_4', 'MAR_5', 'SEX_2', 'RAC1P_2', 'RAC1P_3',\n",
       "       'RAC1P_4', 'RAC1P_5', 'RAC1P_6', 'RAC1P_7', 'RAC1P_8', 'RAC1P_9',\n",
       "       'ENG_2.0', 'ENG_3.0', 'ENG_4.0', 'ENG_nan', 'AGEP', 'race', 'target'],\n",
       "      dtype='object')"
      ]
     },
     "execution_count": 199,
     "metadata": {},
     "output_type": "execute_result"
    }
   ],
   "source": [
    "for_analysis.columns"
   ]
  },
  {
   "cell_type": "code",
   "execution_count": null,
   "metadata": {},
   "outputs": [
    {
     "name": "stdout",
     "output_type": "stream",
     "text": [
      "(array([False,  True]), array([ 74479, 103804]))\n"
     ]
    }
   ],
   "source": [
    "print(np.unique(target, return_counts=True))\n"
   ]
  },
  {
   "cell_type": "code",
   "execution_count": 12,
   "metadata": {},
   "outputs": [
    {
     "data": {
      "text/plain": [
       "0.58224283863296"
      ]
     },
     "execution_count": 12,
     "metadata": {},
     "output_type": "execute_result"
    }
   ],
   "source": [
    "103804/178283"
   ]
  },
  {
   "cell_type": "code",
   "execution_count": 45,
   "metadata": {},
   "outputs": [
    {
     "name": "stdout",
     "output_type": "stream",
     "text": [
      "0    0.520775\n",
      "1    0.479225\n",
      "Name: SEX_2, dtype: float64\n",
      "0    0.520123\n",
      "1    0.479877\n",
      "Name: SEX_2, dtype: float64\n"
     ]
    }
   ],
   "source": [
    "print(X_train.SEX_2.value_counts(normalize=True))\n",
    "print(for_analysis.SEX_2.value_counts(normalize=True))"
   ]
  },
  {
   "cell_type": "code",
   "execution_count": 200,
   "metadata": {},
   "outputs": [
    {
     "data": {
      "text/plain": [
       "True     0.582243\n",
       "False    0.417757\n",
       "Name: target, dtype: float64"
      ]
     },
     "execution_count": 200,
     "metadata": {},
     "output_type": "execute_result"
    }
   ],
   "source": [
    "for_analysis.target.value_counts(normalize=True)"
   ]
  },
  {
   "cell_type": "code",
   "execution_count": 52,
   "metadata": {},
   "outputs": [
    {
     "name": "stdout",
     "output_type": "stream",
     "text": [
      "men's target : True     0.639185\n",
      "False    0.360815\n",
      "Name: target, dtype: float64\n",
      "women's target : True     0.520525\n",
      "False    0.479475\n",
      "Name: target, dtype: float64\n"
     ]
    }
   ],
   "source": [
    "print(f\"men's target : {for_analysis[for_analysis.SEX_2==0].target.value_counts(normalize=True)}\")\n",
    "\n",
    "print(f\"women's target : {for_analysis[for_analysis.SEX_2==1].target.value_counts(normalize=True)}\")"
   ]
  },
  {
   "cell_type": "code",
   "execution_count": 59,
   "metadata": {},
   "outputs": [],
   "source": [
    "races = list(data_original.RAC1P.value_counts(normalize=True))\n"
   ]
  },
  {
   "cell_type": "code",
   "execution_count": 67,
   "metadata": {},
   "outputs": [
    {
     "data": {
      "image/png": "[encoded data removed]",
      "text/plain": [
       "<Figure size 1000x500 with 1 Axes>"
      ]
     },
     "metadata": {},
     "output_type": "display_data"
    }
   ],
   "source": [
    "import numpy as np\n",
    "import matplotlib.pyplot as plt\n",
    "\n",
    "# Get population distribution\n",
    "population_division = dict(data_original.RAC1P.value_counts(normalize=True))\n",
    "\n",
    "# Mapping race codes to race names\n",
    "race_mapping = {\n",
    "    1: \"White\",\n",
    "    2: \"Black\",\n",
    "    3: \"Indigenous American\",\n",
    "    4: \"Alaska Native\",\n",
    "    5: \"American & Alaska Indigenous\",\n",
    "    6: \"Asian\",\n",
    "    7: \"Pacific Islander\",\n",
    "    8: \"Other Race\",\n",
    "    9: \"Two or More Races\"\n",
    "}\n",
    "\n",
    "# Extract race codes and population values\n",
    "race_codes = list(population_division.keys())\n",
    "population_values = list(population_division.values())\n",
    "\n",
    "# Convert race codes to names\n",
    "race_names = [race_mapping.get(code, f\"Race {code}\") for code in race_codes]\n",
    "\n",
    "# Create the bar plot\n",
    "plt.figure(figsize=(10, 5))\n",
    "plt.bar(race_names, population_values, color=\"red\")\n",
    "\n",
    "# Labeling\n",
    "plt.ylabel(\"Proportion\")\n",
    "plt.title(\"Population Distribution by Race\")\n",
    "plt.xticks(rotation=45, ha=\"right\")\n",
    "\n",
    "# Display values on bars\n",
    "for i, value in enumerate(population_values):\n",
    "    plt.text(i, value + 0.01, f\"{value:.4f}\", ha='center', fontsize=8)\n",
    "\n",
    "plt.ylim(0, max(population_values) + 0.05)\n",
    "plt.show()\n"
   ]
  },
  {
   "cell_type": "markdown",
   "metadata": {},
   "source": [
    " \"RAC1P\": {\n",
    "        1.0: \"White alone\",\n",
    "        2.0: \"Black or African American alone\",\n",
    "        3.0: \"American Indian alone\",\n",
    "        4.0: \"Alaska Native alone\",\n",
    "        5.0: (\n",
    "            \"American Indian and Alaska Native tribes specified;\"\n",
    "            \"or American Indian or Alaska Native,\"\n",
    "            \"not specified and no other\"\n",
    "        ),\n",
    "        6.0: \"Asian alone\",\n",
    "        7.0: \"Native Hawaiian and Other Pacific Islander alone\",\n",
    "        8.0: \"Some Other Race alone\",\n",
    "        9.0: \"Two or More Races\",\n",
    "    }"
   ]
  },
  {
   "cell_type": "code",
   "execution_count": 68,
   "metadata": {},
   "outputs": [
    {
     "name": "stdout",
     "output_type": "stream",
     "text": [
      "white people's target : True     0.609297\n",
      "False    0.390703\n",
      "Name: target, dtype: float64\n",
      "non-white people's target : True     0.536727\n",
      "False    0.463273\n",
      "Name: target, dtype: float64\n"
     ]
    }
   ],
   "source": [
    "print(f\"white people's target : {data_original[data_original.RAC1P==1].target.value_counts(normalize=True)}\")\n",
    "\n",
    "print(f\"non-white people's target : {data_original[data_original.RAC1P!=1].target.value_counts(normalize=True)}\")"
   ]
  },
  {
   "cell_type": "code",
   "execution_count": 69,
   "metadata": {},
   "outputs": [
    {
     "name": "stdout",
     "output_type": "stream",
     "text": [
      "White people's target distribution:\n",
      "True     0.609297\n",
      "False    0.390703\n",
      "Name: target, dtype: float64\n",
      "\n",
      "Non-white people's target distribution:\n",
      "True     0.536727\n",
      "False    0.463273\n",
      "Name: target, dtype: float64\n",
      "\n"
     ]
    }
   ],
   "source": [
    "# Identify white people (where all RAC1P_2 to RAC1P_9 columns are 0)\n",
    "white_mask = (for_analysis.loc[:, \"RAC1P_2\":\"RAC1P_9\"] == 0).all(axis=1)\n",
    "\n",
    "# Identify non-white people (where at least one RAC1P_2 to RAC1P_9 column is 1)\n",
    "non_white_mask = (for_analysis.loc[:, \"RAC1P_2\":\"RAC1P_9\"] == 1).any(axis=1)\n",
    "\n",
    "# Get target distribution for white people\n",
    "white_target_distribution = for_analysis.loc[white_mask, \"target\"].value_counts(normalize=True)\n",
    "\n",
    "# Get target distribution for non-white people\n",
    "non_white_target_distribution = for_analysis.loc[non_white_mask, \"target\"].value_counts(normalize=True)\n",
    "\n",
    "# Print results\n",
    "print(f\"White people's target distribution:\\n{white_target_distribution}\\n\")\n",
    "print(f\"Non-white people's target distribution:\\n{non_white_target_distribution}\\n\")\n"
   ]
  },
  {
   "cell_type": "code",
   "execution_count": 73,
   "metadata": {},
   "outputs": [
    {
     "data": {
      "image/png": "[encoded data removed]",
      "text/plain": [
       "<Figure size 1000x600 with 1 Axes>"
      ]
     },
     "metadata": {},
     "output_type": "display_data"
    }
   ],
   "source": [
    "import matplotlib.pyplot as plt\n",
    "import numpy as np\n",
    "\n",
    "# Define masks for race\n",
    "white_mask = (for_analysis.loc[:, \"RAC1P_2\":\"RAC1P_9\"] == 0).all(axis=1)\n",
    "non_white_mask = (for_analysis.loc[:, \"RAC1P_2\":\"RAC1P_9\"] == 1).any(axis=1)\n",
    "\n",
    "# Define masks for gender\n",
    "woman_mask = for_analysis[\"SEX_2\"] == 1\n",
    "man_mask = for_analysis[\"SEX_2\"] == 0\n",
    "\n",
    "# Create combined groups\n",
    "groups = {\n",
    "    \"White Women\": for_analysis[white_mask & woman_mask],\n",
    "    \"White Men\": for_analysis[white_mask & man_mask],\n",
    "    \"Non-White Women\": for_analysis[non_white_mask & woman_mask],\n",
    "    \"Non-White Men\": for_analysis[non_white_mask & man_mask]\n",
    "}\n",
    "\n",
    "# Collect data for plotting\n",
    "group_names = []\n",
    "target_distributions = []\n",
    "for group_name, group_df in groups.items():\n",
    "    target_dist = group_df[\"target\"].value_counts(normalize=True).sort_index()\n",
    "    group_names.append(group_name)\n",
    "    target_distributions.append(target_dist)\n",
    "\n",
    "target_colors = {True: \"limegreen\", False: \"darkorange\"}\n",
    "\n",
    "# Convert list to numpy array for plotting\n",
    "target_categories = sorted(for_analysis[\"target\"].unique(), reverse=True)  # Reversed order\n",
    "  # Ensure correct order of target values\n",
    "num_targets = len(target_categories)\n",
    "num_groups = len(groups)\n",
    "bar_width = 0.2  # Width of bars\n",
    "\n",
    "# Create bar positions\n",
    "x = np.arange(num_groups)\n",
    "\n",
    "# Plot results\n",
    "plt.figure(figsize=(10, 6))\n",
    "\n",
    "for i, target_val in enumerate(target_categories):\n",
    "    values = [dist.get(target_val, 0) for dist in target_distributions]  # Get proportions for each group\n",
    "    plt.bar(x + i * bar_width, values, bar_width, label=f\"Target {target_val}\", color=target_colors[target_val])\n",
    "\n",
    "# Labeling\n",
    "plt.xticks(x + (num_targets - 1) * bar_width / 2, group_names, rotation=45, ha=\"right\")\n",
    "plt.ylabel(\"Proportion\")\n",
    "plt.title(\"Target Distribution by Race & Gender\")\n",
    "plt.legend(title=\"Target Value\")\n",
    "plt.ylim(0, 1)\n",
    "\n",
    "# Display values on bars\n",
    "for i, target_val in enumerate(target_categories):\n",
    "    values = [dist.get(target_val, 0) for dist in target_distributions]\n",
    "    for j, value in enumerate(values):\n",
    "        plt.text(x[j] + i * bar_width, value + 0.02, f\"{value:.2f}\", ha=\"center\", fontsize=8)\n",
    "\n",
    "plt.show()\n"
   ]
  },
  {
   "cell_type": "markdown",
   "metadata": {},
   "source": [
    "# Task 1\n",
    "\n",
    "Train one logistic regression model without any fairness constraing on the Folktales dataset and calculate its general accuracy, and respectively the accuracies for men and women (feature SEX) and for different races (feature RAC1P). Remember to evaluate the model using cross validation."
   ]
  },
  {
   "cell_type": "code",
   "execution_count": 12,
   "metadata": {},
   "outputs": [
    {
     "data": {
      "text/html": [
       "<style>#sk-container-id-1 {\n",
       "  /* Definition of color scheme common for light and dark mode */\n",
       "  --sklearn-color-text: black;\n",
       "  --sklearn-color-line: gray;\n",
       "  /* Definition of color scheme for unfitted estimators */\n",
       "  --sklearn-color-unfitted-level-0: #fff5e6;\n",
       "  --sklearn-color-unfitted-level-1: #f6e4d2;\n",
       "  --sklearn-color-unfitted-level-2: #ffe0b3;\n",
       "  --sklearn-color-unfitted-level-3: chocolate;\n",
       "  /* Definition of color scheme for fitted estimators */\n",
       "  --sklearn-color-fitted-level-0: #f0f8ff;\n",
       "  --sklearn-color-fitted-level-1: #d4ebff;\n",
       "  --sklearn-color-fitted-level-2: #b3dbfd;\n",
       "  --sklearn-color-fitted-level-3: cornflowerblue;\n",
       "\n",
       "  /* Specific color for light theme */\n",
       "  --sklearn-color-text-on-default-background: var(--sg-text-color, var(--theme-code-foreground, var(--jp-content-font-color1, black)));\n",
       "  --sklearn-color-background: var(--sg-background-color, var(--theme-background, var(--jp-layout-color0, white)));\n",
       "  --sklearn-color-border-box: var(--sg-text-color, var(--theme-code-foreground, var(--jp-content-font-color1, black)));\n",
       "  --sklearn-color-icon: #696969;\n",
       "\n",
       "  @media (prefers-color-scheme: dark) {\n",
       "    /* Redefinition of color scheme for dark theme */\n",
       "    --sklearn-color-text-on-default-background: var(--sg-text-color, var(--theme-code-foreground, var(--jp-content-font-color1, white)));\n",
       "    --sklearn-color-background: var(--sg-background-color, var(--theme-background, var(--jp-layout-color0, #111)));\n",
       "    --sklearn-color-border-box: var(--sg-text-color, var(--theme-code-foreground, var(--jp-content-font-color1, white)));\n",
       "    --sklearn-color-icon: #878787;\n",
       "  }\n",
       "}\n",
       "\n",
       "#sk-container-id-1 {\n",
       "  color: var(--sklearn-color-text);\n",
       "}\n",
       "\n",
       "#sk-container-id-1 pre {\n",
       "  padding: 0;\n",
       "}\n",
       "\n",
       "#sk-container-id-1 input.sk-hidden--visually {\n",
       "  border: 0;\n",
       "  clip: rect(1px 1px 1px 1px);\n",
       "  clip: rect(1px, 1px, 1px, 1px);\n",
       "  height: 1px;\n",
       "  margin: -1px;\n",
       "  overflow: hidden;\n",
       "  padding: 0;\n",
       "  position: absolute;\n",
       "  width: 1px;\n",
       "}\n",
       "\n",
       "#sk-container-id-1 div.sk-dashed-wrapped {\n",
       "  border: 1px dashed var(--sklearn-color-line);\n",
       "  margin: 0 0.4em 0.5em 0.4em;\n",
       "  box-sizing: border-box;\n",
       "  padding-bottom: 0.4em;\n",
       "  background-color: var(--sklearn-color-background);\n",
       "}\n",
       "\n",
       "#sk-container-id-1 div.sk-container {\n",
       "  /* jupyter's `normalize.less` sets `[hidden] { display: none; }`\n",
       "     but bootstrap.min.css set `[hidden] { display: none !important; }`\n",
       "     so we also need the `!important` here to be able to override the\n",
       "     default hidden behavior on the sphinx rendered scikit-learn.org.\n",
       "     See: https://github.com/scikit-learn/scikit-learn/issues/21755 */\n",
       "  display: inline-block !important;\n",
       "  position: relative;\n",
       "}\n",
       "\n",
       "#sk-container-id-1 div.sk-text-repr-fallback {\n",
       "  display: none;\n",
       "}\n",
       "\n",
       "div.sk-parallel-item,\n",
       "div.sk-serial,\n",
       "div.sk-item {\n",
       "  /* draw centered vertical line to link estimators */\n",
       "  background-image: linear-gradient(var(--sklearn-color-text-on-default-background), var(--sklearn-color-text-on-default-background));\n",
       "  background-size: 2px 100%;\n",
       "  background-repeat: no-repeat;\n",
       "  background-position: center center;\n",
       "}\n",
       "\n",
       "/* Parallel-specific style estimator block */\n",
       "\n",
       "#sk-container-id-1 div.sk-parallel-item::after {\n",
       "  content: \"\";\n",
       "  width: 100%;\n",
       "  border-bottom: 2px solid var(--sklearn-color-text-on-default-background);\n",
       "  flex-grow: 1;\n",
       "}\n",
       "\n",
       "#sk-container-id-1 div.sk-parallel {\n",
       "  display: flex;\n",
       "  align-items: stretch;\n",
       "  justify-content: center;\n",
       "  background-color: var(--sklearn-color-background);\n",
       "  position: relative;\n",
       "}\n",
       "\n",
       "#sk-container-id-1 div.sk-parallel-item {\n",
       "  display: flex;\n",
       "  flex-direction: column;\n",
       "}\n",
       "\n",
       "#sk-container-id-1 div.sk-parallel-item:first-child::after {\n",
       "  align-self: flex-end;\n",
       "  width: 50%;\n",
       "}\n",
       "\n",
       "#sk-container-id-1 div.sk-parallel-item:last-child::after {\n",
       "  align-self: flex-start;\n",
       "  width: 50%;\n",
       "}\n",
       "\n",
       "#sk-container-id-1 div.sk-parallel-item:only-child::after {\n",
       "  width: 0;\n",
       "}\n",
       "\n",
       "/* Serial-specific style estimator block */\n",
       "\n",
       "#sk-container-id-1 div.sk-serial {\n",
       "  display: flex;\n",
       "  flex-direction: column;\n",
       "  align-items: center;\n",
       "  background-color: var(--sklearn-color-background);\n",
       "  padding-right: 1em;\n",
       "  padding-left: 1em;\n",
       "}\n",
       "\n",
       "\n",
       "/* Toggleable style: style used for estimator/Pipeline/ColumnTransformer box that is\n",
       "clickable and can be expanded/collapsed.\n",
       "- Pipeline and ColumnTransformer use this feature and define the default style\n",
       "- Estimators will overwrite some part of the style using the `sk-estimator` class\n",
       "*/\n",
       "\n",
       "/* Pipeline and ColumnTransformer style (default) */\n",
       "\n",
       "#sk-container-id-1 div.sk-toggleable {\n",
       "  /* Default theme specific background. It is overwritten whether we have a\n",
       "  specific estimator or a Pipeline/ColumnTransformer */\n",
       "  background-color: var(--sklearn-color-background);\n",
       "}\n",
       "\n",
       "/* Toggleable label */\n",
       "#sk-container-id-1 label.sk-toggleable__label {\n",
       "  cursor: pointer;\n",
       "  display: block;\n",
       "  width: 100%;\n",
       "  margin-bottom: 0;\n",
       "  padding: 0.5em;\n",
       "  box-sizing: border-box;\n",
       "  text-align: center;\n",
       "}\n",
       "\n",
       "#sk-container-id-1 label.sk-toggleable__label-arrow:before {\n",
       "  /* Arrow on the left of the label */\n",
       "  content: \"▸\";\n",
       "  float: left;\n",
       "  margin-right: 0.25em;\n",
       "  color: var(--sklearn-color-icon);\n",
       "}\n",
       "\n",
       "#sk-container-id-1 label.sk-toggleable__label-arrow:hover:before {\n",
       "  color: var(--sklearn-color-text);\n",
       "}\n",
       "\n",
       "/* Toggleable content - dropdown */\n",
       "\n",
       "#sk-container-id-1 div.sk-toggleable__content {\n",
       "  max-height: 0;\n",
       "  max-width: 0;\n",
       "  overflow: hidden;\n",
       "  text-align: left;\n",
       "  /* unfitted */\n",
       "  background-color: var(--sklearn-color-unfitted-level-0);\n",
       "}\n",
       "\n",
       "#sk-container-id-1 div.sk-toggleable__content.fitted {\n",
       "  /* fitted */\n",
       "  background-color: var(--sklearn-color-fitted-level-0);\n",
       "}\n",
       "\n",
       "#sk-container-id-1 div.sk-toggleable__content pre {\n",
       "  margin: 0.2em;\n",
       "  border-radius: 0.25em;\n",
       "  color: var(--sklearn-color-text);\n",
       "  /* unfitted */\n",
       "  background-color: var(--sklearn-color-unfitted-level-0);\n",
       "}\n",
       "\n",
       "#sk-container-id-1 div.sk-toggleable__content.fitted pre {\n",
       "  /* unfitted */\n",
       "  background-color: var(--sklearn-color-fitted-level-0);\n",
       "}\n",
       "\n",
       "#sk-container-id-1 input.sk-toggleable__control:checked~div.sk-toggleable__content {\n",
       "  /* Expand drop-down */\n",
       "  max-height: 200px;\n",
       "  max-width: 100%;\n",
       "  overflow: auto;\n",
       "}\n",
       "\n",
       "#sk-container-id-1 input.sk-toggleable__control:checked~label.sk-toggleable__label-arrow:before {\n",
       "  content: \"▾\";\n",
       "}\n",
       "\n",
       "/* Pipeline/ColumnTransformer-specific style */\n",
       "\n",
       "#sk-container-id-1 div.sk-label input.sk-toggleable__control:checked~label.sk-toggleable__label {\n",
       "  color: var(--sklearn-color-text);\n",
       "  background-color: var(--sklearn-color-unfitted-level-2);\n",
       "}\n",
       "\n",
       "#sk-container-id-1 div.sk-label.fitted input.sk-toggleable__control:checked~label.sk-toggleable__label {\n",
       "  background-color: var(--sklearn-color-fitted-level-2);\n",
       "}\n",
       "\n",
       "/* Estimator-specific style */\n",
       "\n",
       "/* Colorize estimator box */\n",
       "#sk-container-id-1 div.sk-estimator input.sk-toggleable__control:checked~label.sk-toggleable__label {\n",
       "  /* unfitted */\n",
       "  background-color: var(--sklearn-color-unfitted-level-2);\n",
       "}\n",
       "\n",
       "#sk-container-id-1 div.sk-estimator.fitted input.sk-toggleable__control:checked~label.sk-toggleable__label {\n",
       "  /* fitted */\n",
       "  background-color: var(--sklearn-color-fitted-level-2);\n",
       "}\n",
       "\n",
       "#sk-container-id-1 div.sk-label label.sk-toggleable__label,\n",
       "#sk-container-id-1 div.sk-label label {\n",
       "  /* The background is the default theme color */\n",
       "  color: var(--sklearn-color-text-on-default-background);\n",
       "}\n",
       "\n",
       "/* On hover, darken the color of the background */\n",
       "#sk-container-id-1 div.sk-label:hover label.sk-toggleable__label {\n",
       "  color: var(--sklearn-color-text);\n",
       "  background-color: var(--sklearn-color-unfitted-level-2);\n",
       "}\n",
       "\n",
       "/* Label box, darken color on hover, fitted */\n",
       "#sk-container-id-1 div.sk-label.fitted:hover label.sk-toggleable__label.fitted {\n",
       "  color: var(--sklearn-color-text);\n",
       "  background-color: var(--sklearn-color-fitted-level-2);\n",
       "}\n",
       "\n",
       "/* Estimator label */\n",
       "\n",
       "#sk-container-id-1 div.sk-label label {\n",
       "  font-family: monospace;\n",
       "  font-weight: bold;\n",
       "  display: inline-block;\n",
       "  line-height: 1.2em;\n",
       "}\n",
       "\n",
       "#sk-container-id-1 div.sk-label-container {\n",
       "  text-align: center;\n",
       "}\n",
       "\n",
       "/* Estimator-specific */\n",
       "#sk-container-id-1 div.sk-estimator {\n",
       "  font-family: monospace;\n",
       "  border: 1px dotted var(--sklearn-color-border-box);\n",
       "  border-radius: 0.25em;\n",
       "  box-sizing: border-box;\n",
       "  margin-bottom: 0.5em;\n",
       "  /* unfitted */\n",
       "  background-color: var(--sklearn-color-unfitted-level-0);\n",
       "}\n",
       "\n",
       "#sk-container-id-1 div.sk-estimator.fitted {\n",
       "  /* fitted */\n",
       "  background-color: var(--sklearn-color-fitted-level-0);\n",
       "}\n",
       "\n",
       "/* on hover */\n",
       "#sk-container-id-1 div.sk-estimator:hover {\n",
       "  /* unfitted */\n",
       "  background-color: var(--sklearn-color-unfitted-level-2);\n",
       "}\n",
       "\n",
       "#sk-container-id-1 div.sk-estimator.fitted:hover {\n",
       "  /* fitted */\n",
       "  background-color: var(--sklearn-color-fitted-level-2);\n",
       "}\n",
       "\n",
       "/* Specification for estimator info (e.g. \"i\" and \"?\") */\n",
       "\n",
       "/* Common style for \"i\" and \"?\" */\n",
       "\n",
       ".sk-estimator-doc-link,\n",
       "a:link.sk-estimator-doc-link,\n",
       "a:visited.sk-estimator-doc-link {\n",
       "  float: right;\n",
       "  font-size: smaller;\n",
       "  line-height: 1em;\n",
       "  font-family: monospace;\n",
       "  background-color: var(--sklearn-color-background);\n",
       "  border-radius: 1em;\n",
       "  height: 1em;\n",
       "  width: 1em;\n",
       "  text-decoration: none !important;\n",
       "  margin-left: 1ex;\n",
       "  /* unfitted */\n",
       "  border: var(--sklearn-color-unfitted-level-1) 1pt solid;\n",
       "  color: var(--sklearn-color-unfitted-level-1);\n",
       "}\n",
       "\n",
       ".sk-estimator-doc-link.fitted,\n",
       "a:link.sk-estimator-doc-link.fitted,\n",
       "a:visited.sk-estimator-doc-link.fitted {\n",
       "  /* fitted */\n",
       "  border: var(--sklearn-color-fitted-level-1) 1pt solid;\n",
       "  color: var(--sklearn-color-fitted-level-1);\n",
       "}\n",
       "\n",
       "/* On hover */\n",
       "div.sk-estimator:hover .sk-estimator-doc-link:hover,\n",
       ".sk-estimator-doc-link:hover,\n",
       "div.sk-label-container:hover .sk-estimator-doc-link:hover,\n",
       ".sk-estimator-doc-link:hover {\n",
       "  /* unfitted */\n",
       "  background-color: var(--sklearn-color-unfitted-level-3);\n",
       "  color: var(--sklearn-color-background);\n",
       "  text-decoration: none;\n",
       "}\n",
       "\n",
       "div.sk-estimator.fitted:hover .sk-estimator-doc-link.fitted:hover,\n",
       ".sk-estimator-doc-link.fitted:hover,\n",
       "div.sk-label-container:hover .sk-estimator-doc-link.fitted:hover,\n",
       ".sk-estimator-doc-link.fitted:hover {\n",
       "  /* fitted */\n",
       "  background-color: var(--sklearn-color-fitted-level-3);\n",
       "  color: var(--sklearn-color-background);\n",
       "  text-decoration: none;\n",
       "}\n",
       "\n",
       "/* Span, style for the box shown on hovering the info icon */\n",
       ".sk-estimator-doc-link span {\n",
       "  display: none;\n",
       "  z-index: 9999;\n",
       "  position: relative;\n",
       "  font-weight: normal;\n",
       "  right: .2ex;\n",
       "  padding: .5ex;\n",
       "  margin: .5ex;\n",
       "  width: min-content;\n",
       "  min-width: 20ex;\n",
       "  max-width: 50ex;\n",
       "  color: var(--sklearn-color-text);\n",
       "  box-shadow: 2pt 2pt 4pt #999;\n",
       "  /* unfitted */\n",
       "  background: var(--sklearn-color-unfitted-level-0);\n",
       "  border: .5pt solid var(--sklearn-color-unfitted-level-3);\n",
       "}\n",
       "\n",
       ".sk-estimator-doc-link.fitted span {\n",
       "  /* fitted */\n",
       "  background: var(--sklearn-color-fitted-level-0);\n",
       "  border: var(--sklearn-color-fitted-level-3);\n",
       "}\n",
       "\n",
       ".sk-estimator-doc-link:hover span {\n",
       "  display: block;\n",
       "}\n",
       "\n",
       "/* \"?\"-specific style due to the `<a>` HTML tag */\n",
       "\n",
       "#sk-container-id-1 a.estimator_doc_link {\n",
       "  float: right;\n",
       "  font-size: 1rem;\n",
       "  line-height: 1em;\n",
       "  font-family: monospace;\n",
       "  background-color: var(--sklearn-color-background);\n",
       "  border-radius: 1rem;\n",
       "  height: 1rem;\n",
       "  width: 1rem;\n",
       "  text-decoration: none;\n",
       "  /* unfitted */\n",
       "  color: var(--sklearn-color-unfitted-level-1);\n",
       "  border: var(--sklearn-color-unfitted-level-1) 1pt solid;\n",
       "}\n",
       "\n",
       "#sk-container-id-1 a.estimator_doc_link.fitted {\n",
       "  /* fitted */\n",
       "  border: var(--sklearn-color-fitted-level-1) 1pt solid;\n",
       "  color: var(--sklearn-color-fitted-level-1);\n",
       "}\n",
       "\n",
       "/* On hover */\n",
       "#sk-container-id-1 a.estimator_doc_link:hover {\n",
       "  /* unfitted */\n",
       "  background-color: var(--sklearn-color-unfitted-level-3);\n",
       "  color: var(--sklearn-color-background);\n",
       "  text-decoration: none;\n",
       "}\n",
       "\n",
       "#sk-container-id-1 a.estimator_doc_link.fitted:hover {\n",
       "  /* fitted */\n",
       "  background-color: var(--sklearn-color-fitted-level-3);\n",
       "}\n",
       "</style><div id=\"sk-container-id-1\" class=\"sk-top-container\"><div class=\"sk-text-repr-fallback\"><pre>LogisticRegression(C=0.8497534359086438, max_iter=5000, solver=&#x27;saga&#x27;)</pre><b>In a Jupyter environment, please rerun this cell to show the HTML representation or trust the notebook. <br />On GitHub, the HTML representation is unable to render, please try loading this page with nbviewer.org.</b></div><div class=\"sk-container\" hidden><div class=\"sk-item\"><div class=\"sk-estimator fitted sk-toggleable\"><input class=\"sk-toggleable__control sk-hidden--visually\" id=\"sk-estimator-id-1\" type=\"checkbox\" checked><label for=\"sk-estimator-id-1\" class=\"sk-toggleable__label fitted sk-toggleable__label-arrow fitted\">&nbsp;&nbsp;LogisticRegression<a class=\"sk-estimator-doc-link fitted\" rel=\"noreferrer\" target=\"_blank\" href=\"https://scikit-learn.org/1.5/modules/generated/sklearn.linear_model.LogisticRegression.html\">?<span>Documentation for LogisticRegression</span></a><span class=\"sk-estimator-doc-link fitted\">i<span>Fitted</span></span></label><div class=\"sk-toggleable__content fitted\"><pre>LogisticRegression(C=0.8497534359086438, max_iter=5000, solver=&#x27;saga&#x27;)</pre></div> </div></div></div></div>"
      ],
      "text/plain": [
       "LogisticRegression(C=0.8497534359086438, max_iter=5000, solver='saga')"
      ]
     },
     "execution_count": 12,
     "metadata": {},
     "output_type": "execute_result"
    }
   ],
   "source": [
    "kf = KFold(n_splits=5)\n",
    "\n",
    "\n",
    "logistic_model = LogisticRegression(max_iter=5000, penalty=\"l2\", C=0.8497534359086438, tol=1e-4, solver=\"saga\")\n",
    "logistic_model.fit(X_train_small, y_train_small)\n"
   ]
  },
  {
   "cell_type": "code",
   "execution_count": 13,
   "metadata": {},
   "outputs": [],
   "source": [
    "log_y_pred = logistic_model.predict(X_test_small)\n",
    "accuracy = accuracy_score(y_test_small, log_y_pred)\n",
    "accuracy\n",
    "f1_score = f1_score(y_test_small, log_y_pred) \n",
    "balanced_accuracy = balanced_accuracy_score(y_test_small, log_y_pred)"
   ]
  },
  {
   "cell_type": "code",
   "execution_count": 14,
   "metadata": {},
   "outputs": [
    {
     "name": "stdout",
     "output_type": "stream",
     "text": [
      "0.7362\n",
      "0.7714830214830215\n",
      "0.7324511504512965\n"
     ]
    }
   ],
   "source": [
    "print(accuracy)\n",
    "print(f1_score)\n",
    "print(balanced_accuracy)"
   ]
  },
  {
   "cell_type": "code",
   "execution_count": 15,
   "metadata": {},
   "outputs": [
    {
     "name": "stdout",
     "output_type": "stream",
     "text": [
      "Accuracy: 0.807 ,\n",
      "Standard Deviations :0.075\n"
     ]
    }
   ],
   "source": [
    "\n",
    "# evaluate model\n",
    "scores = cross_val_score(\n",
    "    logistic_model, X_train_small, y_train_small, scoring='accuracy', cv=kf, n_jobs=-1)\n",
    "\n",
    "print('Accuracy: %.3f ,\\nStandard Deviations :%.3f' %\n",
    "      (mean(scores), std(scores)))"
   ]
  },
  {
   "cell_type": "code",
   "execution_count": 16,
   "metadata": {},
   "outputs": [
    {
     "name": "stdout",
     "output_type": "stream",
     "text": [
      "Accuracy for gender sex_2 = 1 --> Women: 0.7012, and balanced accuracy: 0.7016608688829022\n",
      "Accuracy for gender sex_2 = 0 --> Men: 0.7685, and balanced accuracy: 0.7564295525261228\n"
     ]
    }
   ],
   "source": [
    "\n",
    "# Step 2: Filter data for a specific gender (sex_2 == 1)\n",
    "gender_mask_women = (X_test_small['SEX_2'] == 1)  # Change to 0 for the other gender # Women\n",
    "y_true_gender_women = y_test_small[gender_mask_women]\n",
    "y_pred_gender_women = log_y_pred[gender_mask_women]\n",
    "# Step 3: Compute accuracy for the selected gender\n",
    "accuracy_women = accuracy_score(y_true_gender_women, y_pred_gender_women)\n",
    "#f1_score_women = f1_score(y_true_gender_women, y_pred_gender_women) \n",
    "balanced_accuracy_women = balanced_accuracy_score(y_true_gender_women, y_pred_gender_women)\n",
    "\n",
    "print(f\"Accuracy for gender sex_2 = 1 --> Women: {accuracy_women:.4f}, and balanced accuracy: {balanced_accuracy_women}\")\n",
    "\n",
    "# Step 2: Filter data for a specific gender (sex_2 == 1)\n",
    "gender_mask_men = (X_test_small['SEX_2'] == 0)  # Change to 0 for the other gender # Women\n",
    "y_true_gender_men = y_test_small[gender_mask_men]\n",
    "y_pred_gender_men = log_y_pred[gender_mask_men]\n",
    "\n",
    "# Step 3: Compute accuracy for the selected gender\n",
    "accuracy_men = accuracy_score(y_true_gender_men, y_pred_gender_men)\n",
    "#f1_score_men = f1_score(y_true_gender_men, y_pred_gender_men) \n",
    "balanced_accuracy_men = balanced_accuracy_score(y_true_gender_men, y_pred_gender_men)\n",
    "\n",
    "print(f\"Accuracy for gender sex_2 = 0 --> Men: {accuracy_men:.4f}, and balanced accuracy: {balanced_accuracy_men}\")\n"
   ]
  },
  {
   "cell_type": "code",
   "execution_count": 17,
   "metadata": {},
   "outputs": [
    {
     "data": {
      "image/png": "[encoded data removed]",
      "text/plain": [
       "<Figure size 600x400 with 1 Axes>"
      ]
     },
     "metadata": {},
     "output_type": "display_data"
    }
   ],
   "source": [
    "\n",
    "\n",
    "# Accuracy values\n",
    "genders = [\"Women\", \"Men\", \"Balanced Women\", \"Balanced Men\"]\n",
    "accuracies = [accuracy_women, accuracy_men, balanced_accuracy_women, balanced_accuracy_men]\n",
    "\n",
    "# Plot the accuracies\n",
    "plt.figure(figsize=(6, 4))\n",
    "plt.bar(genders, accuracies, color=['orange', 'teal'])\n",
    "plt.ylim(0, 1)\n",
    "plt.ylabel(\"Accuracy\")\n",
    "plt.title(\"Model Accuracy by Gender\")\n",
    "plt.xticks(rotation=0)\n",
    "\n",
    "# Display values on bars\n",
    "for i, acc in enumerate(accuracies):\n",
    "    plt.text(i, acc + 0.02, f\"{acc:.4f}\", ha='center', fontsize=12)\n",
    "\n",
    "plt.show()\n"
   ]
  },
  {
   "cell_type": "code",
   "execution_count": 37,
   "metadata": {},
   "outputs": [
    {
     "ename": "NameError",
     "evalue": "name 'f1_score_women' is not defined",
     "output_type": "error",
     "traceback": [
      "\u001b[0;31m---------------------------------------------------------------------------\u001b[0m",
      "\u001b[0;31mNameError\u001b[0m                                 Traceback (most recent call last)",
      "Cell \u001b[0;32mIn[37], line 1\u001b[0m\n\u001b[0;32m----> 1\u001b[0m f1_scores \u001b[38;5;241m=\u001b[39m [\u001b[43mf1_score_women\u001b[49m, f1_score_men]\n\u001b[1;32m      3\u001b[0m \u001b[38;5;66;03m# Plot the accuracies\u001b[39;00m\n\u001b[1;32m      4\u001b[0m plt\u001b[38;5;241m.\u001b[39mfigure(figsize\u001b[38;5;241m=\u001b[39m(\u001b[38;5;241m6\u001b[39m, \u001b[38;5;241m4\u001b[39m))\n",
      "\u001b[0;31mNameError\u001b[0m: name 'f1_score_women' is not defined"
     ]
    }
   ],
   "source": [
    "f1_scores = [f1_score_women, f1_score_men]\n",
    "\n",
    "# Plot the accuracies\n",
    "plt.figure(figsize=(6, 4))\n",
    "plt.bar(genders, f1_scores, color=['orange', 'teal'])\n",
    "plt.ylim(0, 1)\n",
    "plt.ylabel(\"F1 Score\")\n",
    "plt.title(\"Model F1 Score by Gender\")\n",
    "plt.xticks(rotation=0)\n",
    "\n",
    "# Display values on bars\n",
    "for i, acc in enumerate(f1_scores):\n",
    "    plt.text(i, acc + 0.02, f\"{acc:.4f}\", ha='center', fontsize=12)\n",
    "\n",
    "plt.show()"
   ]
  },
  {
   "cell_type": "code",
   "execution_count": 18,
   "metadata": {},
   "outputs": [
    {
     "name": "stdout",
     "output_type": "stream",
     "text": [
      "Accuracy for RAC1P_1: 0.7470\n",
      "Accuracy for RAC1P_2: 0.7184\n",
      "Accuracy for RAC1P_3: 0.6567\n",
      "Accuracy for RAC1P_5: 0.7143\n",
      "Accuracy for RAC1P_6: 0.7187\n",
      "Accuracy for RAC1P_7: 0.7632\n",
      "Accuracy for RAC1P_8: 0.7182\n",
      "Accuracy for RAC1P_9: 0.7238\n",
      "Balance Accuracy for RAC1P_1: 0.7337\n",
      "Balance Accuracy for RAC1P_2: 0.7242\n",
      "Balance Accuracy for RAC1P_3: 0.6608\n",
      "Balance Accuracy for RAC1P_5: 0.6875\n",
      "Balance Accuracy for RAC1P_6: 0.7036\n",
      "Balance Accuracy for RAC1P_7: 0.7812\n",
      "Balance Accuracy for RAC1P_8: 0.6804\n",
      "Balance Accuracy for RAC1P_9: 0.7252\n"
     ]
    }
   ],
   "source": [
    "# Step 2: Identify race columns\n",
    "race_columns = [col for col in X_test_small.columns if col.startswith(\"RAC1P_\")]\n",
    "\n",
    "race_accuracies = {}\n",
    "race_balanced_accuracies = {}\n",
    "# calculate accuracy for each race group, plus all them being 0 = white\n",
    "race1_mask = (X_test_small[race_columns].sum(axis=1) == 0)  # Rows where all race columns are 0\n",
    "if race1_mask.sum() > 0:  # Check if there are any such samples\n",
    "    y_true_other = y_test_small[race1_mask]\n",
    "    y_pred_other = log_y_pred[race1_mask]\n",
    "    accuracy_other = accuracy_score(y_true_other, y_pred_other)\n",
    "    #f1_score_other = f1_score(y_true_other, y_pred_other) \n",
    "    balanced_accuracy_other = balanced_accuracy_score(y_true_other, y_pred_other)\n",
    "    race_accuracies[\"RAC1P_1\"] = accuracy_other\n",
    "    race_balanced_accuracies[\"RAC1P_1\"] = balanced_accuracy_other\n",
    "\n",
    "for race_col in race_columns:\n",
    "    race_mask = (X_test_small[race_col] == 1)  # Select people belonging to this race\n",
    "    if race_mask.sum() > 0:  # Avoid division by zero\n",
    "        y_true_race = y_test_small[race_mask]\n",
    "        y_pred_race = log_y_pred[race_mask]\n",
    "        accuracy = accuracy_score(y_true_race, y_pred_race)\n",
    "        #f1_score_other = f1_score(y_true_race, y_pred_race) \n",
    "        balanced_accuracy_other = balanced_accuracy_score(y_true_race, y_pred_race)\n",
    "        race_accuracies[race_col] = accuracy\n",
    "        race_balanced_accuracies[race_col] = balanced_accuracy_other\n",
    "\n",
    "\n",
    "\n",
    "\n",
    "for race, acc in race_accuracies.items():\n",
    "    print(f\"Accuracy for {race}: {acc:.4f}\")\n",
    "\n",
    "for race, acc in race_balanced_accuracies.items():\n",
    "    print(f\"Balance Accuracy for {race}: {acc:.4f}\")\n"
   ]
  },
  {
   "cell_type": "code",
   "execution_count": 19,
   "metadata": {},
   "outputs": [
    {
     "data": {
      "image/png": "[encoded data removed]",
      "text/plain": [
       "<Figure size 1000x500 with 1 Axes>"
      ]
     },
     "metadata": {},
     "output_type": "display_data"
    },
    {
     "data": {
      "image/png": "[encoded data removed]",
      "text/plain": [
       "<Figure size 1000x500 with 1 Axes>"
      ]
     },
     "metadata": {},
     "output_type": "display_data"
    }
   ],
   "source": [
    "import matplotlib.pyplot as plt\n",
    "\n",
    "# Mapping from RAC1P_# to race names\n",
    "race_mapping = {\n",
    "    1: \"White\",\n",
    "    2: \"Black\",\n",
    "    3: \"Indigenous American\",\n",
    "    4: \"Alaska Native\",\n",
    "    5: \"Indigenous American & Alaska Native\",\n",
    "    6: \"Asian\",\n",
    "    7: \"Pacific Islander\",\n",
    "    8: \"Other Race \",\n",
    "    9: \"Two or More Races\"\n",
    "}\n",
    "\n",
    "# Extract numeric values from column names (RAC1P_# → #)\n",
    "race_codes = [int(col.split('_')[1]) for col in race_accuracies.keys()]\n",
    "\n",
    "# Map numeric values to race names\n",
    "race_names = [race_mapping.get(code, f\"Race {code}\") for code in race_codes]\n",
    "race_accuracies_values = list(race_accuracies.values())\n",
    "race_balanced_accuracies_values = list(race_balanced_accuracies.values())\n",
    "\n",
    "# Plot the race-based accuracy results\n",
    "plt.figure(figsize=(10, 5))\n",
    "plt.bar(race_names, race_accuracies_values, color='teal')\n",
    "plt.ylim(0, 1)\n",
    "plt.ylabel(\"Accuracy\")\n",
    "plt.title(\"Model Accuracy by Race\")\n",
    "\n",
    "# Adjust x-axis labels\n",
    "plt.xticks(rotation=45, ha=\"right\")\n",
    "\n",
    "# Display values on bars\n",
    "for i, acc in enumerate(race_accuracies_values):\n",
    "    plt.text(i, acc + 0.02, f\"{acc:.4f}\", ha='center', fontsize=10)\n",
    "\n",
    "plt.show()\n",
    "\n",
    "# Plot the race-based accuracy results\n",
    "plt.figure(figsize=(10, 5))\n",
    "plt.bar(race_names, race_balanced_accuracies_values, color='teal')\n",
    "plt.ylim(0, 1)\n",
    "plt.ylabel(\"Balanced Accuracy\")\n",
    "plt.title(\"Model Balanced Accuracy by Race\")\n",
    "plt.xticks(rotation=45, ha=\"right\")\n",
    "\n",
    "# Display values on bars\n",
    "for i, acc in enumerate(race_balanced_accuracies_values):\n",
    "    plt.text(i, acc + 0.02, f\"{acc:.4f}\", ha='center', fontsize=10)\n",
    "\n",
    "plt.show()\n"
   ]
  },
  {
   "cell_type": "code",
   "execution_count": 54,
   "metadata": {},
   "outputs": [
    {
     "data": {
      "text/plain": [
       "{1: 0.6031,\n",
       " 2: 0.0708,\n",
       " 3: 0.0096,\n",
       " 5: 0.0032,\n",
       " 6: 0.1615,\n",
       " 7: 0.0035,\n",
       " 8: 0.0865,\n",
       " 9: 0.0618}"
      ]
     },
     "execution_count": 54,
     "metadata": {},
     "output_type": "execute_result"
    }
   ],
   "source": [
    "population_division = dict(data_original[:10000].RAC1P.value_counts(normalize=True))\n",
    "pop_sorted = dict(sorted(population_division.items()))\n",
    "pop_sorted"
   ]
  },
  {
   "cell_type": "code",
   "execution_count": 26,
   "metadata": {},
   "outputs": [
    {
     "name": "stdout",
     "output_type": "stream",
     "text": [
      "8\n",
      "9\n",
      "8\n",
      "8\n"
     ]
    }
   ],
   "source": [
    "print(len(race_names))  # Should match the other three lists\n",
    "print(len(population_values))  \n",
    "print(len(race_accuracies_values))  \n",
    "print(len(race_balanced_accuracies_values))  \n"
   ]
  },
  {
   "cell_type": "code",
   "execution_count": 55,
   "metadata": {},
   "outputs": [],
   "source": [
    "import numpy as np\n",
    "import matplotlib.pyplot as plt\n",
    "\n",
    "# Mapping from RAC1P_# to race names\n",
    "race_mapping = {\n",
    "    1: \"White\",\n",
    "    2: \"Black\",\n",
    "    3: \"Indigenous American\",\n",
    "    4: \"Alaska Native\",\n",
    "    5: \"Indigenous American &\\n Alaska Native\",\n",
    "    6: \"Asian\",\n",
    "    7: \"Pacific Islander\",\n",
    "    8: \"Other Race\",\n",
    "    9: \"Two or More Races\"\n",
    "}\n",
    "\n",
    "# Extract numeric values from column names (RAC1P_# → #)\n",
    "race_codes = [int(col.split('_')[1]) for col in race_accuracies.keys()]\n",
    "\n",
    "# Map numeric values to race names\n",
    "race_names = [race_mapping.get(code, f\"Race {code}\") for code in race_codes]\n",
    "race_accuracies_values = list(race_accuracies.values())\n",
    "race_balanced_accuracies_values = list(race_balanced_accuracies.values())\n",
    "population_values = [pop_sorted[code] for code in race_codes if code in pop_sorted]\n",
    "\n",
    "# Set positions for bars\n",
    "x = np.arange(len(race_names))  # The label locations\n",
    "width = 0.35  # Width of the bars\n"
   ]
  },
  {
   "cell_type": "code",
   "execution_count": 56,
   "metadata": {},
   "outputs": [
    {
     "name": "stdout",
     "output_type": "stream",
     "text": [
      "8\n"
     ]
    }
   ],
   "source": [
    "print(len(population_values))  # Should be 9 based on the error message\n"
   ]
  },
  {
   "cell_type": "code",
   "execution_count": 57,
   "metadata": {},
   "outputs": [
    {
     "data": {
      "image/png": "[encoded data removed]",
      "text/plain": [
       "<Figure size 1200x600 with 1 Axes>"
      ]
     },
     "metadata": {},
     "output_type": "display_data"
    }
   ],
   "source": [
    "\n",
    "# Create the bar plot\n",
    "plt.figure(figsize=(12, 6))\n",
    "bars0 = plt.bar(x- width, population_values, width, label= \"population\", color=\"red\")\n",
    "bars1 = plt.bar(x - width/2, race_accuracies_values, width, label=\"Accuracy\", color='teal')\n",
    "bars2 = plt.bar(x + width/2, race_balanced_accuracies_values, width, label=\"Balanced Accuracy\", color='orange')\n",
    "\n",
    "# Labeling\n",
    "plt.ylim(0, 1)\n",
    "plt.ylabel(\"Score\")\n",
    "plt.title(\"Model Accuracy & Balanced Accuracy by Race\")\n",
    "plt.xticks(x, race_names, rotation=45, ha=\"right\")\n",
    "plt.legend()\n",
    "\n",
    "# Display values on bars\n",
    "for bar in bars0:\n",
    "    plt.text(bar.get_x() + bar.get_width()/2, bar.get_height() + 0.02, f\"{bar.get_height():.4f}\", ha='right', fontsize=6)\n",
    "for bar in bars1:\n",
    "    plt.text(bar.get_x() + bar.get_width()/2, bar.get_height() + 0.02, f\"{bar.get_height():.4f}\", ha='center', fontsize=6)\n",
    "for bar in bars2:\n",
    "    plt.text(bar.get_x() + bar.get_width()/2, bar.get_height() + 0.02, f\"{bar.get_height():.4f}\", ha='center', fontsize=6)\n",
    "\n",
    "plt.show()\n"
   ]
  },
  {
   "cell_type": "markdown",
   "metadata": {},
   "source": [
    "# task 2- gender division\n"
   ]
  },
  {
   "cell_type": "code",
   "execution_count": 34,
   "metadata": {},
   "outputs": [],
   "source": [
    "def sigmoid(x):\n",
    "    \"\"\"\n",
    "    Compute the sigmoid function \n",
    "    f = 1/(1+exp(-beta^T * x))\n",
    "    This function assumes as input that you have already multiplied beta and X together\n",
    "    \"\"\"\n",
    "    return 1./(1 + np.exp(-x))\n",
    "\n",
    "def logistic_loss(y_true, y_pred, eps = 1e-9):\n",
    "    \"\"\"\n",
    "    Loss for the logistic regression, y_pred are probabilities\n",
    "    \"\"\"\n",
    "    return -np.mean(y_true * np.log(y_pred + eps) + (1-y_true) * np.log(1-y_pred + eps))\n",
    "\n",
    "def l2_loss(beta):\n",
    "    \"\"\"\n",
    "    L2-Regularisation\n",
    "    \"\"\"\n",
    "    return np.linalg.norm(beta,2)\n",
    "\n",
    "def fair_loss_group(y, probs, groups, group_type):\n",
    "    \"\"\"\n",
    "    Individual fairness Loss for gender\n",
    "    \"\"\"\n",
    "    if group_type == \"gender\":\n",
    "        n = y.shape[0]\n",
    "        n1 = np.sum(groups == 1)\n",
    "        n2 = np.sum(groups == 2)\n",
    "    elif group_type == \"race\":\n",
    "        n = y.shape[0]\n",
    "        n1 = np.sum(groups == 0)\n",
    "        n2 = np.sum(groups == 1)\n",
    "    #print(n, n1, n2)\n",
    "    \n",
    "    ## Solution with numpy\n",
    "    equal_pairs = np.argwhere(y[np.newaxis, :] == y[:, np.newaxis]) ### Check if labels are the same, distance is 1 if y[i] == y[j] and 0 if y[i] != y[j]\n",
    "    equal_pairs = equal_pairs[np.where(equal_pairs[:,0] != equal_pairs[:,1])] ### Remove the pairs where items are compared to themselves\n",
    "    \n",
    "    \n",
    "    diff_groups = (groups[equal_pairs[:,0]] != groups[equal_pairs[:,1]]).astype(int) ### Find pairs where groups are different\n",
    "    \n",
    "    diff_probs = probs[equal_pairs[:,0]].to_numpy() - probs[equal_pairs[:,1]].to_numpy()\n",
    "   \n",
    "    \n",
    "    cost = diff_groups.dot(diff_probs)  # Ensures correct dot product shape\n",
    "    cost /= (n1*n2)\n",
    "    \n",
    "    return cost**2\n",
    "\n",
    "def compute_cost(beta, X, y, groups, group_type, _lambda, _gamma):\n",
    "    # Compute predicted probs\n",
    "    probs = sigmoid(X.dot(beta).astype(float))\n",
    "    # Compute joint loss\n",
    "    loss = logistic_loss(y, probs) + _lambda * fair_loss_group(y, probs, groups, group_type) + _gamma * l2_loss(beta[1:])\n",
    "    return loss\n",
    "\n",
    "def compute_gradients(beta, X, y, groups, group_type, _lambda, _gamma):\n",
    "    \"\"\"\n",
    "    Calculate the gradient - used for finding the best beta values\n",
    "    \"\"\"\n",
    "    # Start with empty gradient\n",
    "    grad = np.zeros(beta.shape)\n",
    "    \n",
    "    m = len(X) # Number of training samples\n",
    "    \n",
    "    # Calculate the probs\n",
    "    probs = sigmoid(X.dot(beta).astype(float))\n",
    "    \n",
    "    # Calculate gradients for each beta value\n",
    "    for j in range(len(grad)):\n",
    "        if j == 0: ### We do not want to regularize the intercept\n",
    "            grad[j] = (1/m) * (probs-y).dot(X.iloc[:,j])\n",
    "        else:\n",
    "            grad[j] = (1/m) * (probs-y).dot(X.iloc[:,j]) + (2*_gamma)*beta[j]\n",
    "        \n",
    "    return grad"
   ]
  },
  {
   "cell_type": "code",
   "execution_count": 30,
   "metadata": {},
   "outputs": [],
   "source": [
    "N = 10000 ### I am subsampling because it is slow on my machine\n",
    "X_train_small = X_train[:N]\n",
    "y_train_small = y_train[:N]\n",
    "group_g_train_small = group_g_train[:N]\n",
    "group_g_test_small = group_g_test[:N]\n",
    "group_r_train_small = group_r_train[:N]\n",
    "group_r_test_small = group_r_train[:N]\n",
    "X_test_small = X_test[:N]\n",
    "y_test_small = y_test[:N]"
   ]
  },
  {
   "cell_type": "code",
   "execution_count": 31,
   "metadata": {},
   "outputs": [
    {
     "name": "stdout",
     "output_type": "stream",
     "text": [
      "0    0.552\n",
      "1    0.448\n",
      "Name: SEX_2, dtype: float64\n",
      "1    0.6031\n",
      "0    0.3969\n",
      "Name: race, dtype: float64\n"
     ]
    }
   ],
   "source": [
    "print(X_train_small.SEX_2.value_counts(normalize=True))\n",
    "print(X_train_small.race.value_counts(normalize=True))"
   ]
  },
  {
   "cell_type": "code",
   "execution_count": null,
   "metadata": {},
   "outputs": [
    {
     "data": {
      "text/plain": [
       "5.609082246458783"
      ]
     },
     "execution_count": 32,
     "metadata": {},
     "output_type": "execute_result"
    }
   ],
   "source": [
    "# Compute cost with random beta-values and parameters\n",
    "\n",
    "compute_cost(\n",
    "    beta = np.random.rand(X_train_small.shape[1]),\n",
    "    X = X_train_small, \n",
    "    y = y_train_small,\n",
    "    groups = group_g_train_small, \n",
    "    group_type = \"gender\",\n",
    "    _gamma = 1, \n",
    "    _lambda = 0.1\n",
    ")"
   ]
  },
  {
   "cell_type": "code",
   "execution_count": null,
   "metadata": {},
   "outputs": [
    {
     "name": "stderr",
     "output_type": "stream",
     "text": [
      "  NIT   NF   F                       GTG\n",
      "    0    1  2.184605198817591E+00   1.53119610E+00\n",
      "    1    6  7.110505129700349E-01   2.26278552E-01\n",
      "    2    9  4.524535383927552E-01   2.08204404E-03\n",
      "    3   12  4.327217355410083E-01   3.58619085E-04\n",
      "tnc: fscale = 35.5036\n",
      "    4   16  4.255508629009653E-01   7.99576350E-05\n",
      "    5   22  4.198370038779412E-01   1.00683655E-05\n",
      "    6   32  4.183527732490278E-01   5.59213933E-07\n",
      "tnc: fscale = 847.904\n",
      "    7   41  4.182857135768777E-01   2.84556318E-07\n",
      "    8   47  4.181888005383247E-01   2.75489126E-07\n",
      "    9   54  4.181693408619623E-01   5.74333315E-08\n",
      "   10   62  4.181592887952709E-01   5.65867771E-09\n",
      "tnc: |fn-fn-1] = 5.53965e-10 -> convergence\n",
      "   11   88  4.181592882413055E-01   5.19117468E-09\n",
      "tnc: Converged (|f_n-f_(n-1)| ~= 0)\n"
     ]
    }
   ],
   "source": [
    "# Set seed and define params\n",
    "\n",
    "beta = np.random.rand(X_train_small.shape[1])\n",
    "lambda_ = 0.1\n",
    "gamma_ = 1e-5 \n",
    "\n",
    "# Run optimization\n",
    "result_g, _, _ = opt.fmin_tnc(\n",
    "    func=compute_cost,\n",
    "    x0=beta,\n",
    "    fprime=compute_gradients,\n",
    "    approx_grad=False,\n",
    "    maxfun = 500,\n",
    "    args = (\n",
    "        X_train_small, \n",
    "        y_train_small,\n",
    "        group_g_train_small,\n",
    "        \"gender\",\n",
    "        lambda_, \n",
    "        gamma_\n",
    "    ),\n",
    "    xtol=1e-7,\n",
    "    ftol=1e-5\n",
    ")"
   ]
  },
  {
   "cell_type": "code",
   "execution_count": 34,
   "metadata": {},
   "outputs": [],
   "source": [
    "\n",
    "\n",
    "# Save result\n",
    "np.save(\"optimized_beta_g_10000.npy\", result_g)\n"
   ]
  },
  {
   "cell_type": "code",
   "execution_count": 36,
   "metadata": {},
   "outputs": [
    {
     "data": {
      "text/plain": [
       "array([-1.01922636,  0.09545431,  0.73513217, -1.1930673 ,  0.26187311,\n",
       "        0.30767571, -0.35645016, -0.22652388, -0.00647795, -0.07211205,\n",
       "       -0.08673966, -0.34049988,  0.30594286, -1.91066872, -0.17653376,\n",
       "       -0.05161975, -0.27369262, -0.05727317,  0.49280514,  1.17240259,\n",
       "        1.57681339,  1.86744173,  2.16397903, -0.73831252, -0.25150039,\n",
       "       -0.77796307, -1.14107596, -0.60757446, -0.33563763,  0.19492561,\n",
       "       -0.05878131, -1.71036319, -0.24045473,  0.30357618, -0.16543926,\n",
       "       -0.30043927, -0.14776919, -0.57103011, -0.76532084,  0.06364744,\n",
       "        0.66204789, -0.06132924])"
      ]
     },
     "execution_count": 36,
     "metadata": {},
     "output_type": "execute_result"
    }
   ],
   "source": [
    "\n",
    "# Load result next time\n",
    "result_g = np.load(\"optimised_models/optimized_beta_g_10000.npy\")\n",
    "result_g"
   ]
  },
  {
   "cell_type": "markdown",
   "metadata": {},
   "source": []
  },
  {
   "cell_type": "code",
   "execution_count": 37,
   "metadata": {},
   "outputs": [
    {
     "data": {
      "text/plain": [
       "0.7365"
      ]
     },
     "execution_count": 37,
     "metadata": {},
     "output_type": "execute_result"
    }
   ],
   "source": [
    "\n",
    "\n",
    "y_pred_fair_g = np.array([True if x >=0.5 else False for x in sigmoid(result_g @ X_test_small.T)])\n",
    "\n",
    "accuracy_score(y_test_small, y_pred_fair_g)"
   ]
  },
  {
   "cell_type": "code",
   "execution_count": null,
   "metadata": {},
   "outputs": [],
   "source": [
    "\n",
    "# logistic_model = LogisticRegression(max_iter=5000, penalty=\"l2\", C=0.8497534359086438, tol=1e-4, solver=\"saga\")\n",
    "# logistic_model.fit(X_train_small, y_train_small)\n",
    "# log_y_pred = logistic_model.predict(X_test_small)\n",
    "# accuracy = accuracy_score(y_test_small, log_y_pred)\n",
    "# accuracy\n",
    "# #f1_score = f1_score(y_test_small, log_y_pred) \n",
    "# balanced_accuracy = balanced_accuracy_score(y_test_small, log_y_pred)"
   ]
  },
  {
   "cell_type": "code",
   "execution_count": 38,
   "metadata": {},
   "outputs": [
    {
     "data": {
      "text/plain": [
       "0.7324511504512965"
      ]
     },
     "execution_count": 38,
     "metadata": {},
     "output_type": "execute_result"
    }
   ],
   "source": [
    "accuracy\n",
    "balanced_accuracy"
   ]
  },
  {
   "cell_type": "code",
   "execution_count": 39,
   "metadata": {},
   "outputs": [
    {
     "name": "stdout",
     "output_type": "stream",
     "text": [
      "Fair\n",
      "Group 1: 0.769\n",
      "Group 2: 0.701\n",
      "\n",
      "Basic\n",
      "Group 1: 0.769\n",
      "Group 2: 0.701\n"
     ]
    }
   ],
   "source": [
    "print('Fair')\n",
    "print(f'Group 1: {accuracy_score(y_test_small[group_g_test_small==1], y_pred_fair_g[group_g_test_small==1]):.3f}\\nGroup 2: {accuracy_score(y_test_small[group_g_test_small==2], y_pred_fair_g[group_g_test_small==2]):.3f}\\n')\n",
    "print('Basic')\n",
    "print(f'Group 1: {accuracy_score(y_test_small[group_g_test_small==1], log_y_pred[group_g_test_small==1]):.3f}\\nGroup 2: {accuracy_score(y_test_small[group_g_test_small==2], log_y_pred[group_g_test_small==2]):.3f}')"
   ]
  },
  {
   "cell_type": "code",
   "execution_count": 40,
   "metadata": {},
   "outputs": [
    {
     "name": "stdout",
     "output_type": "stream",
     "text": [
      "Fair\n",
      "Group 1: 0.757\n",
      "Group 2: 0.702\n",
      "\n",
      "Basic\n",
      "Group 1: 0.756\n",
      "Group 2: 0.702\n"
     ]
    }
   ],
   "source": [
    "print('Fair')\n",
    "print(f'Group 1: {balanced_accuracy_score(y_test_small[group_g_test_small==1], y_pred_fair_g[group_g_test_small==1]):.3f}\\nGroup 2: {balanced_accuracy_score(y_test_small[group_g_test_small==2], y_pred_fair_g[group_g_test_small==2]):.3f}\\n')\n",
    "print('Basic')\n",
    "print(f'Group 1: {balanced_accuracy_score(y_test_small[group_g_test_small==1], log_y_pred[group_g_test_small==1]):.3f}\\nGroup 2: {balanced_accuracy_score(y_test_small[group_g_test_small==2], log_y_pred[group_g_test_small==2]):.3f}')"
   ]
  },
  {
   "cell_type": "markdown",
   "metadata": {},
   "source": [
    "### plotting results"
   ]
  },
  {
   "cell_type": "code",
   "execution_count": 41,
   "metadata": {},
   "outputs": [],
   "source": [
    "fair_women = accuracy_score(y_test_small[group_g_test_small==2], y_pred_fair_g[group_g_test_small==2])\n",
    "fair_men = accuracy_score(y_test_small[group_g_test_small==1], y_pred_fair_g[group_g_test_small==1])\n",
    "\n",
    "basic_women = accuracy_score(y_test_small[group_g_test_small==2], log_y_pred[group_g_test_small==2])\n",
    "basic_men = accuracy_score(y_test_small[group_g_test_small==1], log_y_pred[group_g_test_small==1])\n",
    "\n",
    "balanced_fair_women = balanced_accuracy_score(y_test_small[group_g_test_small==2], y_pred_fair_g[group_g_test_small==2])\n",
    "balanced_fair_men = balanced_accuracy_score(y_test_small[group_g_test_small==1], y_pred_fair_g[group_g_test_small==1])\n",
    "\n",
    "balanced_basic_women = balanced_accuracy_score(y_test_small[group_g_test_small==2], log_y_pred[group_g_test_small==2])\n",
    "balanced_basic_men = balanced_accuracy_score(y_test_small[group_g_test_small==1], log_y_pred[group_g_test_small==1])"
   ]
  },
  {
   "cell_type": "code",
   "execution_count": 42,
   "metadata": {},
   "outputs": [
    {
     "data": {
      "image/png": "[encoded data removed]",
      "text/plain": [
       "<Figure size 600x400 with 1 Axes>"
      ]
     },
     "metadata": {},
     "output_type": "display_data"
    }
   ],
   "source": [
    "\n",
    "# Accuracy values\n",
    "genders = [\"Fair Women\\n\", \"Fair Men\\n\", \"Basic Women\\n\", \"Basic Men\\n\"]\n",
    "accuracies_g = [fair_women, fair_men, basic_women, basic_men]\n",
    "\n",
    "# Plot the accuracies\n",
    "plt.figure(figsize=(6, 4))\n",
    "plt.bar(genders, accuracies_g, color=['orange', 'teal'])\n",
    "plt.ylim(0, 1)\n",
    "plt.ylabel(\"Accuracy\")\n",
    "plt.title(\"Comparison of fair and basic model for gender\")\n",
    "plt.xticks(rotation=0)\n",
    "\n",
    "# Display values on bars\n",
    "for i, acc in enumerate(accuracies_g):\n",
    "    plt.text(i, acc + 0.02, f\"{acc:.4f}\", ha='center', fontsize=12)\n",
    "\n",
    "plt.show()"
   ]
  },
  {
   "cell_type": "code",
   "execution_count": 43,
   "metadata": {},
   "outputs": [
    {
     "data": {
      "image/png": "[encoded data removed]",
      "text/plain": [
       "<Figure size 600x400 with 1 Axes>"
      ]
     },
     "metadata": {},
     "output_type": "display_data"
    }
   ],
   "source": [
    "\n",
    "# Accuracy values\n",
    "balanced_genders = [\"Balanced \\nFair Women\", \"Balanced \\nFair Men\", \"Balanced \\nBasic Women\", \"Balanced \\nBasic Men\"]\n",
    "balanced_accuracies_g = [balanced_fair_women, balanced_fair_men, balanced_basic_women, balanced_basic_men]\n",
    "\n",
    "# Plot the accuracies\n",
    "plt.figure(figsize=(6, 4))\n",
    "plt.bar(balanced_genders, balanced_accuracies_g, color=['orange', 'teal'])\n",
    "plt.ylim(0, 1)\n",
    "plt.ylabel(\"Accuracy\")\n",
    "plt.title(\"Comparison of fair and basic model for gender\")\n",
    "plt.xticks(rotation=0)\n",
    "\n",
    "# Display values on bars\n",
    "for i, acc in enumerate(balanced_accuracies_g):\n",
    "    plt.text(i, acc + 0.02, f\"{acc:.4f}\", ha='center', fontsize=12)\n",
    "\n",
    "plt.show()"
   ]
  },
  {
   "cell_type": "markdown",
   "metadata": {},
   "source": [
    "# Task 2 for race division"
   ]
  },
  {
   "cell_type": "code",
   "execution_count": null,
   "metadata": {},
   "outputs": [
    {
     "data": {
      "text/plain": [
       "5.609082246458783"
      ]
     },
     "execution_count": 48,
     "metadata": {},
     "output_type": "execute_result"
    }
   ],
   "source": [
    "# Compute cost with random beta-values and parameters\n",
    "\n",
    "compute_cost(\n",
    "    beta = np.random.rand(X_train_small.shape[1]),\n",
    "    X = X_train_small, \n",
    "    y = y_train_small,\n",
    "    groups = group_r_train_small, \n",
    "    group_type = \"race\",\n",
    "    _gamma = 1, \n",
    "    _lambda = 0.1\n",
    ")\n"
   ]
  },
  {
   "cell_type": "code",
   "execution_count": 49,
   "metadata": {},
   "outputs": [
    {
     "name": "stderr",
     "output_type": "stream",
     "text": [
      "  NIT   NF   F                       GTG\n",
      "    0    1  2.184605198817591E+00   1.53119610E+00\n",
      "    1    6  7.110505129700349E-01   2.26278552E-01\n",
      "    2    9  4.524535383927552E-01   2.08204404E-03\n",
      "    3   12  4.327217355410083E-01   3.58619085E-04\n",
      "tnc: fscale = 35.5036\n",
      "    4   16  4.255508629009653E-01   7.99576350E-05\n",
      "    5   22  4.198370038779412E-01   1.00683655E-05\n",
      "    6   32  4.183527732490278E-01   5.59213933E-07\n",
      "tnc: fscale = 847.904\n",
      "    7   41  4.182857135768777E-01   2.84556318E-07\n",
      "    8   47  4.181888005383247E-01   2.75489126E-07\n",
      "    9   54  4.181693408619623E-01   5.74333315E-08\n",
      "   10   62  4.181592887952709E-01   5.65867771E-09\n",
      "tnc: |fn-fn-1] = 5.53965e-10 -> convergence\n",
      "   11   88  4.181592882413055E-01   5.19117468E-09\n",
      "tnc: Converged (|f_n-f_(n-1)| ~= 0)\n"
     ]
    }
   ],
   "source": [
    "# Set seed and define params\n",
    "np.random.seed(23)\n",
    "beta = np.random.rand(X_train_small.shape[1])\n",
    "lambda_ = 0.1\n",
    "gamma_ = 1e-5 \n",
    "\n",
    "# Run optimization\n",
    "result_r, _, _ = opt.fmin_tnc(\n",
    "    func=compute_cost,\n",
    "    x0=beta,\n",
    "    fprime=compute_gradients,\n",
    "    approx_grad=False,\n",
    "    maxfun = 500,\n",
    "    args = (\n",
    "        X_train_small, \n",
    "        y_train_small,\n",
    "        group_r_train_small,\n",
    "        \"race\",\n",
    "        lambda_, \n",
    "        gamma_\n",
    "    ),\n",
    "    xtol=1e-7,\n",
    "    ftol=1e-5\n",
    ")"
   ]
  },
  {
   "cell_type": "code",
   "execution_count": 50,
   "metadata": {},
   "outputs": [],
   "source": [
    "\n",
    "# Save result\n",
    "np.save(\"optimized_beta_r_10000.npy\", result_r)\n",
    "\n"
   ]
  },
  {
   "cell_type": "code",
   "execution_count": 44,
   "metadata": {},
   "outputs": [],
   "source": [
    "# Load result next time\n",
    "result_r = np.load(\"optimised_models/optimized_beta_r_10000.npy\")"
   ]
  },
  {
   "cell_type": "code",
   "execution_count": 45,
   "metadata": {},
   "outputs": [
    {
     "data": {
      "text/plain": [
       "0.7365"
      ]
     },
     "execution_count": 45,
     "metadata": {},
     "output_type": "execute_result"
    }
   ],
   "source": [
    "\n",
    "\n",
    "y_pred_fair_r = np.array([True if x >=0.5 else False for x in sigmoid(result_r @ X_test_small.T)])\n",
    "\n",
    "accuracy_score(y_test_small, y_pred_fair_r)"
   ]
  },
  {
   "cell_type": "code",
   "execution_count": null,
   "metadata": {},
   "outputs": [],
   "source": [
    "# logistic_model = LogisticRegression(max_iter=5000, penalty=\"l2\", C=0.8497534359086438, tol=1e-4, solver=\"saga\")\n",
    "# logistic_model.fit(X_train_small, y_train_small)\n",
    "# log_y_pred = logistic_model.predict(X_test_small)\n",
    "# accuracy = accuracy_score(y_test_small, log_y_pred)\n",
    "# accuracy\n",
    "# #f1_score = f1_score(y_test_small, log_y_pred) \n",
    "# balanced_accuracy = balanced_accuracy_score(y_test_small, log_y_pred)"
   ]
  },
  {
   "cell_type": "code",
   "execution_count": 54,
   "metadata": {},
   "outputs": [
    {
     "data": {
      "text/plain": [
       "0.7324511504512965"
      ]
     },
     "execution_count": 54,
     "metadata": {},
     "output_type": "execute_result"
    }
   ],
   "source": [
    "accuracy\n",
    "balanced_accuracy"
   ]
  },
  {
   "cell_type": "code",
   "execution_count": 46,
   "metadata": {},
   "outputs": [
    {
     "name": "stdout",
     "output_type": "stream",
     "text": [
      "Fair\n",
      "Group 0: 0.740\n",
      "Group 1: 0.734\n",
      "\n",
      "Basic\n",
      "Group 0: 0.739\n",
      "Group 1: 0.734\n"
     ]
    }
   ],
   "source": [
    "print('Fair')\n",
    "print(f'Group 0: {accuracy_score(y_test_small[group_r_test_small==0], y_pred_fair_r[group_r_test_small==0]):.3f}\\nGroup 1: {accuracy_score(y_test_small[group_r_test_small==1], y_pred_fair_r[group_r_test_small==1]):.3f}\\n')\n",
    "print('Basic')\n",
    "print(f'Group 0: {accuracy_score(y_test_small[group_r_test_small==0], log_y_pred[group_r_test_small==0]):.3f}\\nGroup 1: {accuracy_score(y_test_small[group_r_test_small==1], log_y_pred[group_r_test_small==1]):.3f}')"
   ]
  },
  {
   "cell_type": "code",
   "execution_count": 47,
   "metadata": {},
   "outputs": [
    {
     "name": "stdout",
     "output_type": "stream",
     "text": [
      "Fair\n",
      "Group 0: 0.736\n",
      "Group 1: 0.731\n",
      "\n",
      "Basic\n",
      "Group 0: 0.735\n",
      "Group 1: 0.731\n"
     ]
    }
   ],
   "source": [
    "print('Fair')\n",
    "print(f'Group 0: {balanced_accuracy_score(y_test_small[group_r_test_small==0], y_pred_fair_r[group_r_test_small==0]):.3f}\\nGroup 1: {balanced_accuracy_score(y_test_small[group_r_test_small==1], y_pred_fair_r[group_r_test_small==1]):.3f}\\n')\n",
    "print('Basic')\n",
    "print(f'Group 0: {balanced_accuracy_score(y_test_small[group_r_test_small==0], log_y_pred[group_r_test_small==0]):.3f}\\nGroup 1: {balanced_accuracy_score(y_test_small[group_r_test_small==1], log_y_pred[group_r_test_small==1]):.3f}')"
   ]
  },
  {
   "cell_type": "code",
   "execution_count": 48,
   "metadata": {},
   "outputs": [],
   "source": [
    "fair_white = accuracy_score(y_test_small[group_r_test_small==1], y_pred_fair_r[group_r_test_small==1])\n",
    "fair_non_white = accuracy_score(y_test_small[group_r_test_small==0], y_pred_fair_r[group_r_test_small==0])\n",
    "\n",
    "basic_white = accuracy_score(y_test_small[group_r_test_small==1], log_y_pred[group_r_test_small==1])\n",
    "basic_non_white = accuracy_score(y_test_small[group_r_test_small==0], log_y_pred[group_r_test_small==0])"
   ]
  },
  {
   "cell_type": "code",
   "execution_count": 49,
   "metadata": {},
   "outputs": [
    {
     "data": {
      "image/png": "[encoded data removed]",
      "text/plain": [
       "<Figure size 600x400 with 1 Axes>"
      ]
     },
     "metadata": {},
     "output_type": "display_data"
    }
   ],
   "source": [
    "\n",
    "# Accuracy values\n",
    "races = [\"Fair white\\n\", \"Fair non white\\n\", \"Basic white\\n\", \"Basic non wite\\n\"]\n",
    "accuracies_r = [fair_white, fair_non_white, basic_white, basic_non_white]\n",
    "\n",
    "# Plot the accuracies\n",
    "plt.figure(figsize=(6, 4))\n",
    "plt.bar(races, accuracies_r, color=['orange', 'teal'])\n",
    "plt.ylim(0, 1)\n",
    "plt.ylabel(\"Accuracy\")\n",
    "plt.title(\"Comparison of fair and basic model for race\")\n",
    "plt.xticks(rotation=0)\n",
    "\n",
    "# Display values on bars\n",
    "for i, acc in enumerate(accuracies_r):\n",
    "    plt.text(i, acc + 0.02, f\"{acc:.4f}\", ha='center', fontsize=12)\n",
    "\n",
    "plt.show()"
   ]
  },
  {
   "cell_type": "markdown",
   "metadata": {},
   "source": [
    "balanced accuracy plots"
   ]
  },
  {
   "cell_type": "code",
   "execution_count": 50,
   "metadata": {},
   "outputs": [],
   "source": [
    "balanced_fair_white = balanced_accuracy_score(y_test_small[group_r_test_small==1], y_pred_fair_r[group_r_test_small==1])\n",
    "balanced_fair_non_white = balanced_accuracy_score(y_test_small[group_r_test_small==0], y_pred_fair_r[group_r_test_small==0])\n",
    "\n",
    "balanced_basic_white = balanced_accuracy_score(y_test_small[group_r_test_small==1], log_y_pred[group_r_test_small==1])\n",
    "balanced_basic_non_white = balanced_accuracy_score(y_test_small[group_r_test_small==0], log_y_pred[group_r_test_small==0])"
   ]
  },
  {
   "cell_type": "code",
   "execution_count": 60,
   "metadata": {},
   "outputs": [
    {
     "data": {
      "image/png": "[encoded data removed]",
      "text/plain": [
       "<Figure size 600x400 with 1 Axes>"
      ]
     },
     "metadata": {},
     "output_type": "display_data"
    }
   ],
   "source": [
    "\n",
    "# Accuracy values\n",
    "balanced_races = [\"Balanced \\nFair white\", \"Balanced \\nFair non white\", \"Balanced \\nBasic white\", \"Balanced \\nBasic non wite\"]\n",
    "balanced_accuracies_r = [balanced_fair_white, balanced_fair_non_white, balanced_basic_white, balanced_basic_non_white]\n",
    "\n",
    "# Plot the accuracies\n",
    "plt.figure(figsize=(6, 4))\n",
    "plt.bar(balanced_races, balanced_accuracies_r, color=['orange', 'teal'])\n",
    "plt.ylim(0, 1)\n",
    "plt.ylabel(\"Accuracy\")\n",
    "plt.title(\"Comparison of fair and basic model for race\")\n",
    "plt.xticks(rotation=0)\n",
    "\n",
    "# Display values on bars\n",
    "for i, acc in enumerate(balanced_accuracies_r):\n",
    "    plt.text(i, acc + 0.02, f\"{acc:.4f}\", ha='center', fontsize=12)\n",
    "\n",
    "plt.show()"
   ]
  },
  {
   "cell_type": "code",
   "execution_count": null,
   "metadata": {},
   "outputs": [],
   "source": []
  }
 ],
 "metadata": {
  "kernelspec": {
   "display_name": "base",
   "language": "python",
   "name": "python3"
  },
  "language_info": {
   "codemirror_mode": {
    "name": "ipython",
    "version": 3
   },
   "file_extension": ".py",
   "mimetype": "text/x-python",
   "name": "python",
   "nbconvert_exporter": "python",
   "pygments_lexer": "ipython3",
   "version": "3.9.12"
  },
  "orig_nbformat": 4
 },
 "nbformat": 4,
 "nbformat_minor": 2
}
